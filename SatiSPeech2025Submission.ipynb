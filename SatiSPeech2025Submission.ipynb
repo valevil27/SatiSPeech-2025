{
  "cells": [
    {
      "cell_type": "markdown",
      "metadata": {
        "id": "z6BtqOe528g8"
      },
      "source": [
        "# SatiSPeech 2025 Submission example with the baselines\n",
        "This codalab is an example of how to submit the baseline based on BoW and MFCC feature models for the shared-task SatiSPeech 2025.\n",
        "\n",
        "Here we show how to load the training dataset, how to extract the MFCC features from the audios and train 2 baseline based on Suppor Vector Machines with text features and acoustic features, and generate the submission file.\n",
        "\n",
        "More information regarding the shared task can be found at: https://codalab.lisn.upsaclay.fr/competitions/21501\n",
        "\n",
        "**IMPORTANT NOTE:** Please, note that for obtaining a valid KEY to download the audio segments, you should contact with the organisers using the Codalab plataform.\n"
      ]
    },
    {
      "cell_type": "code",
      "execution_count": null,
      "metadata": {
        "id": "hRddQL1ekExO"
      },
      "outputs": [],
      "source": [
        "# The first step is download the required libraries\n",
        "%pip install librosa\n",
        "%pip install pandas\n",
        "%pip install -U scikit-learn"
      ]
    },
    {
      "cell_type": "code",
      "execution_count": 1,
      "metadata": {
        "id": "GIivi1ztlkB3"
      },
      "outputs": [],
      "source": [
        "\n",
        " # Load the required libraries\n",
        "import pandas as pd\n",
        "import numpy as np\n",
        "import librosa\n",
        "from sklearn.svm import SVC\n",
        "from sklearn.svm import LinearSVC\n",
        "from sklearn.preprocessing import StandardScaler\n",
        "from sklearn.preprocessing import MinMaxScaler\n",
        "from sklearn.feature_extraction.text import TfidfVectorizer\n",
        "from sklearn.model_selection import GridSearchCV\n",
        "from sklearn.metrics import classification_report"
      ]
    },
    {
      "cell_type": "code",
      "execution_count": 2,
      "metadata": {
        "id": "SYXOiZJlmC6o"
      },
      "outputs": [],
      "source": [
        "# Download training and test audios and CSV files\n",
        "# Please, replace %PASTE_YOUR_ID_HERE% with the API key provided.\n",
        "# !wget https://pln.inf.um.es/corpora/satispeech/2025/dataset/download/train?api_key=80d959b40c740d703854c35610218664 -O segments_train.zip\n",
        "# !wget https://pln.inf.um.es/corpora/satispeech/2025/dataset/download/test?api_key=80d959b40c740d703854c35610218664 -O segments_test.zip\n",
        "# !wget https://pln.inf.um.es/corpora/satispeech/2025/SatiSPeech_phase_2_train_public.csv -O SatiSPeech_phase_2_train_public.csv\n",
        "# !wget https://pln.inf.um.es/corpora/satispeech/2025/SatiSPeech_phase_2_test_public.csv -O SatiSPeech_phase_2_test_public.csv\n",
        "# Unzip the audios file\n",
        "# !unzip segments_train.zip -d train_segments\n",
        "# !unzip segments_test.zip -d test_segments"
      ]
    },
    {
      "cell_type": "markdown",
      "metadata": {
        "id": "1MXB36lT7dFV"
      },
      "source": [
        "# Load Data"
      ]
    },
    {
      "cell_type": "code",
      "execution_count": 10,
      "metadata": {
        "id": "lrmmLlI_mabj"
      },
      "outputs": [
        {
          "data": {
            "application/vnd.microsoft.datawrangler.viewer.v0+json": {
              "columns": [
                {
                  "name": "index",
                  "rawType": "int64",
                  "type": "integer"
                },
                {
                  "name": "uid",
                  "rawType": "object",
                  "type": "string"
                },
                {
                  "name": "transcription",
                  "rawType": "object",
                  "type": "string"
                }
              ],
              "conversionMethod": "pd.DataFrame",
              "ref": "bd75bb69-12a6-49bd-8526-2b31379d853e",
              "rows": [
                [
                  "0",
                  "fa8196b4-166b7bb9.mp3",
                  "La Comunidad de Madrid hace frente así a la saturación de las peluquerías provocada por la desescalada. Gradualmente, los peluqueros van tomando el relevo de los sanitarios y, de hecho, los españoles ya están saliendo a los balcones a aplaudir a estos héroes que se enfrentan cada día a melenas descontroladas y, en algunos casos, irrecuperables."
                ],
                [
                  "1",
                  "b407b2e7-63887829.mp3",
                  "Los féretros han sido trasladados a Chiclana y a Granada, que son las ciudades de los fallecidos. Precisamente en Granada, el superviviente Juan Bolívar ha ofrecido esta tarde una emotiva rueda de prensa. Él ha relatado la pesadilla que vivió con sus compañeros y también las numerosas negligencias que cometieron los servicios de rescate de Marruecos. Vamos ya a Granada. Alicia Ariza."
                ],
                [
                  "2",
                  "91cfff91-f54d3c31.mp3",
                  "Esto que parece una obviedad, ser contundentes ante el menor indicio de corrupción, pues no hay más que repasar la historia reciente de nuestro país para ver que no siempre todos los partidos han tenido un comportamiento similar. Por tanto, ahora lo que toca es esperar el procedimiento judicial con respeto y desde luego en el gobierno lo que deseamos es que se esclarezcan todos los hechos que están en esa causa conociéndose."
                ],
                [
                  "3",
                  "27e25c21-1cf4072b.mp3",
                  "Usted mismo reconoce que cada vez se parece más a Fraga, por la facilidad de ambos para comenzar a llorar. ¿Qué es lo que le emocionó? Los aplausos cuando usted anunció ya públicamente que iba a ir por un tercer mandato, se lo digo porque empezó su discurso que daba la sensación de que iba a abandonar la política, de que lo iba a dejar, tenía casi aire de despedida el arranque del discurso."
                ],
                [
                  "4",
                  "bb4ddfe5-fe837a69.mp3",
                  "Vamos a escuchar a todos los miembros del Comité Federal, punto uno, y sobre todo, lo más importante, a los que van a dar la cara por las políticas progresistas en mayo, dentro de ocho o nueve meses, a los alcaldes, a los que se van a presentar a las alcaldías, a presidentes de comunidad y a los que se van a presentar. Y les vamos a preguntar también, ¿cuándo creéis que instrumentalmente son más útiles al proyecto socialista que queremos recuperar para que sea mayoritario? Las primarias."
                ],
                [
                  "5",
                  "1a3fbe13-b61e94d3.mp3",
                  "Perfecto, muy bien. También involucramos lo que sería el core. Hay mucha gente cuando empieza haciendo dominadas, lo que hace es que se olvida de que el core también está trabajando. Eso es. Pone los pies para atrás, fuerza demasiado desde la lumbar, fuerza de otros lados y no trabaja desde lo que sería involucrando todo el cuerpo. Cuando no se involucra el core, los pies tienden a irse hacia adelante. Mírala una como al principio."
                ],
                [
                  "6",
                  "2ae3a392-193e5d67.mp3",
                  "Señorías, la única razón por la que está teniendo lugar este debate es porque la mujer del presidente del gobierno está siendo investigada en un juzgado por presuntos delitos de corrupción en los negocios y en tráfico de infuerzas."
                ],
                [
                  "7",
                  "953b2ebc-12f9a58e.mp3",
                  "Siguen las negociaciones después de las elecciones del 24M, en una semana en la que vamos a conocer ya los primeros cambios que hará Rajoy en el Partido Popular. El presidente ha convocado a la dirección de su partido este jueves, y lo ha dicho en un encuentro con periodistas en su visita a la Expo de Milán. En esa conversación ha estado nuestra compañera Pilar Ruy Pérez. Pilar, ¿qué es lo que os ha dicho hoy el presidente?"
                ],
                [
                  "8",
                  "13d68ed5-48f566ca.mp3",
                  "Una candidatura del Partido Socialista. También quiero agradecer el esfuerzo de tantos militantes, de tantos interventores que contribuyeron a que se desarrollara el día electoral, el día de las elecciones, de forma absolutamente normal, con una extraordinaria normalidad democrática. Y a todos los galegos y galegas, evidentemente, que efectivamente colaboraron para que esta jornada fuera así, de absoluta normalidad democrática."
                ],
                [
                  "9",
                  "720e792a-b61d4926.mp3",
                  "Por la noche del viernes, aquellos que lo habían logrado fueron trasladados a un refugio en Lampedusa. Entre ellos, un matrimonio con su hijo en brazos, después de haber visto a su otro niño hundirse en el mar frente a sus ojos, sin poder salvar a los dos. En el naufragio murieron al menos 50 personas."
                ],
                [
                  "10",
                  "87f5b8f4-51f7fa0f.mp3",
                  "La inversión extranjera creció en España un 20% el año pasado y se espera que en este año 2015 siga por ese mismo camino. Madrid, por ejemplo, se sitúa entre los 10 destinos más atractivos del mundo para fondos y empresas del sector inmobiliario. Un ejemplo de macroproyecto con inversiones que viene desde el exterior lo encontramos ahora esta vez allí, en el lugar donde tú estás."
                ],
                [
                  "11",
                  "f7c83f85-119b9654.mp3",
                  "Las víctimas contrataron los servicios de una empresa que hacía el trayecto hasta el aeropuerto de Valencia. Partieron de Almería y tenían previsto coger un vuelo de vuelta a Rumanía. Entre los fallecidos hay un matrimonio y sus dos hijos de 7 y 4 años. Andrea ha perdido a su madre que volvía a casa tras pasar unos días de vacaciones. Pide que se aclaren las causas."
                ],
                [
                  "12",
                  "ae610db5-24be1413.mp3",
                  "Así lo ha reconocido el ministro de Transportes, Óscar Puente, que desconoce si en ese momento había algún tren con el que hubiera impactado de no haber cambiado su trayectoria, aspecto que ha dicho esclarecerá la investigación abierta."
                ],
                [
                  "13",
                  "13f93ebc-bb9cf0d8.mp3",
                  "Para combatir el Zika, Reino Unido trabaja con mosquitos modificados genéticamente. Estos machos se reproducirán con hembras salvajes cuyas crías morirían rápidamente. Los podemos enviar con mucha facilidad por todo el mundo y eliminar el mosquito. En Brasil ya se ha liberado a pequeña escala y si la Agencia de Alimentos y Medicamentos de Estados Unidos lo aprueba, el organismo modificado genéticamente podría soltarse también en Florida."
                ],
                [
                  "14",
                  "3f5e6212-a5f16b32.mp3",
                  "No, porque normalmente está flojo, y estaba flojo hasta que vino un arroz que yo me metí a salvar a Guay. Ahí vino un helicóptero y nos pusieron los arneses y nos subieron para allá arriba. Los menores de 12 años salieron ilesos del incidente, pero sus padres que presenciaron el angustioso rescate se llevaron un buen susto. Hemos estado muy asustados, pues claro, los veíamos ahí en la piedra y las olas que venían y..."
                ],
                [
                  "15",
                  "b5b74b8c-f7691608.mp3",
                  "Las mayores dudas recaen en Sumar y el Carrequín Podemos, tras la escisión de esta franja de la izquierda. Ambos confían en presenciar un cambio de rumbo en Euskadi, una emoción que, según la candidata de Sumar, Alba García, le hizo olvidar la papeleta en casa."
                ],
                [
                  "16",
                  "7706e38f-8bc2cb2b.mp3",
                  "Fue una eliminación justa, pero también cruel. Una selección de leyenda, la mejor de nuestra historia, se va de Brasil con la sensación de que un ciclo ha terminado. La debacle ante Holanda y el batacazo ante Chile suponen el punto final para una generación que lo ganó todo al encadenar dos Eurocopas y un Mundial. La derrota abre ahora el debate sobre el relevo en la Roja."
                ],
                [
                  "17",
                  "59034fdc-412d5717.mp3",
                  "Y el secuestrador de Ciudad Lineal en Madrid ha vuelto a actuar. Una niña de 7 años fue raptada anoche durante dos horas en este distrito madrileño. La policía cree que se trata del mismo individuo que ha secuestrado en los últimos meses a otras dos niñas en ese mismo barrio. Los agentes están peinando la zona en estos momentos."
                ],
                [
                  "18",
                  "fefdb7ab-af103599.mp3",
                  "En distintas situaciones hemos conseguido acordar un texto inédito porque esto se pretendió en otros momentos de años anteriores ante llegada de inmigración, sobre todo de menores no acompañados, a distintos lugares de España y finalmente hemos conseguido llegar a un acuerdo. Ese acuerdo fue presentado a los grupos parlamentarios y precisamente fue, entre otros, el Partido Popular quien pidió que lo lleváramos a una conferencia sectorial de infancia y"
                ],
                [
                  "19",
                  "9610fbc6-83f252f8.mp3",
                  "Diez personas murieron en México a manos de un grupo armado en las afueras de Ciudad Juárez, cerca de la frontera con Estados Unidos. Las autoridades creen que se trató de un acto de venganza en una zona donde operan varios carteles de la droga."
                ],
                [
                  "20",
                  "b664dd05-12a70eba.mp3",
                  "Autoridades en Chile y Argentina ordenaron la evacuación de más de 3.000 personas que viven cerca del volcán Copahue debido al incremento de la actividad sísmica. Los centros de emergencia emitieron una alerta roja a la más alta ante la posibilidad de una nueva erupción."
                ],
                [
                  "21",
                  "7550b9f9-697e808c.mp3",
                  "Y ya teniendo las claves de la persona, el nombre y el apellido, los ciberdelincuentes pueden usurpar la identidad. Los estafadores lo que hacen es coger y crear documentación falsa a partir de todos los datos que son capaces de recolectar en Internet. Para evitar estas estafas, la policía aconseja no facilitar nuestros datos en Internet si no estamos seguros del sitio web y también renovar nuestras contraseñas cada seis meses."
                ],
                [
                  "22",
                  "bda3cd7c-f2409f6b.mp3",
                  "Y puedo decir con orgullo que ese gran respaldo es fruto del trabajo bien hecho, un proyecto basado en la libertad que ha proporcionado a Madrid prosperidad y unos excelentes servicios públicos pensando en todos los madrileños."
                ],
                [
                  "23",
                  "69d214db-75a7bf6e.mp3",
                  "De hecho tengo un mal cuerpo porque tengo que pensar, no dejamos, no hemos dormido toda la noche. ¿Qué más podemos hacer? ¿Qué más podemos enviar? ¿A qué municipio llegar? ¿Qué más? No sé. Vamos a hacer esto y luego con el tiempo, pues por supuesto se van a sacar conclusiones y se verá, pero no podemos más que ponernos en el lugar de esa gente."
                ],
                [
                  "24",
                  "1679beae-c46b04be.mp3",
                  "¿Cómo votar? Bien, encontrarás las papeletas electorales en el recibidor de tu casa junto al resto de tu correo ordinario, junto a las facturas. Ten cuidado aquí en este punto porque si te confundes y al final lo que envías a correos no es una papeleta electoral sino una factura de, por ejemplo, Endesa, eso será contabilizado como un voto a favor del PP o del PSOE."
                ],
                [
                  "25",
                  "ed0bb643-d2d2e2be.mp3",
                  "y que, como decía, efectivamente contribuyeron a que todo funcionara bien y con absoluta normalidad. Acabo de llamar a Alfonso Rueda para trasladarle mi felicitación personal y a los Partidos Socialistas de Galicia en su conjunto por la mayoría conseguida por el Partido Popular en estas elecciones. Los socialistas somos demócratas y aceptamos sin reservas el mandato de las urnas."
                ],
                [
                  "26",
                  "cd14e997-7a51163b.mp3",
                  "Que ya ETA sabía que no podía hacer nada. En el momento que la Guardia Civil tenía sus equipos especiales del GAR, del WEI, etc. ¿Qué iban a hacer? En el momento que el Servicio de Inteligencia tenía los medios que tenía, ya era imposible para ETA seguir adelante. La policía tenía sus infiltrados, etc. también. Y tenía unas unidades muy especiales, los otros..."
                ],
                [
                  "27",
                  "7ed5d13a-97354f7f.mp3",
                  "Porque tendrá que ser el señor Aldama quien pruebe esas insinuaciones y esas acusaciones. Yo desde luego le puedo garantizar que estamos tranquilos porque en lo que respecta a mi persona, en lo que respecta a mi gobierno actual, en lo que respecta a mi organización, al Partido Socialista Obrero Español, todo lo que ha dicho este señor es categóricamente falso."
                ],
                [
                  "28",
                  "e6972969-584169a7.mp3",
                  "Son inocentes. Un comunicado escueto donde también explican cómo los tres imputados han puesto sus actas a disposición del partido y cómo éste las ha aceptado. Algo que viene a despejar el primer problema de Usana Díaz a pocos días de ser investida como presidenta de la Junta de Andalucía."
                ],
                [
                  "29",
                  "7a0198f0-44a551cd.mp3",
                  "Desde luego Pablo Iglesias lo tiene claro, dice que si el PSOE permite con su abstención que Rajoy llegue a la Moncloa, se habrá convertido en un socio, ha dicho, más o menos intenso del Partido Popular. Así que Pablo Iglesias también aumenta la presión sobre los socialistas y le recuerda a Sánchez que hay otra posibilidad, un gobierno de izquierdas que deje fuera del gobierno para siempre a Mariano Rajoy."
                ],
                [
                  "30",
                  "540048ac-1d9b9732.mp3",
                  "y el tipo de formación que eso supone para los chicos. Porque los chicos en esta escuela no simplemente reciben una formación académica para su vida intelectual o para su futuro profesional, sino que integran el factor de la música en su vida como algo tan importante como los estudios académicos."
                ],
                [
                  "31",
                  "f3493b4d-f51933eb.mp3",
                  "En este momento toda la Unión Europea está en una posición muy similar. Los griegos tienen que devolver lo que deben, tienen que hacer reformas y a partir de ahí les podemos seguir ayudando. Yo no creo que haya nadie en este momento trabajando en dos monedas en Grecia porque con la mejor buena fe estamos todavía todos trabajando en que se alcance un acuerdo este fin de semana."
                ],
                [
                  "32",
                  "7c56da6c-ee1cf0d0.mp3",
                  "Después de que Taka, la mayor energética de Emiratos Árabes, haya confirmado que negocia una OPA para hacerse con el control de Naturgy, con los dos fondos dueños del 40% del capital total de la compañía, el Gobierno afirma que tiene los instrumentos necesarios para proteger los intereses de empresas estratégicas para España, como es Naturgy."
                ],
                [
                  "33",
                  "ee6b5afa-22f15a8a.mp3",
                  "La cantante está condenada a dos años de prisión por un delito de blanqueo de capitales. Su entrada en la cárcel es cuestión de días. Los magistrados aseguran que Isabel Pantoja actuó con desprecio absoluto a los vecinos de Marbella. Dice que aprovechó su relación sentimental con Julián Muñoz para enriquecerse."
                ],
                [
                  "34",
                  "1ccdd668-a5a8bb00.mp3",
                  "Y cuando las cosas son graves se requiere respuestas concretas, valientes y asumir las responsabilidades. En el día de ayer las informaciones vinculadas a la presidencia del Congreso no fueron ni aclaradas ni afrontadas convenientemente y las novedades de hoy"
                ],
                [
                  "35",
                  "2b9a307f-62bb94a9.mp3",
                  "El trabajo de la policía científica termina tras analizar la escena del crimen y registrar el interior. Ahora comienza el reto de devolver la normalidad a un paseo marítimo donde la sangre en el asfalto y las pertenencias abandonadas de las víctimas recuerdan que aquí han muerto más de 80 personas. Imposible también porque el lugar se ha llenado de altares improvisados en recuerdo de los fallecidos."
                ],
                [
                  "36",
                  "dbe2c008-1bb58fc6.mp3",
                  "Esta mañana el Consejo de Ministros ha dado el visto bueno a la concesión de la nacionalidad española de Ilia Tupuria. Saben que es un luchador de referencia mundial en artes marciales mixtas."
                ],
                [
                  "37",
                  "8324a427-5ca29f0c.mp3",
                  "Dios reconoce ahora que no se lavó las manos al crear el universo. Los teólogos sospechan que esta podría ser la causa de que existan los virus y las bacterias."
                ],
                [
                  "38",
                  "4434a1c1-548c848e.mp3",
                  "Sí, sí, ellos pagaban. Coldo y Víctor Gonzalo Aldama, sus cosas las pagaban. Cuando iba acumulando, nosotros íbamos acumulando, a raíz de su seguridad en la telefonía, un teléfono conseguía, cada teléfono de país costaba casi 200 euros. Entonces, pedía un teléfono..."
                ],
                [
                  "39",
                  "8073b706-950bd17e.mp3",
                  "Rajoy volvió a criticar ayer el veto permanente de Pedro Sánchez al PP y en eso decíamos que también se le sumó Albert Rivera. Ambos reprocharon al PSOE que empiece ya la campaña prácticamente vetando al Partido Popular. El caso es que luego no predican con el ejemplo porque comentábamos ahora que en cuatro horas no se cruzaron la mirada, no se saludaron."
                ],
                [
                  "40",
                  "1ef74515-8d75c0f2.mp3",
                  "Sumar desconoce la propuesta exacta que se está negociando y desconocemos el estado actual del diálogo que se está emprendiendo sobre esta materia. Y tres, creemos que por lo que conocemos por ustedes, los medios de comunicación, esta propuesta parece que no va en la dirección correcta por la afectación general que puede tener."
                ],
                [
                  "41",
                  "18913dc3-e40dcbef.mp3",
                  "Facebook cumple este martes 10 años en los cuales pasó de ser una mini red social de estudiantes a convertirse en un sitio con más de 1.200 millones de usuarios. Alcanza su aniversario en medio de beneficios, pero los analistas se preguntan si alcanzará su segunda década de vida."
                ],
                [
                  "42",
                  "fc5dc4fd-9f2904c1.mp3",
                  "Operación contra el terrorismo yihadista en Gandía, Valencia. Una marroquí de 18 años que pretendía unirse a Estado Islámico ha sido detenida hoy. La joven realizaba apología del terrorismo e intentaba captar a otras mujeres. La Guardia Civil ha registrado su casa durante toda la mañana. Sepamos la última hora. Carlos Villán."
                ],
                [
                  "43",
                  "cb6c2469-58cc1377.mp3",
                  "Un proyecto científico desarrollado por el Centro Tecnológico Vasco, Aztec, y la empresa aeroespacial Elecnor Deimos, que compartirá los datos obtenidos a través de sus satélites. Datos que servirán para impulsar nuevos estudios que ayudarán a mejorar el ecosistema marino del que dependemos."
                ],
                [
                  "44",
                  "3e2e29b6-af47ec8a.mp3",
                  "Con este fondo de librería llamado Chinese Market Crowd, nos estás diciendo que los mercados de comida exótica de China están completamente abiertos ya y son completamente seguros."
                ],
                [
                  "45",
                  "b9292b96-77a06176.mp3",
                  "En estos momentos siguen el baño, las bajas se cuentan por varios miles y el ejército ruso ha tomado la Casa Blanca ante la pasividad de sus hombres, bloqueados y sin nadie al mando."
                ],
                [
                  "46",
                  "9f015f8e-cc8d5a2c.mp3",
                  "Ucrania ha sido la otra piedra angular de la reunión. Tras el derribo del Boeing, los ministros, presionados por la opinión pública, estudian ampliar las sanciones impuestas a Rusia. La primera exigencia es que el lugar del siniestro sea seguro y puedan entrar los investigadores internacionales. España propone desligar las sanciones de la investigación, ya que ésta puede extenderse en el tiempo y no ser concluyente."
                ],
                [
                  "47",
                  "3f1e7aea-b28bd37d.mp3",
                  "Usted y su partido llevan días intentando hacernos creer que un personaje de su manual de resistencia, la sombra para todo, del ministro para todo, del secretario de organización para todo y ahijado político del secretario de organización actual, el señor Santos Zerdán, no era nadie en el Partido Socialista, no era nadie en el Gobierno y actuaba siempre por su cuenta."
                ],
                [
                  "48",
                  "a28a2f1a-e3425fa1.mp3",
                  "Gerard Piqué, imputado. La jueza de Majadahonda, que investiga posibles ilegalidades en el traslado de la Supercopa de España a Arabia Saudí, ha acordado investigar al exfutbolista y empresario por llevarse de esa operación una comisión de 4 millones de euros anuales."
                ],
                [
                  "49",
                  "28d2fb5a-b745da1f.mp3",
                  "Europa está acercando a Putin, aunque el presidente ruso sigue sin estar en la lista negra de sancionados por la anexión de Crimea. Anoche los 28 decidieron ampliar esa lista hasta 33 personalidades rusas y ucranianas y ahora incluyen altos cargos cada vez más cercanos a Putin. Les puedo asegurar que entre los nuevos nombres algunos son realmente de alto rango."
                ]
              ],
              "shape": {
                "columns": 2,
                "rows": 2000
              }
            },
            "text/html": [
              "<div>\n",
              "<style scoped>\n",
              "    .dataframe tbody tr th:only-of-type {\n",
              "        vertical-align: middle;\n",
              "    }\n",
              "\n",
              "    .dataframe tbody tr th {\n",
              "        vertical-align: top;\n",
              "    }\n",
              "\n",
              "    .dataframe thead th {\n",
              "        text-align: right;\n",
              "    }\n",
              "</style>\n",
              "<table border=\"1\" class=\"dataframe\">\n",
              "  <thead>\n",
              "    <tr style=\"text-align: right;\">\n",
              "      <th></th>\n",
              "      <th>uid</th>\n",
              "      <th>transcription</th>\n",
              "    </tr>\n",
              "  </thead>\n",
              "  <tbody>\n",
              "    <tr>\n",
              "      <th>0</th>\n",
              "      <td>fa8196b4-166b7bb9.mp3</td>\n",
              "      <td>La Comunidad de Madrid hace frente así a la sa...</td>\n",
              "    </tr>\n",
              "    <tr>\n",
              "      <th>1</th>\n",
              "      <td>b407b2e7-63887829.mp3</td>\n",
              "      <td>Los féretros han sido trasladados a Chiclana y...</td>\n",
              "    </tr>\n",
              "    <tr>\n",
              "      <th>2</th>\n",
              "      <td>91cfff91-f54d3c31.mp3</td>\n",
              "      <td>Esto que parece una obviedad, ser contundentes...</td>\n",
              "    </tr>\n",
              "    <tr>\n",
              "      <th>3</th>\n",
              "      <td>27e25c21-1cf4072b.mp3</td>\n",
              "      <td>Usted mismo reconoce que cada vez se parece má...</td>\n",
              "    </tr>\n",
              "    <tr>\n",
              "      <th>4</th>\n",
              "      <td>bb4ddfe5-fe837a69.mp3</td>\n",
              "      <td>Vamos a escuchar a todos los miembros del Comi...</td>\n",
              "    </tr>\n",
              "    <tr>\n",
              "      <th>...</th>\n",
              "      <td>...</td>\n",
              "      <td>...</td>\n",
              "    </tr>\n",
              "    <tr>\n",
              "      <th>1995</th>\n",
              "      <td>0dc2352f-e334aca3.mp3</td>\n",
              "      <td>Tratan de superarlo en estos centros, pero a d...</td>\n",
              "    </tr>\n",
              "    <tr>\n",
              "      <th>1996</th>\n",
              "      <td>830f9896-e3b18f45.mp3</td>\n",
              "      <td>Afuera, seguidores del partido de extrema dere...</td>\n",
              "    </tr>\n",
              "    <tr>\n",
              "      <th>1997</th>\n",
              "      <td>31c41168-febf1975.mp3</td>\n",
              "      <td>Niña, una muestra que reúne 48 obras de arte c...</td>\n",
              "    </tr>\n",
              "    <tr>\n",
              "      <th>1998</th>\n",
              "      <td>975631e6-fb7e4017.mp3</td>\n",
              "      <td>Pero no hemos conseguido esa respuesta unida q...</td>\n",
              "    </tr>\n",
              "    <tr>\n",
              "      <th>1999</th>\n",
              "      <td>af48d481-d8b8db3c.mp3</td>\n",
              "      <td>Una alta participación es también el mayor des...</td>\n",
              "    </tr>\n",
              "  </tbody>\n",
              "</table>\n",
              "<p>2000 rows × 2 columns</p>\n",
              "</div>"
            ],
            "text/plain": [
              "                        uid                                      transcription\n",
              "0     fa8196b4-166b7bb9.mp3  La Comunidad de Madrid hace frente así a la sa...\n",
              "1     b407b2e7-63887829.mp3  Los féretros han sido trasladados a Chiclana y...\n",
              "2     91cfff91-f54d3c31.mp3  Esto que parece una obviedad, ser contundentes...\n",
              "3     27e25c21-1cf4072b.mp3  Usted mismo reconoce que cada vez se parece má...\n",
              "4     bb4ddfe5-fe837a69.mp3  Vamos a escuchar a todos los miembros del Comi...\n",
              "...                     ...                                                ...\n",
              "1995  0dc2352f-e334aca3.mp3  Tratan de superarlo en estos centros, pero a d...\n",
              "1996  830f9896-e3b18f45.mp3  Afuera, seguidores del partido de extrema dere...\n",
              "1997  31c41168-febf1975.mp3  Niña, una muestra que reúne 48 obras de arte c...\n",
              "1998  975631e6-fb7e4017.mp3  Pero no hemos conseguido esa respuesta unida q...\n",
              "1999  af48d481-d8b8db3c.mp3  Una alta participación es también el mayor des...\n",
              "\n",
              "[2000 rows x 2 columns]"
            ]
          },
          "execution_count": 10,
          "metadata": {},
          "output_type": "execute_result"
        }
      ],
      "source": [
        "# Read the CSV files\n",
        "path = \"data/public_data/\"\n",
        "train_df = pd.read_csv(path + \"SatiSPeech_phase_2_train_public.csv\")\n",
        "test_df = pd.read_csv(path + \"SatiSPeech_phase_2_test_public.csv\")\n",
        "test_df"
      ]
    },
    {
      "cell_type": "code",
      "execution_count": 11,
      "metadata": {
        "id": "JP3uXxV-mnv9"
      },
      "outputs": [
        {
          "data": {
            "application/vnd.microsoft.datawrangler.viewer.v0+json": {
              "columns": [
                {
                  "name": "index",
                  "rawType": "int64",
                  "type": "integer"
                },
                {
                  "name": "uid",
                  "rawType": "object",
                  "type": "string"
                },
                {
                  "name": "transcription",
                  "rawType": "object",
                  "type": "string"
                },
                {
                  "name": "path",
                  "rawType": "object",
                  "type": "string"
                }
              ],
              "conversionMethod": "pd.DataFrame",
              "ref": "b5717f94-8da8-42e2-9832-2df0f72b7027",
              "rows": [
                [
                  "0",
                  "fa8196b4-166b7bb9.mp3",
                  "La Comunidad de Madrid hace frente así a la saturación de las peluquerías provocada por la desescalada. Gradualmente, los peluqueros van tomando el relevo de los sanitarios y, de hecho, los españoles ya están saliendo a los balcones a aplaudir a estos héroes que se enfrentan cada día a melenas descontroladas y, en algunos casos, irrecuperables.",
                  "data/public_data/segments_test/fa8196b4-166b7bb9.mp3"
                ],
                [
                  "1",
                  "b407b2e7-63887829.mp3",
                  "Los féretros han sido trasladados a Chiclana y a Granada, que son las ciudades de los fallecidos. Precisamente en Granada, el superviviente Juan Bolívar ha ofrecido esta tarde una emotiva rueda de prensa. Él ha relatado la pesadilla que vivió con sus compañeros y también las numerosas negligencias que cometieron los servicios de rescate de Marruecos. Vamos ya a Granada. Alicia Ariza.",
                  "data/public_data/segments_test/b407b2e7-63887829.mp3"
                ],
                [
                  "2",
                  "91cfff91-f54d3c31.mp3",
                  "Esto que parece una obviedad, ser contundentes ante el menor indicio de corrupción, pues no hay más que repasar la historia reciente de nuestro país para ver que no siempre todos los partidos han tenido un comportamiento similar. Por tanto, ahora lo que toca es esperar el procedimiento judicial con respeto y desde luego en el gobierno lo que deseamos es que se esclarezcan todos los hechos que están en esa causa conociéndose.",
                  "data/public_data/segments_test/91cfff91-f54d3c31.mp3"
                ],
                [
                  "3",
                  "27e25c21-1cf4072b.mp3",
                  "Usted mismo reconoce que cada vez se parece más a Fraga, por la facilidad de ambos para comenzar a llorar. ¿Qué es lo que le emocionó? Los aplausos cuando usted anunció ya públicamente que iba a ir por un tercer mandato, se lo digo porque empezó su discurso que daba la sensación de que iba a abandonar la política, de que lo iba a dejar, tenía casi aire de despedida el arranque del discurso.",
                  "data/public_data/segments_test/27e25c21-1cf4072b.mp3"
                ],
                [
                  "4",
                  "bb4ddfe5-fe837a69.mp3",
                  "Vamos a escuchar a todos los miembros del Comité Federal, punto uno, y sobre todo, lo más importante, a los que van a dar la cara por las políticas progresistas en mayo, dentro de ocho o nueve meses, a los alcaldes, a los que se van a presentar a las alcaldías, a presidentes de comunidad y a los que se van a presentar. Y les vamos a preguntar también, ¿cuándo creéis que instrumentalmente son más útiles al proyecto socialista que queremos recuperar para que sea mayoritario? Las primarias.",
                  "data/public_data/segments_test/bb4ddfe5-fe837a69.mp3"
                ],
                [
                  "5",
                  "1a3fbe13-b61e94d3.mp3",
                  "Perfecto, muy bien. También involucramos lo que sería el core. Hay mucha gente cuando empieza haciendo dominadas, lo que hace es que se olvida de que el core también está trabajando. Eso es. Pone los pies para atrás, fuerza demasiado desde la lumbar, fuerza de otros lados y no trabaja desde lo que sería involucrando todo el cuerpo. Cuando no se involucra el core, los pies tienden a irse hacia adelante. Mírala una como al principio.",
                  "data/public_data/segments_test/1a3fbe13-b61e94d3.mp3"
                ],
                [
                  "6",
                  "2ae3a392-193e5d67.mp3",
                  "Señorías, la única razón por la que está teniendo lugar este debate es porque la mujer del presidente del gobierno está siendo investigada en un juzgado por presuntos delitos de corrupción en los negocios y en tráfico de infuerzas.",
                  "data/public_data/segments_test/2ae3a392-193e5d67.mp3"
                ],
                [
                  "7",
                  "953b2ebc-12f9a58e.mp3",
                  "Siguen las negociaciones después de las elecciones del 24M, en una semana en la que vamos a conocer ya los primeros cambios que hará Rajoy en el Partido Popular. El presidente ha convocado a la dirección de su partido este jueves, y lo ha dicho en un encuentro con periodistas en su visita a la Expo de Milán. En esa conversación ha estado nuestra compañera Pilar Ruy Pérez. Pilar, ¿qué es lo que os ha dicho hoy el presidente?",
                  "data/public_data/segments_test/953b2ebc-12f9a58e.mp3"
                ],
                [
                  "8",
                  "13d68ed5-48f566ca.mp3",
                  "Una candidatura del Partido Socialista. También quiero agradecer el esfuerzo de tantos militantes, de tantos interventores que contribuyeron a que se desarrollara el día electoral, el día de las elecciones, de forma absolutamente normal, con una extraordinaria normalidad democrática. Y a todos los galegos y galegas, evidentemente, que efectivamente colaboraron para que esta jornada fuera así, de absoluta normalidad democrática.",
                  "data/public_data/segments_test/13d68ed5-48f566ca.mp3"
                ],
                [
                  "9",
                  "720e792a-b61d4926.mp3",
                  "Por la noche del viernes, aquellos que lo habían logrado fueron trasladados a un refugio en Lampedusa. Entre ellos, un matrimonio con su hijo en brazos, después de haber visto a su otro niño hundirse en el mar frente a sus ojos, sin poder salvar a los dos. En el naufragio murieron al menos 50 personas.",
                  "data/public_data/segments_test/720e792a-b61d4926.mp3"
                ],
                [
                  "10",
                  "87f5b8f4-51f7fa0f.mp3",
                  "La inversión extranjera creció en España un 20% el año pasado y se espera que en este año 2015 siga por ese mismo camino. Madrid, por ejemplo, se sitúa entre los 10 destinos más atractivos del mundo para fondos y empresas del sector inmobiliario. Un ejemplo de macroproyecto con inversiones que viene desde el exterior lo encontramos ahora esta vez allí, en el lugar donde tú estás.",
                  "data/public_data/segments_test/87f5b8f4-51f7fa0f.mp3"
                ],
                [
                  "11",
                  "f7c83f85-119b9654.mp3",
                  "Las víctimas contrataron los servicios de una empresa que hacía el trayecto hasta el aeropuerto de Valencia. Partieron de Almería y tenían previsto coger un vuelo de vuelta a Rumanía. Entre los fallecidos hay un matrimonio y sus dos hijos de 7 y 4 años. Andrea ha perdido a su madre que volvía a casa tras pasar unos días de vacaciones. Pide que se aclaren las causas.",
                  "data/public_data/segments_test/f7c83f85-119b9654.mp3"
                ],
                [
                  "12",
                  "ae610db5-24be1413.mp3",
                  "Así lo ha reconocido el ministro de Transportes, Óscar Puente, que desconoce si en ese momento había algún tren con el que hubiera impactado de no haber cambiado su trayectoria, aspecto que ha dicho esclarecerá la investigación abierta.",
                  "data/public_data/segments_test/ae610db5-24be1413.mp3"
                ],
                [
                  "13",
                  "13f93ebc-bb9cf0d8.mp3",
                  "Para combatir el Zika, Reino Unido trabaja con mosquitos modificados genéticamente. Estos machos se reproducirán con hembras salvajes cuyas crías morirían rápidamente. Los podemos enviar con mucha facilidad por todo el mundo y eliminar el mosquito. En Brasil ya se ha liberado a pequeña escala y si la Agencia de Alimentos y Medicamentos de Estados Unidos lo aprueba, el organismo modificado genéticamente podría soltarse también en Florida.",
                  "data/public_data/segments_test/13f93ebc-bb9cf0d8.mp3"
                ],
                [
                  "14",
                  "3f5e6212-a5f16b32.mp3",
                  "No, porque normalmente está flojo, y estaba flojo hasta que vino un arroz que yo me metí a salvar a Guay. Ahí vino un helicóptero y nos pusieron los arneses y nos subieron para allá arriba. Los menores de 12 años salieron ilesos del incidente, pero sus padres que presenciaron el angustioso rescate se llevaron un buen susto. Hemos estado muy asustados, pues claro, los veíamos ahí en la piedra y las olas que venían y...",
                  "data/public_data/segments_test/3f5e6212-a5f16b32.mp3"
                ],
                [
                  "15",
                  "b5b74b8c-f7691608.mp3",
                  "Las mayores dudas recaen en Sumar y el Carrequín Podemos, tras la escisión de esta franja de la izquierda. Ambos confían en presenciar un cambio de rumbo en Euskadi, una emoción que, según la candidata de Sumar, Alba García, le hizo olvidar la papeleta en casa.",
                  "data/public_data/segments_test/b5b74b8c-f7691608.mp3"
                ],
                [
                  "16",
                  "7706e38f-8bc2cb2b.mp3",
                  "Fue una eliminación justa, pero también cruel. Una selección de leyenda, la mejor de nuestra historia, se va de Brasil con la sensación de que un ciclo ha terminado. La debacle ante Holanda y el batacazo ante Chile suponen el punto final para una generación que lo ganó todo al encadenar dos Eurocopas y un Mundial. La derrota abre ahora el debate sobre el relevo en la Roja.",
                  "data/public_data/segments_test/7706e38f-8bc2cb2b.mp3"
                ],
                [
                  "17",
                  "59034fdc-412d5717.mp3",
                  "Y el secuestrador de Ciudad Lineal en Madrid ha vuelto a actuar. Una niña de 7 años fue raptada anoche durante dos horas en este distrito madrileño. La policía cree que se trata del mismo individuo que ha secuestrado en los últimos meses a otras dos niñas en ese mismo barrio. Los agentes están peinando la zona en estos momentos.",
                  "data/public_data/segments_test/59034fdc-412d5717.mp3"
                ],
                [
                  "18",
                  "fefdb7ab-af103599.mp3",
                  "En distintas situaciones hemos conseguido acordar un texto inédito porque esto se pretendió en otros momentos de años anteriores ante llegada de inmigración, sobre todo de menores no acompañados, a distintos lugares de España y finalmente hemos conseguido llegar a un acuerdo. Ese acuerdo fue presentado a los grupos parlamentarios y precisamente fue, entre otros, el Partido Popular quien pidió que lo lleváramos a una conferencia sectorial de infancia y",
                  "data/public_data/segments_test/fefdb7ab-af103599.mp3"
                ],
                [
                  "19",
                  "9610fbc6-83f252f8.mp3",
                  "Diez personas murieron en México a manos de un grupo armado en las afueras de Ciudad Juárez, cerca de la frontera con Estados Unidos. Las autoridades creen que se trató de un acto de venganza en una zona donde operan varios carteles de la droga.",
                  "data/public_data/segments_test/9610fbc6-83f252f8.mp3"
                ],
                [
                  "20",
                  "b664dd05-12a70eba.mp3",
                  "Autoridades en Chile y Argentina ordenaron la evacuación de más de 3.000 personas que viven cerca del volcán Copahue debido al incremento de la actividad sísmica. Los centros de emergencia emitieron una alerta roja a la más alta ante la posibilidad de una nueva erupción.",
                  "data/public_data/segments_test/b664dd05-12a70eba.mp3"
                ],
                [
                  "21",
                  "7550b9f9-697e808c.mp3",
                  "Y ya teniendo las claves de la persona, el nombre y el apellido, los ciberdelincuentes pueden usurpar la identidad. Los estafadores lo que hacen es coger y crear documentación falsa a partir de todos los datos que son capaces de recolectar en Internet. Para evitar estas estafas, la policía aconseja no facilitar nuestros datos en Internet si no estamos seguros del sitio web y también renovar nuestras contraseñas cada seis meses.",
                  "data/public_data/segments_test/7550b9f9-697e808c.mp3"
                ],
                [
                  "22",
                  "bda3cd7c-f2409f6b.mp3",
                  "Y puedo decir con orgullo que ese gran respaldo es fruto del trabajo bien hecho, un proyecto basado en la libertad que ha proporcionado a Madrid prosperidad y unos excelentes servicios públicos pensando en todos los madrileños.",
                  "data/public_data/segments_test/bda3cd7c-f2409f6b.mp3"
                ],
                [
                  "23",
                  "69d214db-75a7bf6e.mp3",
                  "De hecho tengo un mal cuerpo porque tengo que pensar, no dejamos, no hemos dormido toda la noche. ¿Qué más podemos hacer? ¿Qué más podemos enviar? ¿A qué municipio llegar? ¿Qué más? No sé. Vamos a hacer esto y luego con el tiempo, pues por supuesto se van a sacar conclusiones y se verá, pero no podemos más que ponernos en el lugar de esa gente.",
                  "data/public_data/segments_test/69d214db-75a7bf6e.mp3"
                ],
                [
                  "24",
                  "1679beae-c46b04be.mp3",
                  "¿Cómo votar? Bien, encontrarás las papeletas electorales en el recibidor de tu casa junto al resto de tu correo ordinario, junto a las facturas. Ten cuidado aquí en este punto porque si te confundes y al final lo que envías a correos no es una papeleta electoral sino una factura de, por ejemplo, Endesa, eso será contabilizado como un voto a favor del PP o del PSOE.",
                  "data/public_data/segments_test/1679beae-c46b04be.mp3"
                ],
                [
                  "25",
                  "ed0bb643-d2d2e2be.mp3",
                  "y que, como decía, efectivamente contribuyeron a que todo funcionara bien y con absoluta normalidad. Acabo de llamar a Alfonso Rueda para trasladarle mi felicitación personal y a los Partidos Socialistas de Galicia en su conjunto por la mayoría conseguida por el Partido Popular en estas elecciones. Los socialistas somos demócratas y aceptamos sin reservas el mandato de las urnas.",
                  "data/public_data/segments_test/ed0bb643-d2d2e2be.mp3"
                ],
                [
                  "26",
                  "cd14e997-7a51163b.mp3",
                  "Que ya ETA sabía que no podía hacer nada. En el momento que la Guardia Civil tenía sus equipos especiales del GAR, del WEI, etc. ¿Qué iban a hacer? En el momento que el Servicio de Inteligencia tenía los medios que tenía, ya era imposible para ETA seguir adelante. La policía tenía sus infiltrados, etc. también. Y tenía unas unidades muy especiales, los otros...",
                  "data/public_data/segments_test/cd14e997-7a51163b.mp3"
                ],
                [
                  "27",
                  "7ed5d13a-97354f7f.mp3",
                  "Porque tendrá que ser el señor Aldama quien pruebe esas insinuaciones y esas acusaciones. Yo desde luego le puedo garantizar que estamos tranquilos porque en lo que respecta a mi persona, en lo que respecta a mi gobierno actual, en lo que respecta a mi organización, al Partido Socialista Obrero Español, todo lo que ha dicho este señor es categóricamente falso.",
                  "data/public_data/segments_test/7ed5d13a-97354f7f.mp3"
                ],
                [
                  "28",
                  "e6972969-584169a7.mp3",
                  "Son inocentes. Un comunicado escueto donde también explican cómo los tres imputados han puesto sus actas a disposición del partido y cómo éste las ha aceptado. Algo que viene a despejar el primer problema de Usana Díaz a pocos días de ser investida como presidenta de la Junta de Andalucía.",
                  "data/public_data/segments_test/e6972969-584169a7.mp3"
                ],
                [
                  "29",
                  "7a0198f0-44a551cd.mp3",
                  "Desde luego Pablo Iglesias lo tiene claro, dice que si el PSOE permite con su abstención que Rajoy llegue a la Moncloa, se habrá convertido en un socio, ha dicho, más o menos intenso del Partido Popular. Así que Pablo Iglesias también aumenta la presión sobre los socialistas y le recuerda a Sánchez que hay otra posibilidad, un gobierno de izquierdas que deje fuera del gobierno para siempre a Mariano Rajoy.",
                  "data/public_data/segments_test/7a0198f0-44a551cd.mp3"
                ],
                [
                  "30",
                  "540048ac-1d9b9732.mp3",
                  "y el tipo de formación que eso supone para los chicos. Porque los chicos en esta escuela no simplemente reciben una formación académica para su vida intelectual o para su futuro profesional, sino que integran el factor de la música en su vida como algo tan importante como los estudios académicos.",
                  "data/public_data/segments_test/540048ac-1d9b9732.mp3"
                ],
                [
                  "31",
                  "f3493b4d-f51933eb.mp3",
                  "En este momento toda la Unión Europea está en una posición muy similar. Los griegos tienen que devolver lo que deben, tienen que hacer reformas y a partir de ahí les podemos seguir ayudando. Yo no creo que haya nadie en este momento trabajando en dos monedas en Grecia porque con la mejor buena fe estamos todavía todos trabajando en que se alcance un acuerdo este fin de semana.",
                  "data/public_data/segments_test/f3493b4d-f51933eb.mp3"
                ],
                [
                  "32",
                  "7c56da6c-ee1cf0d0.mp3",
                  "Después de que Taka, la mayor energética de Emiratos Árabes, haya confirmado que negocia una OPA para hacerse con el control de Naturgy, con los dos fondos dueños del 40% del capital total de la compañía, el Gobierno afirma que tiene los instrumentos necesarios para proteger los intereses de empresas estratégicas para España, como es Naturgy.",
                  "data/public_data/segments_test/7c56da6c-ee1cf0d0.mp3"
                ],
                [
                  "33",
                  "ee6b5afa-22f15a8a.mp3",
                  "La cantante está condenada a dos años de prisión por un delito de blanqueo de capitales. Su entrada en la cárcel es cuestión de días. Los magistrados aseguran que Isabel Pantoja actuó con desprecio absoluto a los vecinos de Marbella. Dice que aprovechó su relación sentimental con Julián Muñoz para enriquecerse.",
                  "data/public_data/segments_test/ee6b5afa-22f15a8a.mp3"
                ],
                [
                  "34",
                  "1ccdd668-a5a8bb00.mp3",
                  "Y cuando las cosas son graves se requiere respuestas concretas, valientes y asumir las responsabilidades. En el día de ayer las informaciones vinculadas a la presidencia del Congreso no fueron ni aclaradas ni afrontadas convenientemente y las novedades de hoy",
                  "data/public_data/segments_test/1ccdd668-a5a8bb00.mp3"
                ],
                [
                  "35",
                  "2b9a307f-62bb94a9.mp3",
                  "El trabajo de la policía científica termina tras analizar la escena del crimen y registrar el interior. Ahora comienza el reto de devolver la normalidad a un paseo marítimo donde la sangre en el asfalto y las pertenencias abandonadas de las víctimas recuerdan que aquí han muerto más de 80 personas. Imposible también porque el lugar se ha llenado de altares improvisados en recuerdo de los fallecidos.",
                  "data/public_data/segments_test/2b9a307f-62bb94a9.mp3"
                ],
                [
                  "36",
                  "dbe2c008-1bb58fc6.mp3",
                  "Esta mañana el Consejo de Ministros ha dado el visto bueno a la concesión de la nacionalidad española de Ilia Tupuria. Saben que es un luchador de referencia mundial en artes marciales mixtas.",
                  "data/public_data/segments_test/dbe2c008-1bb58fc6.mp3"
                ],
                [
                  "37",
                  "8324a427-5ca29f0c.mp3",
                  "Dios reconoce ahora que no se lavó las manos al crear el universo. Los teólogos sospechan que esta podría ser la causa de que existan los virus y las bacterias.",
                  "data/public_data/segments_test/8324a427-5ca29f0c.mp3"
                ],
                [
                  "38",
                  "4434a1c1-548c848e.mp3",
                  "Sí, sí, ellos pagaban. Coldo y Víctor Gonzalo Aldama, sus cosas las pagaban. Cuando iba acumulando, nosotros íbamos acumulando, a raíz de su seguridad en la telefonía, un teléfono conseguía, cada teléfono de país costaba casi 200 euros. Entonces, pedía un teléfono...",
                  "data/public_data/segments_test/4434a1c1-548c848e.mp3"
                ],
                [
                  "39",
                  "8073b706-950bd17e.mp3",
                  "Rajoy volvió a criticar ayer el veto permanente de Pedro Sánchez al PP y en eso decíamos que también se le sumó Albert Rivera. Ambos reprocharon al PSOE que empiece ya la campaña prácticamente vetando al Partido Popular. El caso es que luego no predican con el ejemplo porque comentábamos ahora que en cuatro horas no se cruzaron la mirada, no se saludaron.",
                  "data/public_data/segments_test/8073b706-950bd17e.mp3"
                ],
                [
                  "40",
                  "1ef74515-8d75c0f2.mp3",
                  "Sumar desconoce la propuesta exacta que se está negociando y desconocemos el estado actual del diálogo que se está emprendiendo sobre esta materia. Y tres, creemos que por lo que conocemos por ustedes, los medios de comunicación, esta propuesta parece que no va en la dirección correcta por la afectación general que puede tener.",
                  "data/public_data/segments_test/1ef74515-8d75c0f2.mp3"
                ],
                [
                  "41",
                  "18913dc3-e40dcbef.mp3",
                  "Facebook cumple este martes 10 años en los cuales pasó de ser una mini red social de estudiantes a convertirse en un sitio con más de 1.200 millones de usuarios. Alcanza su aniversario en medio de beneficios, pero los analistas se preguntan si alcanzará su segunda década de vida.",
                  "data/public_data/segments_test/18913dc3-e40dcbef.mp3"
                ],
                [
                  "42",
                  "fc5dc4fd-9f2904c1.mp3",
                  "Operación contra el terrorismo yihadista en Gandía, Valencia. Una marroquí de 18 años que pretendía unirse a Estado Islámico ha sido detenida hoy. La joven realizaba apología del terrorismo e intentaba captar a otras mujeres. La Guardia Civil ha registrado su casa durante toda la mañana. Sepamos la última hora. Carlos Villán.",
                  "data/public_data/segments_test/fc5dc4fd-9f2904c1.mp3"
                ],
                [
                  "43",
                  "cb6c2469-58cc1377.mp3",
                  "Un proyecto científico desarrollado por el Centro Tecnológico Vasco, Aztec, y la empresa aeroespacial Elecnor Deimos, que compartirá los datos obtenidos a través de sus satélites. Datos que servirán para impulsar nuevos estudios que ayudarán a mejorar el ecosistema marino del que dependemos.",
                  "data/public_data/segments_test/cb6c2469-58cc1377.mp3"
                ],
                [
                  "44",
                  "3e2e29b6-af47ec8a.mp3",
                  "Con este fondo de librería llamado Chinese Market Crowd, nos estás diciendo que los mercados de comida exótica de China están completamente abiertos ya y son completamente seguros.",
                  "data/public_data/segments_test/3e2e29b6-af47ec8a.mp3"
                ],
                [
                  "45",
                  "b9292b96-77a06176.mp3",
                  "En estos momentos siguen el baño, las bajas se cuentan por varios miles y el ejército ruso ha tomado la Casa Blanca ante la pasividad de sus hombres, bloqueados y sin nadie al mando.",
                  "data/public_data/segments_test/b9292b96-77a06176.mp3"
                ],
                [
                  "46",
                  "9f015f8e-cc8d5a2c.mp3",
                  "Ucrania ha sido la otra piedra angular de la reunión. Tras el derribo del Boeing, los ministros, presionados por la opinión pública, estudian ampliar las sanciones impuestas a Rusia. La primera exigencia es que el lugar del siniestro sea seguro y puedan entrar los investigadores internacionales. España propone desligar las sanciones de la investigación, ya que ésta puede extenderse en el tiempo y no ser concluyente.",
                  "data/public_data/segments_test/9f015f8e-cc8d5a2c.mp3"
                ],
                [
                  "47",
                  "3f1e7aea-b28bd37d.mp3",
                  "Usted y su partido llevan días intentando hacernos creer que un personaje de su manual de resistencia, la sombra para todo, del ministro para todo, del secretario de organización para todo y ahijado político del secretario de organización actual, el señor Santos Zerdán, no era nadie en el Partido Socialista, no era nadie en el Gobierno y actuaba siempre por su cuenta.",
                  "data/public_data/segments_test/3f1e7aea-b28bd37d.mp3"
                ],
                [
                  "48",
                  "a28a2f1a-e3425fa1.mp3",
                  "Gerard Piqué, imputado. La jueza de Majadahonda, que investiga posibles ilegalidades en el traslado de la Supercopa de España a Arabia Saudí, ha acordado investigar al exfutbolista y empresario por llevarse de esa operación una comisión de 4 millones de euros anuales.",
                  "data/public_data/segments_test/a28a2f1a-e3425fa1.mp3"
                ],
                [
                  "49",
                  "28d2fb5a-b745da1f.mp3",
                  "Europa está acercando a Putin, aunque el presidente ruso sigue sin estar en la lista negra de sancionados por la anexión de Crimea. Anoche los 28 decidieron ampliar esa lista hasta 33 personalidades rusas y ucranianas y ahora incluyen altos cargos cada vez más cercanos a Putin. Les puedo asegurar que entre los nuevos nombres algunos son realmente de alto rango.",
                  "data/public_data/segments_test/28d2fb5a-b745da1f.mp3"
                ]
              ],
              "shape": {
                "columns": 3,
                "rows": 2000
              }
            },
            "text/html": [
              "<div>\n",
              "<style scoped>\n",
              "    .dataframe tbody tr th:only-of-type {\n",
              "        vertical-align: middle;\n",
              "    }\n",
              "\n",
              "    .dataframe tbody tr th {\n",
              "        vertical-align: top;\n",
              "    }\n",
              "\n",
              "    .dataframe thead th {\n",
              "        text-align: right;\n",
              "    }\n",
              "</style>\n",
              "<table border=\"1\" class=\"dataframe\">\n",
              "  <thead>\n",
              "    <tr style=\"text-align: right;\">\n",
              "      <th></th>\n",
              "      <th>uid</th>\n",
              "      <th>transcription</th>\n",
              "      <th>path</th>\n",
              "    </tr>\n",
              "  </thead>\n",
              "  <tbody>\n",
              "    <tr>\n",
              "      <th>0</th>\n",
              "      <td>fa8196b4-166b7bb9.mp3</td>\n",
              "      <td>La Comunidad de Madrid hace frente así a la sa...</td>\n",
              "      <td>data/public_data/segments_test/fa8196b4-166b7b...</td>\n",
              "    </tr>\n",
              "    <tr>\n",
              "      <th>1</th>\n",
              "      <td>b407b2e7-63887829.mp3</td>\n",
              "      <td>Los féretros han sido trasladados a Chiclana y...</td>\n",
              "      <td>data/public_data/segments_test/b407b2e7-638878...</td>\n",
              "    </tr>\n",
              "    <tr>\n",
              "      <th>2</th>\n",
              "      <td>91cfff91-f54d3c31.mp3</td>\n",
              "      <td>Esto que parece una obviedad, ser contundentes...</td>\n",
              "      <td>data/public_data/segments_test/91cfff91-f54d3c...</td>\n",
              "    </tr>\n",
              "    <tr>\n",
              "      <th>3</th>\n",
              "      <td>27e25c21-1cf4072b.mp3</td>\n",
              "      <td>Usted mismo reconoce que cada vez se parece má...</td>\n",
              "      <td>data/public_data/segments_test/27e25c21-1cf407...</td>\n",
              "    </tr>\n",
              "    <tr>\n",
              "      <th>4</th>\n",
              "      <td>bb4ddfe5-fe837a69.mp3</td>\n",
              "      <td>Vamos a escuchar a todos los miembros del Comi...</td>\n",
              "      <td>data/public_data/segments_test/bb4ddfe5-fe837a...</td>\n",
              "    </tr>\n",
              "    <tr>\n",
              "      <th>...</th>\n",
              "      <td>...</td>\n",
              "      <td>...</td>\n",
              "      <td>...</td>\n",
              "    </tr>\n",
              "    <tr>\n",
              "      <th>1995</th>\n",
              "      <td>0dc2352f-e334aca3.mp3</td>\n",
              "      <td>Tratan de superarlo en estos centros, pero a d...</td>\n",
              "      <td>data/public_data/segments_test/0dc2352f-e334ac...</td>\n",
              "    </tr>\n",
              "    <tr>\n",
              "      <th>1996</th>\n",
              "      <td>830f9896-e3b18f45.mp3</td>\n",
              "      <td>Afuera, seguidores del partido de extrema dere...</td>\n",
              "      <td>data/public_data/segments_test/830f9896-e3b18f...</td>\n",
              "    </tr>\n",
              "    <tr>\n",
              "      <th>1997</th>\n",
              "      <td>31c41168-febf1975.mp3</td>\n",
              "      <td>Niña, una muestra que reúne 48 obras de arte c...</td>\n",
              "      <td>data/public_data/segments_test/31c41168-febf19...</td>\n",
              "    </tr>\n",
              "    <tr>\n",
              "      <th>1998</th>\n",
              "      <td>975631e6-fb7e4017.mp3</td>\n",
              "      <td>Pero no hemos conseguido esa respuesta unida q...</td>\n",
              "      <td>data/public_data/segments_test/975631e6-fb7e40...</td>\n",
              "    </tr>\n",
              "    <tr>\n",
              "      <th>1999</th>\n",
              "      <td>af48d481-d8b8db3c.mp3</td>\n",
              "      <td>Una alta participación es también el mayor des...</td>\n",
              "      <td>data/public_data/segments_test/af48d481-d8b8db...</td>\n",
              "    </tr>\n",
              "  </tbody>\n",
              "</table>\n",
              "<p>2000 rows × 3 columns</p>\n",
              "</div>"
            ],
            "text/plain": [
              "                        uid  \\\n",
              "0     fa8196b4-166b7bb9.mp3   \n",
              "1     b407b2e7-63887829.mp3   \n",
              "2     91cfff91-f54d3c31.mp3   \n",
              "3     27e25c21-1cf4072b.mp3   \n",
              "4     bb4ddfe5-fe837a69.mp3   \n",
              "...                     ...   \n",
              "1995  0dc2352f-e334aca3.mp3   \n",
              "1996  830f9896-e3b18f45.mp3   \n",
              "1997  31c41168-febf1975.mp3   \n",
              "1998  975631e6-fb7e4017.mp3   \n",
              "1999  af48d481-d8b8db3c.mp3   \n",
              "\n",
              "                                          transcription  \\\n",
              "0     La Comunidad de Madrid hace frente así a la sa...   \n",
              "1     Los féretros han sido trasladados a Chiclana y...   \n",
              "2     Esto que parece una obviedad, ser contundentes...   \n",
              "3     Usted mismo reconoce que cada vez se parece má...   \n",
              "4     Vamos a escuchar a todos los miembros del Comi...   \n",
              "...                                                 ...   \n",
              "1995  Tratan de superarlo en estos centros, pero a d...   \n",
              "1996  Afuera, seguidores del partido de extrema dere...   \n",
              "1997  Niña, una muestra que reúne 48 obras de arte c...   \n",
              "1998  Pero no hemos conseguido esa respuesta unida q...   \n",
              "1999  Una alta participación es también el mayor des...   \n",
              "\n",
              "                                                   path  \n",
              "0     data/public_data/segments_test/fa8196b4-166b7b...  \n",
              "1     data/public_data/segments_test/b407b2e7-638878...  \n",
              "2     data/public_data/segments_test/91cfff91-f54d3c...  \n",
              "3     data/public_data/segments_test/27e25c21-1cf407...  \n",
              "4     data/public_data/segments_test/bb4ddfe5-fe837a...  \n",
              "...                                                 ...  \n",
              "1995  data/public_data/segments_test/0dc2352f-e334ac...  \n",
              "1996  data/public_data/segments_test/830f9896-e3b18f...  \n",
              "1997  data/public_data/segments_test/31c41168-febf19...  \n",
              "1998  data/public_data/segments_test/975631e6-fb7e40...  \n",
              "1999  data/public_data/segments_test/af48d481-d8b8db...  \n",
              "\n",
              "[2000 rows x 3 columns]"
            ]
          },
          "execution_count": 11,
          "metadata": {},
          "output_type": "execute_result"
        }
      ],
      "source": [
        "# Adding the path column to search for audios\n",
        "train_df[\"path\"] = train_df[\"id\"].apply(lambda x: f\"{path}segments_train/{x}\")\n",
        "test_df[\"path\"] = test_df[\"uid\"].apply(lambda x: f\"{path}segments_test/{x}\")\n",
        "test_df"
      ]
    },
    {
      "cell_type": "markdown",
      "metadata": {
        "id": "sws_bMDc5u90"
      },
      "source": [
        "## Task 1: Satire identification with only text features"
      ]
    },
    {
      "cell_type": "code",
      "execution_count": 12,
      "metadata": {
        "id": "DKRpdak_5z7F"
      },
      "outputs": [
        {
          "data": {
            "text/html": [
              "<style>#sk-container-id-1 {\n",
              "  /* Definition of color scheme common for light and dark mode */\n",
              "  --sklearn-color-text: #000;\n",
              "  --sklearn-color-text-muted: #666;\n",
              "  --sklearn-color-line: gray;\n",
              "  /* Definition of color scheme for unfitted estimators */\n",
              "  --sklearn-color-unfitted-level-0: #fff5e6;\n",
              "  --sklearn-color-unfitted-level-1: #f6e4d2;\n",
              "  --sklearn-color-unfitted-level-2: #ffe0b3;\n",
              "  --sklearn-color-unfitted-level-3: chocolate;\n",
              "  /* Definition of color scheme for fitted estimators */\n",
              "  --sklearn-color-fitted-level-0: #f0f8ff;\n",
              "  --sklearn-color-fitted-level-1: #d4ebff;\n",
              "  --sklearn-color-fitted-level-2: #b3dbfd;\n",
              "  --sklearn-color-fitted-level-3: cornflowerblue;\n",
              "\n",
              "  /* Specific color for light theme */\n",
              "  --sklearn-color-text-on-default-background: var(--sg-text-color, var(--theme-code-foreground, var(--jp-content-font-color1, black)));\n",
              "  --sklearn-color-background: var(--sg-background-color, var(--theme-background, var(--jp-layout-color0, white)));\n",
              "  --sklearn-color-border-box: var(--sg-text-color, var(--theme-code-foreground, var(--jp-content-font-color1, black)));\n",
              "  --sklearn-color-icon: #696969;\n",
              "\n",
              "  @media (prefers-color-scheme: dark) {\n",
              "    /* Redefinition of color scheme for dark theme */\n",
              "    --sklearn-color-text-on-default-background: var(--sg-text-color, var(--theme-code-foreground, var(--jp-content-font-color1, white)));\n",
              "    --sklearn-color-background: var(--sg-background-color, var(--theme-background, var(--jp-layout-color0, #111)));\n",
              "    --sklearn-color-border-box: var(--sg-text-color, var(--theme-code-foreground, var(--jp-content-font-color1, white)));\n",
              "    --sklearn-color-icon: #878787;\n",
              "  }\n",
              "}\n",
              "\n",
              "#sk-container-id-1 {\n",
              "  color: var(--sklearn-color-text);\n",
              "}\n",
              "\n",
              "#sk-container-id-1 pre {\n",
              "  padding: 0;\n",
              "}\n",
              "\n",
              "#sk-container-id-1 input.sk-hidden--visually {\n",
              "  border: 0;\n",
              "  clip: rect(1px 1px 1px 1px);\n",
              "  clip: rect(1px, 1px, 1px, 1px);\n",
              "  height: 1px;\n",
              "  margin: -1px;\n",
              "  overflow: hidden;\n",
              "  padding: 0;\n",
              "  position: absolute;\n",
              "  width: 1px;\n",
              "}\n",
              "\n",
              "#sk-container-id-1 div.sk-dashed-wrapped {\n",
              "  border: 1px dashed var(--sklearn-color-line);\n",
              "  margin: 0 0.4em 0.5em 0.4em;\n",
              "  box-sizing: border-box;\n",
              "  padding-bottom: 0.4em;\n",
              "  background-color: var(--sklearn-color-background);\n",
              "}\n",
              "\n",
              "#sk-container-id-1 div.sk-container {\n",
              "  /* jupyter's `normalize.less` sets `[hidden] { display: none; }`\n",
              "     but bootstrap.min.css set `[hidden] { display: none !important; }`\n",
              "     so we also need the `!important` here to be able to override the\n",
              "     default hidden behavior on the sphinx rendered scikit-learn.org.\n",
              "     See: https://github.com/scikit-learn/scikit-learn/issues/21755 */\n",
              "  display: inline-block !important;\n",
              "  position: relative;\n",
              "}\n",
              "\n",
              "#sk-container-id-1 div.sk-text-repr-fallback {\n",
              "  display: none;\n",
              "}\n",
              "\n",
              "div.sk-parallel-item,\n",
              "div.sk-serial,\n",
              "div.sk-item {\n",
              "  /* draw centered vertical line to link estimators */\n",
              "  background-image: linear-gradient(var(--sklearn-color-text-on-default-background), var(--sklearn-color-text-on-default-background));\n",
              "  background-size: 2px 100%;\n",
              "  background-repeat: no-repeat;\n",
              "  background-position: center center;\n",
              "}\n",
              "\n",
              "/* Parallel-specific style estimator block */\n",
              "\n",
              "#sk-container-id-1 div.sk-parallel-item::after {\n",
              "  content: \"\";\n",
              "  width: 100%;\n",
              "  border-bottom: 2px solid var(--sklearn-color-text-on-default-background);\n",
              "  flex-grow: 1;\n",
              "}\n",
              "\n",
              "#sk-container-id-1 div.sk-parallel {\n",
              "  display: flex;\n",
              "  align-items: stretch;\n",
              "  justify-content: center;\n",
              "  background-color: var(--sklearn-color-background);\n",
              "  position: relative;\n",
              "}\n",
              "\n",
              "#sk-container-id-1 div.sk-parallel-item {\n",
              "  display: flex;\n",
              "  flex-direction: column;\n",
              "}\n",
              "\n",
              "#sk-container-id-1 div.sk-parallel-item:first-child::after {\n",
              "  align-self: flex-end;\n",
              "  width: 50%;\n",
              "}\n",
              "\n",
              "#sk-container-id-1 div.sk-parallel-item:last-child::after {\n",
              "  align-self: flex-start;\n",
              "  width: 50%;\n",
              "}\n",
              "\n",
              "#sk-container-id-1 div.sk-parallel-item:only-child::after {\n",
              "  width: 0;\n",
              "}\n",
              "\n",
              "/* Serial-specific style estimator block */\n",
              "\n",
              "#sk-container-id-1 div.sk-serial {\n",
              "  display: flex;\n",
              "  flex-direction: column;\n",
              "  align-items: center;\n",
              "  background-color: var(--sklearn-color-background);\n",
              "  padding-right: 1em;\n",
              "  padding-left: 1em;\n",
              "}\n",
              "\n",
              "\n",
              "/* Toggleable style: style used for estimator/Pipeline/ColumnTransformer box that is\n",
              "clickable and can be expanded/collapsed.\n",
              "- Pipeline and ColumnTransformer use this feature and define the default style\n",
              "- Estimators will overwrite some part of the style using the `sk-estimator` class\n",
              "*/\n",
              "\n",
              "/* Pipeline and ColumnTransformer style (default) */\n",
              "\n",
              "#sk-container-id-1 div.sk-toggleable {\n",
              "  /* Default theme specific background. It is overwritten whether we have a\n",
              "  specific estimator or a Pipeline/ColumnTransformer */\n",
              "  background-color: var(--sklearn-color-background);\n",
              "}\n",
              "\n",
              "/* Toggleable label */\n",
              "#sk-container-id-1 label.sk-toggleable__label {\n",
              "  cursor: pointer;\n",
              "  display: flex;\n",
              "  width: 100%;\n",
              "  margin-bottom: 0;\n",
              "  padding: 0.5em;\n",
              "  box-sizing: border-box;\n",
              "  text-align: center;\n",
              "  align-items: start;\n",
              "  justify-content: space-between;\n",
              "  gap: 0.5em;\n",
              "}\n",
              "\n",
              "#sk-container-id-1 label.sk-toggleable__label .caption {\n",
              "  font-size: 0.6rem;\n",
              "  font-weight: lighter;\n",
              "  color: var(--sklearn-color-text-muted);\n",
              "}\n",
              "\n",
              "#sk-container-id-1 label.sk-toggleable__label-arrow:before {\n",
              "  /* Arrow on the left of the label */\n",
              "  content: \"▸\";\n",
              "  float: left;\n",
              "  margin-right: 0.25em;\n",
              "  color: var(--sklearn-color-icon);\n",
              "}\n",
              "\n",
              "#sk-container-id-1 label.sk-toggleable__label-arrow:hover:before {\n",
              "  color: var(--sklearn-color-text);\n",
              "}\n",
              "\n",
              "/* Toggleable content - dropdown */\n",
              "\n",
              "#sk-container-id-1 div.sk-toggleable__content {\n",
              "  max-height: 0;\n",
              "  max-width: 0;\n",
              "  overflow: hidden;\n",
              "  text-align: left;\n",
              "  /* unfitted */\n",
              "  background-color: var(--sklearn-color-unfitted-level-0);\n",
              "}\n",
              "\n",
              "#sk-container-id-1 div.sk-toggleable__content.fitted {\n",
              "  /* fitted */\n",
              "  background-color: var(--sklearn-color-fitted-level-0);\n",
              "}\n",
              "\n",
              "#sk-container-id-1 div.sk-toggleable__content pre {\n",
              "  margin: 0.2em;\n",
              "  border-radius: 0.25em;\n",
              "  color: var(--sklearn-color-text);\n",
              "  /* unfitted */\n",
              "  background-color: var(--sklearn-color-unfitted-level-0);\n",
              "}\n",
              "\n",
              "#sk-container-id-1 div.sk-toggleable__content.fitted pre {\n",
              "  /* unfitted */\n",
              "  background-color: var(--sklearn-color-fitted-level-0);\n",
              "}\n",
              "\n",
              "#sk-container-id-1 input.sk-toggleable__control:checked~div.sk-toggleable__content {\n",
              "  /* Expand drop-down */\n",
              "  max-height: 200px;\n",
              "  max-width: 100%;\n",
              "  overflow: auto;\n",
              "}\n",
              "\n",
              "#sk-container-id-1 input.sk-toggleable__control:checked~label.sk-toggleable__label-arrow:before {\n",
              "  content: \"▾\";\n",
              "}\n",
              "\n",
              "/* Pipeline/ColumnTransformer-specific style */\n",
              "\n",
              "#sk-container-id-1 div.sk-label input.sk-toggleable__control:checked~label.sk-toggleable__label {\n",
              "  color: var(--sklearn-color-text);\n",
              "  background-color: var(--sklearn-color-unfitted-level-2);\n",
              "}\n",
              "\n",
              "#sk-container-id-1 div.sk-label.fitted input.sk-toggleable__control:checked~label.sk-toggleable__label {\n",
              "  background-color: var(--sklearn-color-fitted-level-2);\n",
              "}\n",
              "\n",
              "/* Estimator-specific style */\n",
              "\n",
              "/* Colorize estimator box */\n",
              "#sk-container-id-1 div.sk-estimator input.sk-toggleable__control:checked~label.sk-toggleable__label {\n",
              "  /* unfitted */\n",
              "  background-color: var(--sklearn-color-unfitted-level-2);\n",
              "}\n",
              "\n",
              "#sk-container-id-1 div.sk-estimator.fitted input.sk-toggleable__control:checked~label.sk-toggleable__label {\n",
              "  /* fitted */\n",
              "  background-color: var(--sklearn-color-fitted-level-2);\n",
              "}\n",
              "\n",
              "#sk-container-id-1 div.sk-label label.sk-toggleable__label,\n",
              "#sk-container-id-1 div.sk-label label {\n",
              "  /* The background is the default theme color */\n",
              "  color: var(--sklearn-color-text-on-default-background);\n",
              "}\n",
              "\n",
              "/* On hover, darken the color of the background */\n",
              "#sk-container-id-1 div.sk-label:hover label.sk-toggleable__label {\n",
              "  color: var(--sklearn-color-text);\n",
              "  background-color: var(--sklearn-color-unfitted-level-2);\n",
              "}\n",
              "\n",
              "/* Label box, darken color on hover, fitted */\n",
              "#sk-container-id-1 div.sk-label.fitted:hover label.sk-toggleable__label.fitted {\n",
              "  color: var(--sklearn-color-text);\n",
              "  background-color: var(--sklearn-color-fitted-level-2);\n",
              "}\n",
              "\n",
              "/* Estimator label */\n",
              "\n",
              "#sk-container-id-1 div.sk-label label {\n",
              "  font-family: monospace;\n",
              "  font-weight: bold;\n",
              "  display: inline-block;\n",
              "  line-height: 1.2em;\n",
              "}\n",
              "\n",
              "#sk-container-id-1 div.sk-label-container {\n",
              "  text-align: center;\n",
              "}\n",
              "\n",
              "/* Estimator-specific */\n",
              "#sk-container-id-1 div.sk-estimator {\n",
              "  font-family: monospace;\n",
              "  border: 1px dotted var(--sklearn-color-border-box);\n",
              "  border-radius: 0.25em;\n",
              "  box-sizing: border-box;\n",
              "  margin-bottom: 0.5em;\n",
              "  /* unfitted */\n",
              "  background-color: var(--sklearn-color-unfitted-level-0);\n",
              "}\n",
              "\n",
              "#sk-container-id-1 div.sk-estimator.fitted {\n",
              "  /* fitted */\n",
              "  background-color: var(--sklearn-color-fitted-level-0);\n",
              "}\n",
              "\n",
              "/* on hover */\n",
              "#sk-container-id-1 div.sk-estimator:hover {\n",
              "  /* unfitted */\n",
              "  background-color: var(--sklearn-color-unfitted-level-2);\n",
              "}\n",
              "\n",
              "#sk-container-id-1 div.sk-estimator.fitted:hover {\n",
              "  /* fitted */\n",
              "  background-color: var(--sklearn-color-fitted-level-2);\n",
              "}\n",
              "\n",
              "/* Specification for estimator info (e.g. \"i\" and \"?\") */\n",
              "\n",
              "/* Common style for \"i\" and \"?\" */\n",
              "\n",
              ".sk-estimator-doc-link,\n",
              "a:link.sk-estimator-doc-link,\n",
              "a:visited.sk-estimator-doc-link {\n",
              "  float: right;\n",
              "  font-size: smaller;\n",
              "  line-height: 1em;\n",
              "  font-family: monospace;\n",
              "  background-color: var(--sklearn-color-background);\n",
              "  border-radius: 1em;\n",
              "  height: 1em;\n",
              "  width: 1em;\n",
              "  text-decoration: none !important;\n",
              "  margin-left: 0.5em;\n",
              "  text-align: center;\n",
              "  /* unfitted */\n",
              "  border: var(--sklearn-color-unfitted-level-1) 1pt solid;\n",
              "  color: var(--sklearn-color-unfitted-level-1);\n",
              "}\n",
              "\n",
              ".sk-estimator-doc-link.fitted,\n",
              "a:link.sk-estimator-doc-link.fitted,\n",
              "a:visited.sk-estimator-doc-link.fitted {\n",
              "  /* fitted */\n",
              "  border: var(--sklearn-color-fitted-level-1) 1pt solid;\n",
              "  color: var(--sklearn-color-fitted-level-1);\n",
              "}\n",
              "\n",
              "/* On hover */\n",
              "div.sk-estimator:hover .sk-estimator-doc-link:hover,\n",
              ".sk-estimator-doc-link:hover,\n",
              "div.sk-label-container:hover .sk-estimator-doc-link:hover,\n",
              ".sk-estimator-doc-link:hover {\n",
              "  /* unfitted */\n",
              "  background-color: var(--sklearn-color-unfitted-level-3);\n",
              "  color: var(--sklearn-color-background);\n",
              "  text-decoration: none;\n",
              "}\n",
              "\n",
              "div.sk-estimator.fitted:hover .sk-estimator-doc-link.fitted:hover,\n",
              ".sk-estimator-doc-link.fitted:hover,\n",
              "div.sk-label-container:hover .sk-estimator-doc-link.fitted:hover,\n",
              ".sk-estimator-doc-link.fitted:hover {\n",
              "  /* fitted */\n",
              "  background-color: var(--sklearn-color-fitted-level-3);\n",
              "  color: var(--sklearn-color-background);\n",
              "  text-decoration: none;\n",
              "}\n",
              "\n",
              "/* Span, style for the box shown on hovering the info icon */\n",
              ".sk-estimator-doc-link span {\n",
              "  display: none;\n",
              "  z-index: 9999;\n",
              "  position: relative;\n",
              "  font-weight: normal;\n",
              "  right: .2ex;\n",
              "  padding: .5ex;\n",
              "  margin: .5ex;\n",
              "  width: min-content;\n",
              "  min-width: 20ex;\n",
              "  max-width: 50ex;\n",
              "  color: var(--sklearn-color-text);\n",
              "  box-shadow: 2pt 2pt 4pt #999;\n",
              "  /* unfitted */\n",
              "  background: var(--sklearn-color-unfitted-level-0);\n",
              "  border: .5pt solid var(--sklearn-color-unfitted-level-3);\n",
              "}\n",
              "\n",
              ".sk-estimator-doc-link.fitted span {\n",
              "  /* fitted */\n",
              "  background: var(--sklearn-color-fitted-level-0);\n",
              "  border: var(--sklearn-color-fitted-level-3);\n",
              "}\n",
              "\n",
              ".sk-estimator-doc-link:hover span {\n",
              "  display: block;\n",
              "}\n",
              "\n",
              "/* \"?\"-specific style due to the `<a>` HTML tag */\n",
              "\n",
              "#sk-container-id-1 a.estimator_doc_link {\n",
              "  float: right;\n",
              "  font-size: 1rem;\n",
              "  line-height: 1em;\n",
              "  font-family: monospace;\n",
              "  background-color: var(--sklearn-color-background);\n",
              "  border-radius: 1rem;\n",
              "  height: 1rem;\n",
              "  width: 1rem;\n",
              "  text-decoration: none;\n",
              "  /* unfitted */\n",
              "  color: var(--sklearn-color-unfitted-level-1);\n",
              "  border: var(--sklearn-color-unfitted-level-1) 1pt solid;\n",
              "}\n",
              "\n",
              "#sk-container-id-1 a.estimator_doc_link.fitted {\n",
              "  /* fitted */\n",
              "  border: var(--sklearn-color-fitted-level-1) 1pt solid;\n",
              "  color: var(--sklearn-color-fitted-level-1);\n",
              "}\n",
              "\n",
              "/* On hover */\n",
              "#sk-container-id-1 a.estimator_doc_link:hover {\n",
              "  /* unfitted */\n",
              "  background-color: var(--sklearn-color-unfitted-level-3);\n",
              "  color: var(--sklearn-color-background);\n",
              "  text-decoration: none;\n",
              "}\n",
              "\n",
              "#sk-container-id-1 a.estimator_doc_link.fitted:hover {\n",
              "  /* fitted */\n",
              "  background-color: var(--sklearn-color-fitted-level-3);\n",
              "}\n",
              "</style><div id=\"sk-container-id-1\" class=\"sk-top-container\"><div class=\"sk-text-repr-fallback\"><pre>LinearSVC()</pre><b>In a Jupyter environment, please rerun this cell to show the HTML representation or trust the notebook. <br />On GitHub, the HTML representation is unable to render, please try loading this page with nbviewer.org.</b></div><div class=\"sk-container\" hidden><div class=\"sk-item\"><div class=\"sk-estimator fitted sk-toggleable\"><input class=\"sk-toggleable__control sk-hidden--visually\" id=\"sk-estimator-id-1\" type=\"checkbox\" checked><label for=\"sk-estimator-id-1\" class=\"sk-toggleable__label fitted sk-toggleable__label-arrow\"><div><div>LinearSVC</div></div><div><a class=\"sk-estimator-doc-link fitted\" rel=\"noreferrer\" target=\"_blank\" href=\"https://scikit-learn.org/1.6/modules/generated/sklearn.svm.LinearSVC.html\">?<span>Documentation for LinearSVC</span></a><span class=\"sk-estimator-doc-link fitted\">i<span>Fitted</span></span></div></label><div class=\"sk-toggleable__content fitted\"><pre>LinearSVC()</pre></div> </div></div></div></div>"
            ],
            "text/plain": [
              "LinearSVC()"
            ]
          },
          "execution_count": 12,
          "metadata": {},
          "output_type": "execute_result"
        }
      ],
      "source": [
        "# Stop words\n",
        "stop_words = []\n",
        "\n",
        "\n",
        "# Create a TFIDF Vectorizer using sci-kit. With this, we are going to represent all texts\n",
        "# as counts of the vocabulary.\n",
        "vectorizer = TfidfVectorizer(\n",
        "    analyzer=\"word\", max_features=50_000, lowercase=False, stop_words=stop_words\n",
        ")\n",
        "\n",
        "\n",
        "# Get the TF-IDF values from the training set\n",
        "text_x_train = vectorizer.fit_transform(train_df[\"transcription\"])\n",
        "\n",
        "# Get the TF-IDF values from the test set\n",
        "# Note that we apply the TF-IDF learned from the training split\n",
        "text_x_test = vectorizer.transform(test_df[\"transcription\"])\n",
        "\n",
        "\n",
        "# We are going to store a baseline per dimension\n",
        "baselines = {}\n",
        "\n",
        "\n",
        "# Get a baseline classifier\n",
        "baselines[\"label\"] = LinearSVC(dual=\"auto\")\n",
        "\n",
        "\n",
        "scaler = MinMaxScaler()\n",
        "text_x_train = scaler.fit_transform(text_x_train.toarray())\n",
        "text_x_test = scaler.fit_transform(text_x_test.toarray())\n",
        "\n",
        "# Train the baseline for this label\n",
        "baselines[\"label\"].fit(text_x_train, train_df[\"label\"])"
      ]
    },
    {
      "cell_type": "code",
      "execution_count": 13,
      "metadata": {
        "id": "sur3JKTH54nM"
      },
      "outputs": [],
      "source": [
        "# Get the predictions for task 1 (based on text)\n",
        "text_predictions = baselines[\"label\"].predict(text_x_test)"
      ]
    },
    {
      "cell_type": "markdown",
      "metadata": {
        "id": "81uF9xD-5bgE"
      },
      "source": [
        "## Task 2: Satire identification with MFCC and text features of audios with the SVM model."
      ]
    },
    {
      "cell_type": "code",
      "execution_count": 14,
      "metadata": {
        "id": "wonewd6Tm9bf"
      },
      "outputs": [],
      "source": [
        "# Extract MFCC features from audios\n",
        "def extract_features(data, sample_rate):\n",
        "    result = np.array([])\n",
        "    # MFCC\n",
        "    mfcc = np.mean(librosa.feature.mfcc(y=data, sr=sample_rate).T, axis=0)\n",
        "    result = np.hstack((result, mfcc))\n",
        "\n",
        "    return result\n",
        "\n",
        "def get_features(path):\n",
        "    # load all audio\n",
        "    data, sample_rate = librosa.load(path)\n",
        "    res1 = extract_features(data, sample_rate)\n",
        "    result = np.array(res1)\n",
        "\n",
        "    return result\n",
        "\n",
        "# Get list of train with MFCC features and label list\n",
        "def get_features_labels(audio_df, label2id):\n",
        "    X, Y = [], []\n",
        "    for path, label in zip(audio_df.path, audio_df.label):\n",
        "        feature = get_features(path)\n",
        "        X.append(feature)\n",
        "        Y.append(label2id[label])\n",
        "    return X, Y\n",
        "\n",
        "# Get list of test with MFCC features\n",
        "def get_features_test (audio_df):\n",
        "    X = []\n",
        "    for path in audio_df.path:\n",
        "        feature = get_features(path)\n",
        "        X.append(feature)\n",
        "    return X"
      ]
    },
    {
      "cell_type": "code",
      "execution_count": 15,
      "metadata": {
        "id": "V09iUcz6uL-b"
      },
      "outputs": [
        {
          "name": "stdout",
          "output_type": "stream",
          "text": [
            "{0: 'no-satire', 1: 'satire'}\n"
          ]
        }
      ],
      "source": [
        "# Get list of labels, id2label and label2id\n",
        "labels = sorted(train_df.label.unique().tolist())\n",
        "id2label = {id:label for id, label in enumerate(labels)}\n",
        "label2id = {label:id for id, label in enumerate(labels)}\n",
        "print(id2label)"
      ]
    },
    {
      "cell_type": "code",
      "execution_count": 16,
      "metadata": {
        "id": "02pMhlEunIYb"
      },
      "outputs": [
        {
          "name": "stdout",
          "output_type": "stream",
          "text": [
            "Examples:  [-2.27943665e+02  1.12409912e+02  2.10512295e-01  2.80925350e+01\n",
            "  1.56655502e+01 -5.94680929e+00 -2.95352592e+01 -1.02050018e+00\n",
            " -6.60770035e+00 -8.49475479e+00 -4.37865067e+00  9.26320851e-01\n",
            " -1.07230082e+01  4.57672596e+00 -3.64640665e+00  1.84385443e+00\n",
            " -8.69384956e+00 -1.03147376e+00 -4.64386511e+00 -7.17984819e+00] 1\n"
          ]
        }
      ],
      "source": [
        "# Get input for the training\n",
        "mfcc_x_train, y_train = get_features_labels(train_df, label2id)\n",
        "print(\"Examples: \", mfcc_x_train[0], y_train[0])"
      ]
    },
    {
      "cell_type": "code",
      "execution_count": null,
      "metadata": {
        "id": "fpOlj03FuQac"
      },
      "outputs": [],
      "source": [
        "# Get input for the test\n",
        "mfcc_x_test = get_features_test(test_df)\n",
        "print(\"Examples: \", mfcc_x_test)"
      ]
    },
    {
      "cell_type": "code",
      "execution_count": null,
      "metadata": {
        "id": "3kY-qOO0Tf2G"
      },
      "outputs": [],
      "source": [
        "multi_x_train = np.concatenate((text_x_train, mfcc_x_train),axis=1)\n",
        "multi_x_test = np.concatenate((text_x_test, mfcc_x_test),axis=1)"
      ]
    },
    {
      "cell_type": "code",
      "execution_count": null,
      "metadata": {
        "id": "JzMmP2zbuvrx"
      },
      "outputs": [],
      "source": [
        "# Scaling our data with sklearn's Standard scaler\n",
        "scaler = MinMaxScaler()\n",
        "x_train = scaler.fit_transform(multi_x_train)\n",
        "x_test = scaler.transform(multi_x_test)"
      ]
    },
    {
      "cell_type": "code",
      "execution_count": null,
      "metadata": {
        "id": "2q-QIIWpt-iJ"
      },
      "outputs": [],
      "source": [
        "grid = SVC()\n",
        "grid.fit(x_train, y_train)"
      ]
    },
    {
      "cell_type": "code",
      "execution_count": null,
      "metadata": {
        "id": "QeurOmFjvUss"
      },
      "outputs": [],
      "source": [
        "grid_predictions = grid.predict(x_test)\n",
        "mfcc_predictions = [id2label[label] for label in grid_predictions]"
      ]
    },
    {
      "cell_type": "markdown",
      "metadata": {
        "id": "SJQK4wUY7ZlF"
      },
      "source": [
        "# Generation of the submission file\n",
        "Finally, an output file is generated with the predictions in the format required for submission to CodaLab."
      ]
    },
    {
      "cell_type": "code",
      "execution_count": null,
      "metadata": {
        "id": "bsbACeHyxB70"
      },
      "outputs": [],
      "source": [
        "output_df = pd.DataFrame(columns=[\"id\", \"task_1\", \"task_2\"])\n",
        "output_df[\"id\"] = test_df[\"id\"].str.replace ('.mp3', '', regex = False)\n",
        "output_df[\"task_1\"] = text_predictions\n",
        "output_df[\"task_2\"] = mfcc_predictions\n",
        "print (output_df)\n",
        "output_df.to_csv ('results.csv', index = False)"
      ]
    },
    {
      "cell_type": "code",
      "execution_count": null,
      "metadata": {
        "id": "Iwv6EzYvShJc"
      },
      "outputs": [],
      "source": []
    }
  ],
  "metadata": {
    "colab": {
      "provenance": []
    },
    "kernelspec": {
      "display_name": ".venv",
      "language": "python",
      "name": "python3"
    },
    "language_info": {
      "codemirror_mode": {
        "name": "ipython",
        "version": 3
      },
      "file_extension": ".py",
      "mimetype": "text/x-python",
      "name": "python",
      "nbconvert_exporter": "python",
      "pygments_lexer": "ipython3",
      "version": "3.12.6"
    }
  },
  "nbformat": 4,
  "nbformat_minor": 0
}
