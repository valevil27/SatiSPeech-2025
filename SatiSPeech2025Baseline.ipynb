{
  "cells": [
    {
      "cell_type": "markdown",
      "metadata": {
        "id": "z6BtqOe528g8"
      },
      "source": [
        "# SatiSPeech Submission example with the baselines\n",
        "This codalab is an example of how to submit the baseline based on BoW and MFCC feature models for the shared-task SatiSPeech 2025.\n",
        "\n",
        "Here we show how to load the training dataset, how to extract the MFCC features from the audios and train 2 baseline based on Suppor Vector Machines with text features and acoustic features.\n",
        "\n",
        "More information regarding the shared task can be found at: https://codalab.lisn.upsaclay.fr/competitions/21501\n",
        "\n",
        "**IMPORTANT NOTE:** Please, note that for obtaining a valid KEY to download the audio segments, you should contact with the organisers using the Codalab plataform.\n"
      ]
    },
    {
      "cell_type": "code",
      "execution_count": 1,
      "metadata": {
        "colab": {
          "base_uri": "https://localhost:8080/"
        },
        "id": "hRddQL1ekExO",
        "outputId": "d82ef8df-d5fe-4586-fd4c-d2757024d117"
      },
      "outputs": [
        {
          "name": "stdout",
          "output_type": "stream",
          "text": [
            "Requirement already satisfied: librosa in ./.venv/lib/python3.12/site-packages (0.11.0)\n",
            "Requirement already satisfied: audioread>=2.1.9 in ./.venv/lib/python3.12/site-packages (from librosa) (3.0.1)\n",
            "Requirement already satisfied: numba>=0.51.0 in ./.venv/lib/python3.12/site-packages (from librosa) (0.61.0)\n",
            "Requirement already satisfied: numpy>=1.22.3 in ./.venv/lib/python3.12/site-packages (from librosa) (2.1.3)\n",
            "Requirement already satisfied: scipy>=1.6.0 in ./.venv/lib/python3.12/site-packages (from librosa) (1.15.2)\n",
            "Requirement already satisfied: scikit-learn>=1.1.0 in ./.venv/lib/python3.12/site-packages (from librosa) (1.6.1)\n",
            "Requirement already satisfied: joblib>=1.0 in ./.venv/lib/python3.12/site-packages (from librosa) (1.4.2)\n",
            "Requirement already satisfied: decorator>=4.3.0 in ./.venv/lib/python3.12/site-packages (from librosa) (5.2.1)\n",
            "Requirement already satisfied: soundfile>=0.12.1 in ./.venv/lib/python3.12/site-packages (from librosa) (0.13.1)\n",
            "Requirement already satisfied: pooch>=1.1 in ./.venv/lib/python3.12/site-packages (from librosa) (1.8.2)\n",
            "Requirement already satisfied: soxr>=0.3.2 in ./.venv/lib/python3.12/site-packages (from librosa) (0.5.0.post1)\n",
            "Requirement already satisfied: typing_extensions>=4.1.1 in ./.venv/lib/python3.12/site-packages (from librosa) (4.13.0)\n",
            "Requirement already satisfied: lazy_loader>=0.1 in ./.venv/lib/python3.12/site-packages (from librosa) (0.4)\n",
            "Requirement already satisfied: msgpack>=1.0 in ./.venv/lib/python3.12/site-packages (from librosa) (1.1.0)\n",
            "Requirement already satisfied: packaging in ./.venv/lib/python3.12/site-packages (from lazy_loader>=0.1->librosa) (24.2)\n",
            "Requirement already satisfied: llvmlite<0.45,>=0.44.0dev0 in ./.venv/lib/python3.12/site-packages (from numba>=0.51.0->librosa) (0.44.0)\n",
            "Requirement already satisfied: platformdirs>=2.5.0 in ./.venv/lib/python3.12/site-packages (from pooch>=1.1->librosa) (4.3.6)\n",
            "Requirement already satisfied: requests>=2.19.0 in ./.venv/lib/python3.12/site-packages (from pooch>=1.1->librosa) (2.32.3)\n",
            "Requirement already satisfied: threadpoolctl>=3.1.0 in ./.venv/lib/python3.12/site-packages (from scikit-learn>=1.1.0->librosa) (3.6.0)\n",
            "Requirement already satisfied: cffi>=1.0 in ./.venv/lib/python3.12/site-packages (from soundfile>=0.12.1->librosa) (1.17.1)\n",
            "Requirement already satisfied: pycparser in ./.venv/lib/python3.12/site-packages (from cffi>=1.0->soundfile>=0.12.1->librosa) (2.22)\n",
            "Requirement already satisfied: charset-normalizer<4,>=2 in ./.venv/lib/python3.12/site-packages (from requests>=2.19.0->pooch>=1.1->librosa) (3.4.1)\n",
            "Requirement already satisfied: idna<4,>=2.5 in ./.venv/lib/python3.12/site-packages (from requests>=2.19.0->pooch>=1.1->librosa) (3.10)\n",
            "Requirement already satisfied: urllib3<3,>=1.21.1 in ./.venv/lib/python3.12/site-packages (from requests>=2.19.0->pooch>=1.1->librosa) (2.3.0)\n",
            "Requirement already satisfied: certifi>=2017.4.17 in ./.venv/lib/python3.12/site-packages (from requests>=2.19.0->pooch>=1.1->librosa) (2025.1.31)\n",
            "Note: you may need to restart the kernel to use updated packages.\n",
            "Requirement already satisfied: pandas in ./.venv/lib/python3.12/site-packages (2.2.3)\n",
            "Requirement already satisfied: numpy>=1.26.0 in ./.venv/lib/python3.12/site-packages (from pandas) (2.1.3)\n",
            "Requirement already satisfied: python-dateutil>=2.8.2 in ./.venv/lib/python3.12/site-packages (from pandas) (2.9.0.post0)\n",
            "Requirement already satisfied: pytz>=2020.1 in ./.venv/lib/python3.12/site-packages (from pandas) (2025.2)\n",
            "Requirement already satisfied: tzdata>=2022.7 in ./.venv/lib/python3.12/site-packages (from pandas) (2025.2)\n",
            "Requirement already satisfied: six>=1.5 in ./.venv/lib/python3.12/site-packages (from python-dateutil>=2.8.2->pandas) (1.17.0)\n",
            "Note: you may need to restart the kernel to use updated packages.\n",
            "Requirement already satisfied: scikit-learn in ./.venv/lib/python3.12/site-packages (1.6.1)\n",
            "Requirement already satisfied: numpy>=1.19.5 in ./.venv/lib/python3.12/site-packages (from scikit-learn) (2.1.3)\n",
            "Requirement already satisfied: scipy>=1.6.0 in ./.venv/lib/python3.12/site-packages (from scikit-learn) (1.15.2)\n",
            "Requirement already satisfied: joblib>=1.2.0 in ./.venv/lib/python3.12/site-packages (from scikit-learn) (1.4.2)\n",
            "Requirement already satisfied: threadpoolctl>=3.1.0 in ./.venv/lib/python3.12/site-packages (from scikit-learn) (3.6.0)\n",
            "Note: you may need to restart the kernel to use updated packages.\n"
          ]
        }
      ],
      "source": [
        "# The first step is download the required libraries\n",
        "%pip install librosa\n",
        "%pip install pandas\n",
        "%pip install -U scikit-learn"
      ]
    },
    {
      "cell_type": "code",
      "execution_count": 2,
      "metadata": {
        "id": "GIivi1ztlkB3"
      },
      "outputs": [],
      "source": [
        " # Load the required libraries\n",
        "import pandas as pd\n",
        "import numpy as np\n",
        "import librosa\n",
        "from sklearn.svm import SVC\n",
        "from sklearn.svm import LinearSVC\n",
        "from sklearn.preprocessing import StandardScaler\n",
        "from sklearn.preprocessing import MinMaxScaler\n",
        "from sklearn.feature_extraction.text import TfidfVectorizer\n",
        "from sklearn.model_selection import GridSearchCV\n",
        "from sklearn.metrics import classification_report"
      ]
    },
    {
      "cell_type": "code",
      "execution_count": 5,
      "metadata": {
        "colab": {
          "base_uri": "https://localhost:8080/"
        },
        "id": "SYXOiZJlmC6o",
        "outputId": "296e37c9-cab6-42ac-b781-631b420dcb7e"
      },
      "outputs": [],
      "source": [
        "# Download training and test audios and CSV files\n",
        "# Please, replace %PASTE_YOUR_ID_HERE% with the API key provided.\n",
        "# !wget https://pln.inf.um.es/corpora/satispeech/2025/dataset/download/dev?api_key=[80d959b40c740d703854c35610218664] -O segments.zip\n",
        "# !wget https://pln.inf.um.es/corpora/satispeech/2025/dataset/download/dev?api_key=80d959b40c740d703854c35610218664 -O segments.zip\n",
        "# !wget https://pln.inf.um.es/corpora/satispeech/2025/SatiSPeech_phase_1_train_codalab.csv -O SatiSPeech_phase_1_train_codalab.csv\n",
        "# !wget https://pln.inf.um.es/corpora/satispeech/2025/SatiSPeech_phase_1_test_codalab.csv -O SatiSPeech_phase_1_test_codalab.csv\n",
        "# !mkdir dev_segments/\n",
        "# !unzip segments.zip -d dev_segments"
      ]
    },
    {
      "cell_type": "markdown",
      "metadata": {
        "id": "1MXB36lT7dFV"
      },
      "source": [
        "# Load Data"
      ]
    },
    {
      "cell_type": "markdown",
      "metadata": {},
      "source": []
    },
    {
      "cell_type": "code",
      "execution_count": 3,
      "metadata": {
        "colab": {
          "base_uri": "https://localhost:8080/",
          "height": 423
        },
        "id": "lrmmLlI_mabj",
        "outputId": "6a5fdda4-af9d-4b10-cc0b-5ca8a320c7bb"
      },
      "outputs": [
        {
          "data": {
            "application/vnd.microsoft.datawrangler.viewer.v0+json": {
              "columns": [
                {
                  "name": "index",
                  "rawType": "int64",
                  "type": "integer"
                },
                {
                  "name": "id",
                  "rawType": "object",
                  "type": "string"
                },
                {
                  "name": "label",
                  "rawType": "object",
                  "type": "string"
                },
                {
                  "name": "transcription",
                  "rawType": "object",
                  "type": "string"
                }
              ],
              "conversionMethod": "pd.DataFrame",
              "ref": "601aafe4-fbc6-49ba-bc29-7d50ba4d975d",
              "rows": [
                [
                  "0",
                  "3889a67c-6b948c2a.mp3",
                  "satire",
                  "A veces no nos fijamos, parece que con darles de comer o darles dinero ya está bien, pero la humillación que supone para una familia que tiene que ir a pedir ese tipo de ayudas también deberíamos considerarla. Y no es lo mismo recibir una prestación pública de derecho con un dinero que te llega a tener que hacer cola en una fila del hambre que encima te llaman excluido, marginado o cosas parecidas."
                ],
                [
                  "1",
                  "aeb4e7f5-0b1d0ac6.mp3",
                  "satire",
                  "Buenas noches, hoy en Documentos TV les ofreceremos un reportaje que mola mazo, con mogollón de música, titis por un tubo y peñita guay hablando igual que yo, muy clarito. El escalofriante reportaje se titula Adolescentes, somos el futuro imperfecto."
                ],
                [
                  "2",
                  "49e38957-8400221a.mp3",
                  "no-satire",
                  "El grupo de países sudamericanos UNASUR discutirá en reunión de emergencia la negativa de varios países europeos de permitir el tránsito del avión del presidente de Bolivia Evo Morales, bajo sospechas que transportaba al fugitivo exagente de inteligencia estadounidense Edward Snowden. El mandatario fue recibido por una multitud en La Paz."
                ],
                [
                  "3",
                  "cbadf2d7-b8874b6d.mp3",
                  "no-satire",
                  "15 días le ha dado el juez Santiago Pedraz al fundador de Go West para que reúna 600.000 euros y evite así entrar en la cárcel. Tras confesar en la audiencia nacional que falseó las cuentas de la compañía durante 4 años, Genaro García sale acusado de varios delitos que podrían acarrear 10 años de cárcel. García ha reconocido ante el magistrado que es el titular de una cuenta con 3 millones de euros en Lucemurgo."
                ],
                [
                  "4",
                  "5dfe1dd7-9c90b9e2.mp3",
                  "no-satire",
                  "Hay un puñado de experimentos asignados a diferentes laboratorios subterráneos de todo el mundo. Ellos quieren ser los primeros en levantarse y decir, la hemos descubierto. Así que es muy competitivo. Quien tenga la suerte de descubrir la materia oscura, ganará sin duda un premio Nobel, absolutamente."
                ],
                [
                  "5",
                  "4dfd24ac-d459c5c2.mp3",
                  "satire",
                  "Mientras no los tengas ahí arriba trepados en la camioneta, esa es la cosa. Eso es lo que va a haber hablado Xochitl. Xochitl Galvez dijo que en ciertos lugares iba a aceptar la ayuda del presidente, ¿no? Sí, los que están en peligro, como todo lo que es México. Como todo México, ¿no? Ah, como todo México. Vamos rápidamente con el video de Xochitl Galvez donde dice que va a aceptar la seguridad de la Sedena en zonas de alto riesgo como Culiacán, entre otros."
                ],
                [
                  "6",
                  "9b027c7c-cbbb0bbc.mp3",
                  "no-satire",
                  "Este es el centro electoral del barrio de Doral, en el condado de Miami-Dade, uno de los centros más importantes de toda la Florida, que de hecho es un estado decisivo, uno de los llamados estados péndulo, donde puede ganar tanto Mitt Romney como Barack Obama y donde hay 29 delegados a juego que le van a venir muy bien a cualquiera de los dos candidatos."
                ],
                [
                  "7",
                  "e8294a31-626b0f7d.mp3",
                  "satire",
                  "Las puertas del mítin que el Partido Popular ha organizado aquí en Madrid dentro de esa gira, de ese tour para protestar contra la reforma del delito de sedición es ahora mismo un asunto crucial para los populares. Vamos a ver cómo transcurre la mañana. ¿Por qué está usted hoy aquí?"
                ],
                [
                  "8",
                  "d41d0ccc-fe62e3b8.mp3",
                  "no-satire",
                  "Cada año los guatemaltecos pasan semanas creando estos barriletes gigantes, algunos de los cuales pueden llegar a medir 18 metros. Recientemente se los pudo ver surcando los cielos de Ciudad de Guatemala, como parte del inicio de las celebraciones del Año Nuevo Maya, que culminarán en diciembre."
                ],
                [
                  "9",
                  "77cd85aa-f2797683.mp3",
                  "satire",
                  "Pero lo de la ultraderecha a mí me parece un poco, con perdón, el que viene el lobo, porque todos conocemos la fábula del lobo."
                ],
                [
                  "10",
                  "fe5ce030-59c49cbc.mp3",
                  "no-satire",
                  "Sushi como forma de arte. En las manos del artista Takayo Kiyoto, el plato tradicional japonés de arroz y cebolla se convierte en una canvás. Sus obras incluyen versiones de sushi de famosas pinturas y rolas que revelan una imagen diferente con cada corte. Ahora está compartiendo sus habilidades a través de los trabajos."
                ],
                [
                  "11",
                  "497698ef-6335326e.mp3",
                  "no-satire",
                  "Más noticias. La madre era la responsable de la radicalización de sus hijos hacia el yihadismo. Hablamos de la familia detenida ayer en Badarona. El juez Pablo Ruz ha ordenado prisión para la madre que iba a enviar a Siria a sus dos hijos de solo 16 años. Su marido sigue imputado pero ha sido puesto en libertad. Vamos a la Audiencia Nacional, Marina Monzón."
                ],
                [
                  "12",
                  "23a2f1c4-322f0242.mp3",
                  "no-satire",
                  "A medida que pasan las horas vamos conociendo algo más a ese joven obsesionado con volar en los Alpes y con problemas mentales. Además ocultó deliberadamente a la compañía para la que trabajaba este asunto. En los registros en su domicilio en Düsseldorf, los investigadores han hallado varios partes médicos que Lubitsch nunca llegó a entregar. Nuestra compañera María Miñana ha estado siguiendo esas actuaciones de la policía. Veamos qué otros datos han obtenido María."
                ],
                [
                  "13",
                  "e69060f8-2ddfa35d.mp3",
                  "no-satire",
                  "Hoy es lunes, estamos ya de lleno en la Semana Santa y ha lucido el sol durante toda la tarde. Esto significa que pasos y procesiones han podido salir a la calle con normalidad. El pasado año, tal día como hoy, la lluvia impidió en buena parte de Castilla y León que se pudiese celebrar la tradición del lunes santo. Enseguida estamos en algunas de estas procesiones que llevaban ya un par de años sin celebrarse por la lluvia."
                ],
                [
                  "14",
                  "fb8ccf0c-e9b04b49.mp3",
                  "satire",
                  "¡Claro que sí! Aquí estamos en Ayatú, que estamos pues eso, que tiramos la casa por la ventana. La directora es que ya no sabe qué hacer para subir la audiencia, como si mi sola presencia no bastase. En fin, que hoy tenemos pues eso, a dos concursantes de lo más garrulo que te puedas encontrar en el mundo. Con todos nosotros demos un fuerte aplauso a Jessy Rubén. ¡Claro!"
                ],
                [
                  "15",
                  "b1373891-33522ea4.mp3",
                  "no-satire",
                  "Pero eso fue hace un año. Desde entonces la intervención sobre el mural no ha hecho sino atraer turistas a esta pequeña localidad cerca de Zaragoza, en el noreste de España. Las autoridades decidieron sacar partido, cobrando un euro por la entrada a la iglesia. Y Jiménez se ha vuelto una celebridad local."
                ],
                [
                  "16",
                  "b911ef38-f611d475.mp3",
                  "satire",
                  "En un perro mensaje de ocho interminables minutos se le pasó, sin querer, el pequeño detalle de condenar un acto tan cruel, por lo que la embajadora publicó un comunicado para decirle que el rompope estaba muy aguado y que si por favor le podía echar un poquito más de huevos, porque Gaza está muy lejos y si ya va a decir Mary Jane, pues por lo menos que la diga más fuerte."
                ],
                [
                  "17",
                  "e02b3e47-47d30ded.mp3",
                  "no-satire",
                  "En torno a la una de la madrugada la A52 quedaba libre de nieve y los coches volvían a circular, aunque con la advertencia de visibilidad reducida. Galicia se ha llevado la peor parte de este temporal. Nieve en el interior, las carreteras de Lugo y Orense han sido las más afectadas y fuerte viento en la costa en donde las rachas han alcanzado los 90 km por hora y se han visto olas de hasta 9 metros."
                ],
                [
                  "18",
                  "7dbd590c-f2a39749.mp3",
                  "no-satire",
                  "En las calles de Madrid han vivido la primera gran manifestación nacional contra la violencia de género. Decenas de miles de personas llegadas de todos los puntos de España han participado en la multitudinaria marcha del 7N que ha reclamado un pacto de Estado contra las violencias machistas. Representantes de todos los partidos, sindicatos y colectivos sociales han respondido al llamamiento de la Marea Morada. Allí se encuentra Patricia Valero."
                ],
                [
                  "19",
                  "1a7e2952-d3219e9b.mp3",
                  "no-satire",
                  "Buenas tardes, nos van a dar más detalles de esa operación en directo desde Ucrania. Otra noticia del día llega desde Bruselas. Ayer el Consejo Asesor de Artur Mas emitió un informe dando casi por seguro que una Cataluña independiente seguiría en la Unión Europea. Hoy la Unión Europea da su respuesta oficial. Insiste en que eso no ocurriría. Si Cataluña se independiza, dejará de ser territorio comunitario de forma automática."
                ],
                [
                  "20",
                  "1116695e-02f98551.mp3",
                  "satire",
                  "Una de las declaraciones, Miguel, más sorprendentes por parte de los obispos ha sido la del arzobispo de Barcelona, Monseñor Omeya. Dice que esa cifra que arroja el informe de 440.000 víctimas es una extrapolación sin fundamento, pero es que añade que las cifras tienen intención de engañar. ¿Qué te parece esta afirmación? Yo creo que Omeya y los obispos españoles han dado un paso más."
                ],
                [
                  "21",
                  "648922da-47e2438c.mp3",
                  "satire",
                  "Para las campañas publicitarias, fíjate, parece dinámica de TikTok de te doy 400 palos y votas por Morena como para decirle duplica, le das al siguiente y chingas a tu madre. Así fue formándose la carrera política de Manuel Velasco, desviando unos milloncitos por aquí, unos milloncitos por acá. Entre los proveedores de Velasco hay más fantasmas que en todo Comala."
                ],
                [
                  "22",
                  "c5757000-1092fc3d.mp3",
                  "satire",
                  "Con lunacitos. Mis pijamas tanto de verano como de invierno son de todos cortos. No uso pijamas largos. Nada. No. Ni bragas estas de cuello vuelto para tener caliente la barriga. No. ¿Sabe usted que el invierno es como para acurrucarse más? Hay gente que se acurruca mucho a su pareja, hay gente que se acurruca a la bolsa de agua caliente. ¿Qué hace usted?"
                ],
                [
                  "23",
                  "2d8b4355-23ac33c1.mp3",
                  "no-satire",
                  "Parece una contradicción que si puedes hacer eso, puedes responder las grandes preguntas sobre el origen del universo, de si hay vida en otro planeta y cómo sería esa forma de vida. Pero eso es lo que estamos haciendo bajo tierra. Este medio ambiente te permite hacer este tipo de estudios y muy bien."
                ],
                [
                  "24",
                  "87087c95-efe6cdff.mp3",
                  "no-satire",
                  "sobre su manejo de la guerra indopakistaní, su distensión con la Unión Soviética, sus negociaciones con Chiang Kai-shek y Mao Zedong en China. Ahora podemos tener una visión completa de cómo se hace la política exterior y las cintas iluminan la locura de Nixon, su perversión, su extraña y mesiánica creencia en que podía realinear todo el orden mundial."
                ],
                [
                  "25",
                  "e68801f4-bf5fdd45.mp3",
                  "no-satire",
                  "al lado de la casa de sus padres. Por eso lo veía mucho, porque seguramente pasaría a comer a la casa de sus padres. Y era la hora de comer a la que yo me iba a comer a la casa de mis padres. Entiendo, alcalde, que se lo pregunto porque si Daniel en algún momento dado empieza a acumular algún tipo de material, algún tipo de sustancia, algún tipo de aparataje para llevar a cabo este lamentable hecho, podría haberlo hecho sin que nadie en el pueblo tuviera constancia de lo que estaba pasando."
                ],
                [
                  "26",
                  "c2efe4a2-fe3c3032.mp3",
                  "no-satire",
                  "Nos ocupamos de más cosas. Desde las 9 y media de la mañana la policía antifraude está registrando las oficinas de GOWEX en Madrid. Después de decretar ayer prisión provisional bajo fianza a su expresidente, Genaro García, el juez de la Audiencia Nacional, Santiago Pedraz, ha ordenado estos registros que Alberto Ramos van a mantenerse durante todo el día."
                ],
                [
                  "27",
                  "5e7a2792-7001b46c.mp3",
                  "satire",
                  "Ya estamos de regreso en la red de la república. Señora bonita, amigo, como de casa, le estamos platicando en el bloque pasado acerca del muy lamentable incendio allá en Tepito, de toda la gente que se unió para echar la mano. Le mandamos un abrazo a toda la gente que que está allá, ojalá no no pase a mayores y que no haya, pues sí, que no haya habido pérdidas graves y estamos con todos ustedes. Vamos rápidamente con, ay Dios, Chema. Bueno."
                ],
                [
                  "28",
                  "fa5ffc8f-5d396106.mp3",
                  "satire",
                  "Increpan desde un balcón a un astronauta de la Estación Espacial Internacional por salir a dar un paseo espacial. Xavi Puig. Vuelve a tu puta nave, desgraciado, gritaron varios vecinos que corrieron a espiar con sus telescopios. El astronauta argumenta que estaba paseando a Laika, una excusa que no ha convencido a los vecinos, que colgaron capturas del astronauta paseando en las redes sociales acompañadas de insultos de todo tipo."
                ],
                [
                  "29",
                  "4f5f2fb0-e7078dc0.mp3",
                  "satire",
                  "Todo se vale, nunca faltan las traiciones y para mantenerse en el poder se humillarán más que a la de la torre fingiendo que llora. Así es, estamos hablando del senador del PAN y Mr. Bean con depresión, Miguel Ángel Yunes Márquez, quien acaba de ganarse el título de supercuate de esta secta putrefacta a la que conocemos como Morena."
                ],
                [
                  "30",
                  "2bdc9c13-57247f59.mp3",
                  "no-satire",
                  "Ahora la escuela está vacía, con fragmentos de lo que fue desparramados por el suelo. La controversia sobre las armas químicas parece haber perdido fuerza. La tensión del mundo está cambiando de foco y alejándose de Siria. Pero para las víctimas de la guerra, el sufrimiento continúa con la misma intensidad."
                ],
                [
                  "31",
                  "ae811f8b-402d0bed.mp3",
                  "satire",
                  "Ya lo estoy viendo, compañeros, ya lo estoy viendo. Está a dos... no sé, no se calcula, está muy cerca. Pues me cambio de helicóptero, si os parece bien. Desde aquí el micrófono parece mejor. Es que te oímos muy mal, Javi."
                ],
                [
                  "32",
                  "e9c9a3f2-9c59e89b.mp3",
                  "no-satire",
                  "También pequeñas inundaciones y balsas de agua en puntos de la A7 y en algunos municipios de la Costa del Sol como Mijas, Marbella, Vélez Málaga y La Capital. Dos horas de intensa lluvia y granizo que muchos malagueños recogían así en las redes sociales y que mantuvieron en alerta a toda la provincia hasta las 3 de la madrugada."
                ],
                [
                  "33",
                  "5f944b3f-e37557d1.mp3",
                  "no-satire",
                  "Esta madrugada lo han conseguido unos 60. Un grupo de inmigrantes cruza la valla fronteriza en Melilla tras una noche en la que hasta en seis puntos distintos de la verja se han registrado intentos de salto de modo simultáneo. Antes de llegar al centro de acogida se desprendieron de los zapatos y de la ropa con pinchos y ganchos que utilizan para sortear la llamada valla antitrepa que colocó el Ministerio del Interior en algunas zonas."
                ],
                [
                  "34",
                  "253a63c2-5844accf.mp3",
                  "no-satire",
                  "Estos coloridos murales inspiran y atraen visitantes al pequeño pueblo de Botvalenque, en Hungría. Artistas romaníes de varios países pintaron los frescos en los muros de las casas como parte de un proyecto de arte que comenzó hace cinco años. Hoy, los 29 vibrantes murales que retratan escenas de canciones y cuentos tradicionales del pueblo gitano alegran la vida de la aldea."
                ],
                [
                  "35",
                  "74f1eb32-6913879a.mp3",
                  "no-satire",
                  "Teresa Romero experimenta una leve mejoría. La técnico de enfermería que ha pasado su quinta noche en el hospital Carlos III permanece estable dentro de la gravedad. Los médicos no descartan complicaciones, pero de momento celebran que la paciente no haya empeorado en las últimas horas. Al parecer está consciente, incluso habla con ellos. Ainhoa Lujanvi, Última Hora."
                ],
                [
                  "36",
                  "fcaf8e71-79fc3680.mp3",
                  "satire",
                  "Por supuesto. Quizá para rectificar alguna cosa de la primera. No hay que rectificar nada. ¿Señor Almida, cuántos ejemplares del Quijote calcula que se podrían imprimir con los árboles que ha talado en Madrid? Te digo una cosa, con los 10 euros que me regalaste no da ni para una edición mini. Ahí está. Para una de bolsillo seguro que sí. Vaya respuesta."
                ],
                [
                  "37",
                  "695d3b30-7d3e8296.mp3",
                  "satire",
                  "a formarse para tener más posibilidades en su empresa de mejorar la productividad de las empresas. Esta es una cuestión fundamental. Desde 1888 que se fundó la UGT hemos reducido muy poco la jornada de trabajo y sin embargo la tecnología permite que se produzca mucho más con mucha menos gente."
                ],
                [
                  "38",
                  "74efb0c3-0067a347.mp3",
                  "no-satire",
                  "Tras más de dos años de diferencias, los cinco miembros permanentes del Consejo de Seguridad de Naciones Unidas lograron un acuerdo sobre una resolución que exige la eliminación del arsenal de armas químicas de Siria. Se espera que este viernes haya una votación sobre el proyecto."
                ],
                [
                  "39",
                  "421d1726-2efb5e1e.mp3",
                  "no-satire",
                  "Agricultura se reúne con representantes de los sectores afectados por el boicot de Rusia a los productos europeos. Agricultores y ganaderos piden ayudas a la Unión Europea y la ministra plantea que Bruselas pague los productos que iban a ser exportados y retirarlos del mercado para evitar así la caída de precios."
                ],
                [
                  "40",
                  "ade449a4-805c574a.mp3",
                  "satire",
                  "Irene, tú, no sé si has tenido ocasión de informarte, ¿qué opinión tienes? Porque es que ya digo, se está hablando mucho del bosón de Hikes, muchísimo, pero nadie ha dicho, ostras, vamos a parar un momento, valoremos el bosón de Hikes, ¿qué opinión tenemos del bosón de Hikes? Vayamos a lo concreto, si queréis. Irene, ¿cuántos bosones te caben en la boca?"
                ],
                [
                  "41",
                  "cdd56e7a-caee8c94.mp3",
                  "no-satire",
                  "Evidentemente drogas nada. Que no tenga ninguna droga de consumo y tampoco que beba demasiada cafeína. Estamos hablando de un fluido vivo. Sí. Con muchos riesgos si accedes a él de forma descontrolada. Efectivamente. Hay un mercado paralelo, no en España, sino en Estados Unidos y en algún país europeo, donde se comercializa. Es una leche que no lleva ningún control sanitario."
                ],
                [
                  "42",
                  "a24d442b-c61b04d7.mp3",
                  "satire",
                  "¿Alguna cosa? ¿Lo ha leído usted? Porque yo estaba fuera. Sí, sí. ¿Ha leído? ¿Y qué tal? ¿Se ha trabado o no? No sé, creo que no. Vale, vale, vale. Tampoco es un drama trabarse en la vida. A mí me pone nervioso, eh. Sí, bueno, eso es otra cosa porque tenemos mucha arrogancia. Claro. Hay que saber también equivocarse. La humanidad al final está contra la vanidad, ¿no? Sí, yo creo que sí. Naturalidad. Yo soy de la LOGSE, que los informes piensan que me he recomanido. No, no, no, no. Así que gracias. Seguro que está bien preparado. Que vaya bien, gracias. Adiós."
                ],
                [
                  "43",
                  "390c75d5-23d508fd.mp3",
                  "satire",
                  "Y ustedes dirán, ¿por qué no me puedo poner feliz de que por fin algo que prometió mi viejito santo se esté cumpliendo? Pues, mis nenesuras, disculpen si uno anda un poco incrédulo, pero a menos que en 15 días del famoso arranque de ese tramo, así es como lucen varias de las estaciones del Tren Maya. Algunas solo están en obra negra, o como le conoce Kalimba,"
                ],
                [
                  "44",
                  "42a9fbe3-a8544bdd.mp3",
                  "satire",
                  "Lo que se hace ahora es TikToks Y entonces si tienes muchos seguidores Da gustito Entonces es"
                ],
                [
                  "45",
                  "0ad1e7fe-e49c41c2.mp3",
                  "satire",
                  "Mira. ¿Cuántas gafas has roto? Dilo, Tomás. Pero, Biel, eso es ilegal lo que acabas de hacer. No, compro el agua por Amazon y viene de Estados Unidos. Y en Estados Unidos no están para tonterías. Entonces, en Estados Unidos sí que saben lo que la ciudadanía quiere."
                ],
                [
                  "46",
                  "a1a40cf9-536cd688.mp3",
                  "satire",
                  "Un ángel que pasa del cielo al espacio. Sí, la verdad, el chiste se hace solo. ¿Y estás contento o alguna vez has pensado en cambiarte, Ángel? A ver, muchas veces me he pensado en cambiarme, pero no porque dude mi vocación, sino porque el sistema de las universidades está un poco anticuado y nuestra carrera necesitaría más parte práctica. Pero sería carísimo también, a nivel práctico, subir al espacio cada dos por tres para hacer prácticas."
                ],
                [
                  "47",
                  "c7b0fbd6-9e2f81ef.mp3",
                  "no-satire",
                  "Nos ocupamos ahora del agresor sexual que en estos últimos meses ha raptado a dos menores en Madrid, en el barrio de Ciudad Lineal. Este individuo ha vuelto a actuar. Ayer secuestró a otra menor, a una niña de 7 años, que fue encontrada horas después, afortunadamente en una calle próxima al sitio en el que había desaparecido. Isaías Blázquez, la policía está ya investigando este nuevo caso. ¿Qué novedades tenemos?"
                ],
                [
                  "48",
                  "967719b9-8d16a6e4.mp3",
                  "no-satire",
                  "Francia y México condenaron enérgicamente las acusaciones de espionaje sobre los gobiernos de ambos países por la Agencia de Seguridad Nacional de Estados Unidos. Mientras que París convocó al embajador estadounidense para aclarar los documentos filtrados, México calificó de inaceptable la presunta vigilancia al expresidente Felipe Calderón."
                ],
                [
                  "49",
                  "516174bb-a53c9d86.mp3",
                  "satire",
                  "Ahora, si nos vamos a checar propiedades, Morena tiene más cola que el Episodio 8. Y Mar del Chor. De verdad, hermano, estamos checando las cosas. Tiene 13. Qué bueno que no cobran por foco. Sí, exacto. Vamos a un pequeño corte comercial y regresamos con la mañanera porque el presidente comentó que para las fiestas del 16 de septiembre no va a invitar al Poder Judicial de la Federación. Vamos con esto. Usted no se mueva y regresamos."
                ]
              ],
              "shape": {
                "columns": 3,
                "rows": 384
              }
            },
            "text/html": [
              "<div>\n",
              "<style scoped>\n",
              "    .dataframe tbody tr th:only-of-type {\n",
              "        vertical-align: middle;\n",
              "    }\n",
              "\n",
              "    .dataframe tbody tr th {\n",
              "        vertical-align: top;\n",
              "    }\n",
              "\n",
              "    .dataframe thead th {\n",
              "        text-align: right;\n",
              "    }\n",
              "</style>\n",
              "<table border=\"1\" class=\"dataframe\">\n",
              "  <thead>\n",
              "    <tr style=\"text-align: right;\">\n",
              "      <th></th>\n",
              "      <th>id</th>\n",
              "      <th>label</th>\n",
              "      <th>transcription</th>\n",
              "    </tr>\n",
              "  </thead>\n",
              "  <tbody>\n",
              "    <tr>\n",
              "      <th>0</th>\n",
              "      <td>3889a67c-6b948c2a.mp3</td>\n",
              "      <td>satire</td>\n",
              "      <td>A veces no nos fijamos, parece que con darles ...</td>\n",
              "    </tr>\n",
              "    <tr>\n",
              "      <th>1</th>\n",
              "      <td>aeb4e7f5-0b1d0ac6.mp3</td>\n",
              "      <td>satire</td>\n",
              "      <td>Buenas noches, hoy en Documentos TV les ofrece...</td>\n",
              "    </tr>\n",
              "    <tr>\n",
              "      <th>2</th>\n",
              "      <td>49e38957-8400221a.mp3</td>\n",
              "      <td>no-satire</td>\n",
              "      <td>El grupo de países sudamericanos UNASUR discut...</td>\n",
              "    </tr>\n",
              "    <tr>\n",
              "      <th>3</th>\n",
              "      <td>cbadf2d7-b8874b6d.mp3</td>\n",
              "      <td>no-satire</td>\n",
              "      <td>15 días le ha dado el juez Santiago Pedraz al ...</td>\n",
              "    </tr>\n",
              "    <tr>\n",
              "      <th>4</th>\n",
              "      <td>5dfe1dd7-9c90b9e2.mp3</td>\n",
              "      <td>no-satire</td>\n",
              "      <td>Hay un puñado de experimentos asignados a dife...</td>\n",
              "    </tr>\n",
              "    <tr>\n",
              "      <th>...</th>\n",
              "      <td>...</td>\n",
              "      <td>...</td>\n",
              "      <td>...</td>\n",
              "    </tr>\n",
              "    <tr>\n",
              "      <th>379</th>\n",
              "      <td>fa5e948b-3c26867e.mp3</td>\n",
              "      <td>no-satire</td>\n",
              "      <td>El gobierno de Ucrania dijo que continuará su ...</td>\n",
              "    </tr>\n",
              "    <tr>\n",
              "      <th>380</th>\n",
              "      <td>056d52aa-fae45a22.mp3</td>\n",
              "      <td>no-satire</td>\n",
              "      <td>Las reacciones a esta nueva tragedia no se han...</td>\n",
              "    </tr>\n",
              "    <tr>\n",
              "      <th>381</th>\n",
              "      <td>eeea6af3-83e94953.mp3</td>\n",
              "      <td>no-satire</td>\n",
              "      <td>Un equipo de científicos decodificó el ADN de ...</td>\n",
              "    </tr>\n",
              "    <tr>\n",
              "      <th>382</th>\n",
              "      <td>512b1051-5ef2d5f1.mp3</td>\n",
              "      <td>no-satire</td>\n",
              "      <td>En el puesto número 2, una fiesta navideña en ...</td>\n",
              "    </tr>\n",
              "    <tr>\n",
              "      <th>383</th>\n",
              "      <td>e2fb359c-612cd3c8.mp3</td>\n",
              "      <td>no-satire</td>\n",
              "      <td>Jamás ha demostrado que sus misiles pueden gol...</td>\n",
              "    </tr>\n",
              "  </tbody>\n",
              "</table>\n",
              "<p>384 rows × 3 columns</p>\n",
              "</div>"
            ],
            "text/plain": [
              "                        id      label  \\\n",
              "0    3889a67c-6b948c2a.mp3     satire   \n",
              "1    aeb4e7f5-0b1d0ac6.mp3     satire   \n",
              "2    49e38957-8400221a.mp3  no-satire   \n",
              "3    cbadf2d7-b8874b6d.mp3  no-satire   \n",
              "4    5dfe1dd7-9c90b9e2.mp3  no-satire   \n",
              "..                     ...        ...   \n",
              "379  fa5e948b-3c26867e.mp3  no-satire   \n",
              "380  056d52aa-fae45a22.mp3  no-satire   \n",
              "381  eeea6af3-83e94953.mp3  no-satire   \n",
              "382  512b1051-5ef2d5f1.mp3  no-satire   \n",
              "383  e2fb359c-612cd3c8.mp3  no-satire   \n",
              "\n",
              "                                         transcription  \n",
              "0    A veces no nos fijamos, parece que con darles ...  \n",
              "1    Buenas noches, hoy en Documentos TV les ofrece...  \n",
              "2    El grupo de países sudamericanos UNASUR discut...  \n",
              "3    15 días le ha dado el juez Santiago Pedraz al ...  \n",
              "4    Hay un puñado de experimentos asignados a dife...  \n",
              "..                                                 ...  \n",
              "379  El gobierno de Ucrania dijo que continuará su ...  \n",
              "380  Las reacciones a esta nueva tragedia no se han...  \n",
              "381  Un equipo de científicos decodificó el ADN de ...  \n",
              "382  En el puesto número 2, una fiesta navideña en ...  \n",
              "383  Jamás ha demostrado que sus misiles pueden gol...  \n",
              "\n",
              "[384 rows x 3 columns]"
            ]
          },
          "execution_count": 3,
          "metadata": {},
          "output_type": "execute_result"
        }
      ],
      "source": [
        "# Read the CSV files\n",
        "path = \"data/reference_data/\"\n",
        "train_df = pd.read_csv(path + \"SatiSPeech_phase_1_train_codalab.csv\")\n",
        "test_df = pd.read_csv(path + \"SatiSPeech_phase_1_test_codalab.csv\")\n",
        "train_df"
      ]
    },
    {
      "cell_type": "code",
      "execution_count": 4,
      "metadata": {
        "colab": {
          "base_uri": "https://localhost:8080/",
          "height": 423
        },
        "id": "JP3uXxV-mnv9",
        "outputId": "dbebec31-5af2-41b6-d29d-a1047ccd2fd3"
      },
      "outputs": [
        {
          "data": {
            "application/vnd.microsoft.datawrangler.viewer.v0+json": {
              "columns": [
                {
                  "name": "index",
                  "rawType": "int64",
                  "type": "integer"
                },
                {
                  "name": "id",
                  "rawType": "object",
                  "type": "string"
                },
                {
                  "name": "label",
                  "rawType": "object",
                  "type": "string"
                },
                {
                  "name": "transcription",
                  "rawType": "object",
                  "type": "string"
                },
                {
                  "name": "path",
                  "rawType": "object",
                  "type": "string"
                }
              ],
              "conversionMethod": "pd.DataFrame",
              "ref": "7bc8757c-bca2-4ee1-8966-42fba70b02d8",
              "rows": [
                [
                  "0",
                  "3889a67c-6b948c2a.mp3",
                  "satire",
                  "A veces no nos fijamos, parece que con darles de comer o darles dinero ya está bien, pero la humillación que supone para una familia que tiene que ir a pedir ese tipo de ayudas también deberíamos considerarla. Y no es lo mismo recibir una prestación pública de derecho con un dinero que te llega a tener que hacer cola en una fila del hambre que encima te llaman excluido, marginado o cosas parecidas.",
                  "data/reference_data/dev_segments/3889a67c-6b948c2a.mp3"
                ],
                [
                  "1",
                  "aeb4e7f5-0b1d0ac6.mp3",
                  "satire",
                  "Buenas noches, hoy en Documentos TV les ofreceremos un reportaje que mola mazo, con mogollón de música, titis por un tubo y peñita guay hablando igual que yo, muy clarito. El escalofriante reportaje se titula Adolescentes, somos el futuro imperfecto.",
                  "data/reference_data/dev_segments/aeb4e7f5-0b1d0ac6.mp3"
                ],
                [
                  "2",
                  "49e38957-8400221a.mp3",
                  "no-satire",
                  "El grupo de países sudamericanos UNASUR discutirá en reunión de emergencia la negativa de varios países europeos de permitir el tránsito del avión del presidente de Bolivia Evo Morales, bajo sospechas que transportaba al fugitivo exagente de inteligencia estadounidense Edward Snowden. El mandatario fue recibido por una multitud en La Paz.",
                  "data/reference_data/dev_segments/49e38957-8400221a.mp3"
                ],
                [
                  "3",
                  "cbadf2d7-b8874b6d.mp3",
                  "no-satire",
                  "15 días le ha dado el juez Santiago Pedraz al fundador de Go West para que reúna 600.000 euros y evite así entrar en la cárcel. Tras confesar en la audiencia nacional que falseó las cuentas de la compañía durante 4 años, Genaro García sale acusado de varios delitos que podrían acarrear 10 años de cárcel. García ha reconocido ante el magistrado que es el titular de una cuenta con 3 millones de euros en Lucemurgo.",
                  "data/reference_data/dev_segments/cbadf2d7-b8874b6d.mp3"
                ],
                [
                  "4",
                  "5dfe1dd7-9c90b9e2.mp3",
                  "no-satire",
                  "Hay un puñado de experimentos asignados a diferentes laboratorios subterráneos de todo el mundo. Ellos quieren ser los primeros en levantarse y decir, la hemos descubierto. Así que es muy competitivo. Quien tenga la suerte de descubrir la materia oscura, ganará sin duda un premio Nobel, absolutamente.",
                  "data/reference_data/dev_segments/5dfe1dd7-9c90b9e2.mp3"
                ],
                [
                  "5",
                  "4dfd24ac-d459c5c2.mp3",
                  "satire",
                  "Mientras no los tengas ahí arriba trepados en la camioneta, esa es la cosa. Eso es lo que va a haber hablado Xochitl. Xochitl Galvez dijo que en ciertos lugares iba a aceptar la ayuda del presidente, ¿no? Sí, los que están en peligro, como todo lo que es México. Como todo México, ¿no? Ah, como todo México. Vamos rápidamente con el video de Xochitl Galvez donde dice que va a aceptar la seguridad de la Sedena en zonas de alto riesgo como Culiacán, entre otros.",
                  "data/reference_data/dev_segments/4dfd24ac-d459c5c2.mp3"
                ],
                [
                  "6",
                  "9b027c7c-cbbb0bbc.mp3",
                  "no-satire",
                  "Este es el centro electoral del barrio de Doral, en el condado de Miami-Dade, uno de los centros más importantes de toda la Florida, que de hecho es un estado decisivo, uno de los llamados estados péndulo, donde puede ganar tanto Mitt Romney como Barack Obama y donde hay 29 delegados a juego que le van a venir muy bien a cualquiera de los dos candidatos.",
                  "data/reference_data/dev_segments/9b027c7c-cbbb0bbc.mp3"
                ],
                [
                  "7",
                  "e8294a31-626b0f7d.mp3",
                  "satire",
                  "Las puertas del mítin que el Partido Popular ha organizado aquí en Madrid dentro de esa gira, de ese tour para protestar contra la reforma del delito de sedición es ahora mismo un asunto crucial para los populares. Vamos a ver cómo transcurre la mañana. ¿Por qué está usted hoy aquí?",
                  "data/reference_data/dev_segments/e8294a31-626b0f7d.mp3"
                ],
                [
                  "8",
                  "d41d0ccc-fe62e3b8.mp3",
                  "no-satire",
                  "Cada año los guatemaltecos pasan semanas creando estos barriletes gigantes, algunos de los cuales pueden llegar a medir 18 metros. Recientemente se los pudo ver surcando los cielos de Ciudad de Guatemala, como parte del inicio de las celebraciones del Año Nuevo Maya, que culminarán en diciembre.",
                  "data/reference_data/dev_segments/d41d0ccc-fe62e3b8.mp3"
                ],
                [
                  "9",
                  "77cd85aa-f2797683.mp3",
                  "satire",
                  "Pero lo de la ultraderecha a mí me parece un poco, con perdón, el que viene el lobo, porque todos conocemos la fábula del lobo.",
                  "data/reference_data/dev_segments/77cd85aa-f2797683.mp3"
                ],
                [
                  "10",
                  "fe5ce030-59c49cbc.mp3",
                  "no-satire",
                  "Sushi como forma de arte. En las manos del artista Takayo Kiyoto, el plato tradicional japonés de arroz y cebolla se convierte en una canvás. Sus obras incluyen versiones de sushi de famosas pinturas y rolas que revelan una imagen diferente con cada corte. Ahora está compartiendo sus habilidades a través de los trabajos.",
                  "data/reference_data/dev_segments/fe5ce030-59c49cbc.mp3"
                ],
                [
                  "11",
                  "497698ef-6335326e.mp3",
                  "no-satire",
                  "Más noticias. La madre era la responsable de la radicalización de sus hijos hacia el yihadismo. Hablamos de la familia detenida ayer en Badarona. El juez Pablo Ruz ha ordenado prisión para la madre que iba a enviar a Siria a sus dos hijos de solo 16 años. Su marido sigue imputado pero ha sido puesto en libertad. Vamos a la Audiencia Nacional, Marina Monzón.",
                  "data/reference_data/dev_segments/497698ef-6335326e.mp3"
                ],
                [
                  "12",
                  "23a2f1c4-322f0242.mp3",
                  "no-satire",
                  "A medida que pasan las horas vamos conociendo algo más a ese joven obsesionado con volar en los Alpes y con problemas mentales. Además ocultó deliberadamente a la compañía para la que trabajaba este asunto. En los registros en su domicilio en Düsseldorf, los investigadores han hallado varios partes médicos que Lubitsch nunca llegó a entregar. Nuestra compañera María Miñana ha estado siguiendo esas actuaciones de la policía. Veamos qué otros datos han obtenido María.",
                  "data/reference_data/dev_segments/23a2f1c4-322f0242.mp3"
                ],
                [
                  "13",
                  "e69060f8-2ddfa35d.mp3",
                  "no-satire",
                  "Hoy es lunes, estamos ya de lleno en la Semana Santa y ha lucido el sol durante toda la tarde. Esto significa que pasos y procesiones han podido salir a la calle con normalidad. El pasado año, tal día como hoy, la lluvia impidió en buena parte de Castilla y León que se pudiese celebrar la tradición del lunes santo. Enseguida estamos en algunas de estas procesiones que llevaban ya un par de años sin celebrarse por la lluvia.",
                  "data/reference_data/dev_segments/e69060f8-2ddfa35d.mp3"
                ],
                [
                  "14",
                  "fb8ccf0c-e9b04b49.mp3",
                  "satire",
                  "¡Claro que sí! Aquí estamos en Ayatú, que estamos pues eso, que tiramos la casa por la ventana. La directora es que ya no sabe qué hacer para subir la audiencia, como si mi sola presencia no bastase. En fin, que hoy tenemos pues eso, a dos concursantes de lo más garrulo que te puedas encontrar en el mundo. Con todos nosotros demos un fuerte aplauso a Jessy Rubén. ¡Claro!",
                  "data/reference_data/dev_segments/fb8ccf0c-e9b04b49.mp3"
                ],
                [
                  "15",
                  "b1373891-33522ea4.mp3",
                  "no-satire",
                  "Pero eso fue hace un año. Desde entonces la intervención sobre el mural no ha hecho sino atraer turistas a esta pequeña localidad cerca de Zaragoza, en el noreste de España. Las autoridades decidieron sacar partido, cobrando un euro por la entrada a la iglesia. Y Jiménez se ha vuelto una celebridad local.",
                  "data/reference_data/dev_segments/b1373891-33522ea4.mp3"
                ],
                [
                  "16",
                  "b911ef38-f611d475.mp3",
                  "satire",
                  "En un perro mensaje de ocho interminables minutos se le pasó, sin querer, el pequeño detalle de condenar un acto tan cruel, por lo que la embajadora publicó un comunicado para decirle que el rompope estaba muy aguado y que si por favor le podía echar un poquito más de huevos, porque Gaza está muy lejos y si ya va a decir Mary Jane, pues por lo menos que la diga más fuerte.",
                  "data/reference_data/dev_segments/b911ef38-f611d475.mp3"
                ],
                [
                  "17",
                  "e02b3e47-47d30ded.mp3",
                  "no-satire",
                  "En torno a la una de la madrugada la A52 quedaba libre de nieve y los coches volvían a circular, aunque con la advertencia de visibilidad reducida. Galicia se ha llevado la peor parte de este temporal. Nieve en el interior, las carreteras de Lugo y Orense han sido las más afectadas y fuerte viento en la costa en donde las rachas han alcanzado los 90 km por hora y se han visto olas de hasta 9 metros.",
                  "data/reference_data/dev_segments/e02b3e47-47d30ded.mp3"
                ],
                [
                  "18",
                  "7dbd590c-f2a39749.mp3",
                  "no-satire",
                  "En las calles de Madrid han vivido la primera gran manifestación nacional contra la violencia de género. Decenas de miles de personas llegadas de todos los puntos de España han participado en la multitudinaria marcha del 7N que ha reclamado un pacto de Estado contra las violencias machistas. Representantes de todos los partidos, sindicatos y colectivos sociales han respondido al llamamiento de la Marea Morada. Allí se encuentra Patricia Valero.",
                  "data/reference_data/dev_segments/7dbd590c-f2a39749.mp3"
                ],
                [
                  "19",
                  "1a7e2952-d3219e9b.mp3",
                  "no-satire",
                  "Buenas tardes, nos van a dar más detalles de esa operación en directo desde Ucrania. Otra noticia del día llega desde Bruselas. Ayer el Consejo Asesor de Artur Mas emitió un informe dando casi por seguro que una Cataluña independiente seguiría en la Unión Europea. Hoy la Unión Europea da su respuesta oficial. Insiste en que eso no ocurriría. Si Cataluña se independiza, dejará de ser territorio comunitario de forma automática.",
                  "data/reference_data/dev_segments/1a7e2952-d3219e9b.mp3"
                ],
                [
                  "20",
                  "1116695e-02f98551.mp3",
                  "satire",
                  "Una de las declaraciones, Miguel, más sorprendentes por parte de los obispos ha sido la del arzobispo de Barcelona, Monseñor Omeya. Dice que esa cifra que arroja el informe de 440.000 víctimas es una extrapolación sin fundamento, pero es que añade que las cifras tienen intención de engañar. ¿Qué te parece esta afirmación? Yo creo que Omeya y los obispos españoles han dado un paso más.",
                  "data/reference_data/dev_segments/1116695e-02f98551.mp3"
                ],
                [
                  "21",
                  "648922da-47e2438c.mp3",
                  "satire",
                  "Para las campañas publicitarias, fíjate, parece dinámica de TikTok de te doy 400 palos y votas por Morena como para decirle duplica, le das al siguiente y chingas a tu madre. Así fue formándose la carrera política de Manuel Velasco, desviando unos milloncitos por aquí, unos milloncitos por acá. Entre los proveedores de Velasco hay más fantasmas que en todo Comala.",
                  "data/reference_data/dev_segments/648922da-47e2438c.mp3"
                ],
                [
                  "22",
                  "c5757000-1092fc3d.mp3",
                  "satire",
                  "Con lunacitos. Mis pijamas tanto de verano como de invierno son de todos cortos. No uso pijamas largos. Nada. No. Ni bragas estas de cuello vuelto para tener caliente la barriga. No. ¿Sabe usted que el invierno es como para acurrucarse más? Hay gente que se acurruca mucho a su pareja, hay gente que se acurruca a la bolsa de agua caliente. ¿Qué hace usted?",
                  "data/reference_data/dev_segments/c5757000-1092fc3d.mp3"
                ],
                [
                  "23",
                  "2d8b4355-23ac33c1.mp3",
                  "no-satire",
                  "Parece una contradicción que si puedes hacer eso, puedes responder las grandes preguntas sobre el origen del universo, de si hay vida en otro planeta y cómo sería esa forma de vida. Pero eso es lo que estamos haciendo bajo tierra. Este medio ambiente te permite hacer este tipo de estudios y muy bien.",
                  "data/reference_data/dev_segments/2d8b4355-23ac33c1.mp3"
                ],
                [
                  "24",
                  "87087c95-efe6cdff.mp3",
                  "no-satire",
                  "sobre su manejo de la guerra indopakistaní, su distensión con la Unión Soviética, sus negociaciones con Chiang Kai-shek y Mao Zedong en China. Ahora podemos tener una visión completa de cómo se hace la política exterior y las cintas iluminan la locura de Nixon, su perversión, su extraña y mesiánica creencia en que podía realinear todo el orden mundial.",
                  "data/reference_data/dev_segments/87087c95-efe6cdff.mp3"
                ],
                [
                  "25",
                  "e68801f4-bf5fdd45.mp3",
                  "no-satire",
                  "al lado de la casa de sus padres. Por eso lo veía mucho, porque seguramente pasaría a comer a la casa de sus padres. Y era la hora de comer a la que yo me iba a comer a la casa de mis padres. Entiendo, alcalde, que se lo pregunto porque si Daniel en algún momento dado empieza a acumular algún tipo de material, algún tipo de sustancia, algún tipo de aparataje para llevar a cabo este lamentable hecho, podría haberlo hecho sin que nadie en el pueblo tuviera constancia de lo que estaba pasando.",
                  "data/reference_data/dev_segments/e68801f4-bf5fdd45.mp3"
                ],
                [
                  "26",
                  "c2efe4a2-fe3c3032.mp3",
                  "no-satire",
                  "Nos ocupamos de más cosas. Desde las 9 y media de la mañana la policía antifraude está registrando las oficinas de GOWEX en Madrid. Después de decretar ayer prisión provisional bajo fianza a su expresidente, Genaro García, el juez de la Audiencia Nacional, Santiago Pedraz, ha ordenado estos registros que Alberto Ramos van a mantenerse durante todo el día.",
                  "data/reference_data/dev_segments/c2efe4a2-fe3c3032.mp3"
                ],
                [
                  "27",
                  "5e7a2792-7001b46c.mp3",
                  "satire",
                  "Ya estamos de regreso en la red de la república. Señora bonita, amigo, como de casa, le estamos platicando en el bloque pasado acerca del muy lamentable incendio allá en Tepito, de toda la gente que se unió para echar la mano. Le mandamos un abrazo a toda la gente que que está allá, ojalá no no pase a mayores y que no haya, pues sí, que no haya habido pérdidas graves y estamos con todos ustedes. Vamos rápidamente con, ay Dios, Chema. Bueno.",
                  "data/reference_data/dev_segments/5e7a2792-7001b46c.mp3"
                ],
                [
                  "28",
                  "fa5ffc8f-5d396106.mp3",
                  "satire",
                  "Increpan desde un balcón a un astronauta de la Estación Espacial Internacional por salir a dar un paseo espacial. Xavi Puig. Vuelve a tu puta nave, desgraciado, gritaron varios vecinos que corrieron a espiar con sus telescopios. El astronauta argumenta que estaba paseando a Laika, una excusa que no ha convencido a los vecinos, que colgaron capturas del astronauta paseando en las redes sociales acompañadas de insultos de todo tipo.",
                  "data/reference_data/dev_segments/fa5ffc8f-5d396106.mp3"
                ],
                [
                  "29",
                  "4f5f2fb0-e7078dc0.mp3",
                  "satire",
                  "Todo se vale, nunca faltan las traiciones y para mantenerse en el poder se humillarán más que a la de la torre fingiendo que llora. Así es, estamos hablando del senador del PAN y Mr. Bean con depresión, Miguel Ángel Yunes Márquez, quien acaba de ganarse el título de supercuate de esta secta putrefacta a la que conocemos como Morena.",
                  "data/reference_data/dev_segments/4f5f2fb0-e7078dc0.mp3"
                ],
                [
                  "30",
                  "2bdc9c13-57247f59.mp3",
                  "no-satire",
                  "Ahora la escuela está vacía, con fragmentos de lo que fue desparramados por el suelo. La controversia sobre las armas químicas parece haber perdido fuerza. La tensión del mundo está cambiando de foco y alejándose de Siria. Pero para las víctimas de la guerra, el sufrimiento continúa con la misma intensidad.",
                  "data/reference_data/dev_segments/2bdc9c13-57247f59.mp3"
                ],
                [
                  "31",
                  "ae811f8b-402d0bed.mp3",
                  "satire",
                  "Ya lo estoy viendo, compañeros, ya lo estoy viendo. Está a dos... no sé, no se calcula, está muy cerca. Pues me cambio de helicóptero, si os parece bien. Desde aquí el micrófono parece mejor. Es que te oímos muy mal, Javi.",
                  "data/reference_data/dev_segments/ae811f8b-402d0bed.mp3"
                ],
                [
                  "32",
                  "e9c9a3f2-9c59e89b.mp3",
                  "no-satire",
                  "También pequeñas inundaciones y balsas de agua en puntos de la A7 y en algunos municipios de la Costa del Sol como Mijas, Marbella, Vélez Málaga y La Capital. Dos horas de intensa lluvia y granizo que muchos malagueños recogían así en las redes sociales y que mantuvieron en alerta a toda la provincia hasta las 3 de la madrugada.",
                  "data/reference_data/dev_segments/e9c9a3f2-9c59e89b.mp3"
                ],
                [
                  "33",
                  "5f944b3f-e37557d1.mp3",
                  "no-satire",
                  "Esta madrugada lo han conseguido unos 60. Un grupo de inmigrantes cruza la valla fronteriza en Melilla tras una noche en la que hasta en seis puntos distintos de la verja se han registrado intentos de salto de modo simultáneo. Antes de llegar al centro de acogida se desprendieron de los zapatos y de la ropa con pinchos y ganchos que utilizan para sortear la llamada valla antitrepa que colocó el Ministerio del Interior en algunas zonas.",
                  "data/reference_data/dev_segments/5f944b3f-e37557d1.mp3"
                ],
                [
                  "34",
                  "253a63c2-5844accf.mp3",
                  "no-satire",
                  "Estos coloridos murales inspiran y atraen visitantes al pequeño pueblo de Botvalenque, en Hungría. Artistas romaníes de varios países pintaron los frescos en los muros de las casas como parte de un proyecto de arte que comenzó hace cinco años. Hoy, los 29 vibrantes murales que retratan escenas de canciones y cuentos tradicionales del pueblo gitano alegran la vida de la aldea.",
                  "data/reference_data/dev_segments/253a63c2-5844accf.mp3"
                ],
                [
                  "35",
                  "74f1eb32-6913879a.mp3",
                  "no-satire",
                  "Teresa Romero experimenta una leve mejoría. La técnico de enfermería que ha pasado su quinta noche en el hospital Carlos III permanece estable dentro de la gravedad. Los médicos no descartan complicaciones, pero de momento celebran que la paciente no haya empeorado en las últimas horas. Al parecer está consciente, incluso habla con ellos. Ainhoa Lujanvi, Última Hora.",
                  "data/reference_data/dev_segments/74f1eb32-6913879a.mp3"
                ],
                [
                  "36",
                  "fcaf8e71-79fc3680.mp3",
                  "satire",
                  "Por supuesto. Quizá para rectificar alguna cosa de la primera. No hay que rectificar nada. ¿Señor Almida, cuántos ejemplares del Quijote calcula que se podrían imprimir con los árboles que ha talado en Madrid? Te digo una cosa, con los 10 euros que me regalaste no da ni para una edición mini. Ahí está. Para una de bolsillo seguro que sí. Vaya respuesta.",
                  "data/reference_data/dev_segments/fcaf8e71-79fc3680.mp3"
                ],
                [
                  "37",
                  "695d3b30-7d3e8296.mp3",
                  "satire",
                  "a formarse para tener más posibilidades en su empresa de mejorar la productividad de las empresas. Esta es una cuestión fundamental. Desde 1888 que se fundó la UGT hemos reducido muy poco la jornada de trabajo y sin embargo la tecnología permite que se produzca mucho más con mucha menos gente.",
                  "data/reference_data/dev_segments/695d3b30-7d3e8296.mp3"
                ],
                [
                  "38",
                  "74efb0c3-0067a347.mp3",
                  "no-satire",
                  "Tras más de dos años de diferencias, los cinco miembros permanentes del Consejo de Seguridad de Naciones Unidas lograron un acuerdo sobre una resolución que exige la eliminación del arsenal de armas químicas de Siria. Se espera que este viernes haya una votación sobre el proyecto.",
                  "data/reference_data/dev_segments/74efb0c3-0067a347.mp3"
                ],
                [
                  "39",
                  "421d1726-2efb5e1e.mp3",
                  "no-satire",
                  "Agricultura se reúne con representantes de los sectores afectados por el boicot de Rusia a los productos europeos. Agricultores y ganaderos piden ayudas a la Unión Europea y la ministra plantea que Bruselas pague los productos que iban a ser exportados y retirarlos del mercado para evitar así la caída de precios.",
                  "data/reference_data/dev_segments/421d1726-2efb5e1e.mp3"
                ],
                [
                  "40",
                  "ade449a4-805c574a.mp3",
                  "satire",
                  "Irene, tú, no sé si has tenido ocasión de informarte, ¿qué opinión tienes? Porque es que ya digo, se está hablando mucho del bosón de Hikes, muchísimo, pero nadie ha dicho, ostras, vamos a parar un momento, valoremos el bosón de Hikes, ¿qué opinión tenemos del bosón de Hikes? Vayamos a lo concreto, si queréis. Irene, ¿cuántos bosones te caben en la boca?",
                  "data/reference_data/dev_segments/ade449a4-805c574a.mp3"
                ],
                [
                  "41",
                  "cdd56e7a-caee8c94.mp3",
                  "no-satire",
                  "Evidentemente drogas nada. Que no tenga ninguna droga de consumo y tampoco que beba demasiada cafeína. Estamos hablando de un fluido vivo. Sí. Con muchos riesgos si accedes a él de forma descontrolada. Efectivamente. Hay un mercado paralelo, no en España, sino en Estados Unidos y en algún país europeo, donde se comercializa. Es una leche que no lleva ningún control sanitario.",
                  "data/reference_data/dev_segments/cdd56e7a-caee8c94.mp3"
                ],
                [
                  "42",
                  "a24d442b-c61b04d7.mp3",
                  "satire",
                  "¿Alguna cosa? ¿Lo ha leído usted? Porque yo estaba fuera. Sí, sí. ¿Ha leído? ¿Y qué tal? ¿Se ha trabado o no? No sé, creo que no. Vale, vale, vale. Tampoco es un drama trabarse en la vida. A mí me pone nervioso, eh. Sí, bueno, eso es otra cosa porque tenemos mucha arrogancia. Claro. Hay que saber también equivocarse. La humanidad al final está contra la vanidad, ¿no? Sí, yo creo que sí. Naturalidad. Yo soy de la LOGSE, que los informes piensan que me he recomanido. No, no, no, no. Así que gracias. Seguro que está bien preparado. Que vaya bien, gracias. Adiós.",
                  "data/reference_data/dev_segments/a24d442b-c61b04d7.mp3"
                ],
                [
                  "43",
                  "390c75d5-23d508fd.mp3",
                  "satire",
                  "Y ustedes dirán, ¿por qué no me puedo poner feliz de que por fin algo que prometió mi viejito santo se esté cumpliendo? Pues, mis nenesuras, disculpen si uno anda un poco incrédulo, pero a menos que en 15 días del famoso arranque de ese tramo, así es como lucen varias de las estaciones del Tren Maya. Algunas solo están en obra negra, o como le conoce Kalimba,",
                  "data/reference_data/dev_segments/390c75d5-23d508fd.mp3"
                ],
                [
                  "44",
                  "42a9fbe3-a8544bdd.mp3",
                  "satire",
                  "Lo que se hace ahora es TikToks Y entonces si tienes muchos seguidores Da gustito Entonces es",
                  "data/reference_data/dev_segments/42a9fbe3-a8544bdd.mp3"
                ],
                [
                  "45",
                  "0ad1e7fe-e49c41c2.mp3",
                  "satire",
                  "Mira. ¿Cuántas gafas has roto? Dilo, Tomás. Pero, Biel, eso es ilegal lo que acabas de hacer. No, compro el agua por Amazon y viene de Estados Unidos. Y en Estados Unidos no están para tonterías. Entonces, en Estados Unidos sí que saben lo que la ciudadanía quiere.",
                  "data/reference_data/dev_segments/0ad1e7fe-e49c41c2.mp3"
                ],
                [
                  "46",
                  "a1a40cf9-536cd688.mp3",
                  "satire",
                  "Un ángel que pasa del cielo al espacio. Sí, la verdad, el chiste se hace solo. ¿Y estás contento o alguna vez has pensado en cambiarte, Ángel? A ver, muchas veces me he pensado en cambiarme, pero no porque dude mi vocación, sino porque el sistema de las universidades está un poco anticuado y nuestra carrera necesitaría más parte práctica. Pero sería carísimo también, a nivel práctico, subir al espacio cada dos por tres para hacer prácticas.",
                  "data/reference_data/dev_segments/a1a40cf9-536cd688.mp3"
                ],
                [
                  "47",
                  "c7b0fbd6-9e2f81ef.mp3",
                  "no-satire",
                  "Nos ocupamos ahora del agresor sexual que en estos últimos meses ha raptado a dos menores en Madrid, en el barrio de Ciudad Lineal. Este individuo ha vuelto a actuar. Ayer secuestró a otra menor, a una niña de 7 años, que fue encontrada horas después, afortunadamente en una calle próxima al sitio en el que había desaparecido. Isaías Blázquez, la policía está ya investigando este nuevo caso. ¿Qué novedades tenemos?",
                  "data/reference_data/dev_segments/c7b0fbd6-9e2f81ef.mp3"
                ],
                [
                  "48",
                  "967719b9-8d16a6e4.mp3",
                  "no-satire",
                  "Francia y México condenaron enérgicamente las acusaciones de espionaje sobre los gobiernos de ambos países por la Agencia de Seguridad Nacional de Estados Unidos. Mientras que París convocó al embajador estadounidense para aclarar los documentos filtrados, México calificó de inaceptable la presunta vigilancia al expresidente Felipe Calderón.",
                  "data/reference_data/dev_segments/967719b9-8d16a6e4.mp3"
                ],
                [
                  "49",
                  "516174bb-a53c9d86.mp3",
                  "satire",
                  "Ahora, si nos vamos a checar propiedades, Morena tiene más cola que el Episodio 8. Y Mar del Chor. De verdad, hermano, estamos checando las cosas. Tiene 13. Qué bueno que no cobran por foco. Sí, exacto. Vamos a un pequeño corte comercial y regresamos con la mañanera porque el presidente comentó que para las fiestas del 16 de septiembre no va a invitar al Poder Judicial de la Federación. Vamos con esto. Usted no se mueva y regresamos.",
                  "data/reference_data/dev_segments/516174bb-a53c9d86.mp3"
                ]
              ],
              "shape": {
                "columns": 4,
                "rows": 384
              }
            },
            "text/html": [
              "<div>\n",
              "<style scoped>\n",
              "    .dataframe tbody tr th:only-of-type {\n",
              "        vertical-align: middle;\n",
              "    }\n",
              "\n",
              "    .dataframe tbody tr th {\n",
              "        vertical-align: top;\n",
              "    }\n",
              "\n",
              "    .dataframe thead th {\n",
              "        text-align: right;\n",
              "    }\n",
              "</style>\n",
              "<table border=\"1\" class=\"dataframe\">\n",
              "  <thead>\n",
              "    <tr style=\"text-align: right;\">\n",
              "      <th></th>\n",
              "      <th>id</th>\n",
              "      <th>label</th>\n",
              "      <th>transcription</th>\n",
              "      <th>path</th>\n",
              "    </tr>\n",
              "  </thead>\n",
              "  <tbody>\n",
              "    <tr>\n",
              "      <th>0</th>\n",
              "      <td>3889a67c-6b948c2a.mp3</td>\n",
              "      <td>satire</td>\n",
              "      <td>A veces no nos fijamos, parece que con darles ...</td>\n",
              "      <td>data/reference_data/dev_segments/3889a67c-6b94...</td>\n",
              "    </tr>\n",
              "    <tr>\n",
              "      <th>1</th>\n",
              "      <td>aeb4e7f5-0b1d0ac6.mp3</td>\n",
              "      <td>satire</td>\n",
              "      <td>Buenas noches, hoy en Documentos TV les ofrece...</td>\n",
              "      <td>data/reference_data/dev_segments/aeb4e7f5-0b1d...</td>\n",
              "    </tr>\n",
              "    <tr>\n",
              "      <th>2</th>\n",
              "      <td>49e38957-8400221a.mp3</td>\n",
              "      <td>no-satire</td>\n",
              "      <td>El grupo de países sudamericanos UNASUR discut...</td>\n",
              "      <td>data/reference_data/dev_segments/49e38957-8400...</td>\n",
              "    </tr>\n",
              "    <tr>\n",
              "      <th>3</th>\n",
              "      <td>cbadf2d7-b8874b6d.mp3</td>\n",
              "      <td>no-satire</td>\n",
              "      <td>15 días le ha dado el juez Santiago Pedraz al ...</td>\n",
              "      <td>data/reference_data/dev_segments/cbadf2d7-b887...</td>\n",
              "    </tr>\n",
              "    <tr>\n",
              "      <th>4</th>\n",
              "      <td>5dfe1dd7-9c90b9e2.mp3</td>\n",
              "      <td>no-satire</td>\n",
              "      <td>Hay un puñado de experimentos asignados a dife...</td>\n",
              "      <td>data/reference_data/dev_segments/5dfe1dd7-9c90...</td>\n",
              "    </tr>\n",
              "    <tr>\n",
              "      <th>...</th>\n",
              "      <td>...</td>\n",
              "      <td>...</td>\n",
              "      <td>...</td>\n",
              "      <td>...</td>\n",
              "    </tr>\n",
              "    <tr>\n",
              "      <th>379</th>\n",
              "      <td>fa5e948b-3c26867e.mp3</td>\n",
              "      <td>no-satire</td>\n",
              "      <td>El gobierno de Ucrania dijo que continuará su ...</td>\n",
              "      <td>data/reference_data/dev_segments/fa5e948b-3c26...</td>\n",
              "    </tr>\n",
              "    <tr>\n",
              "      <th>380</th>\n",
              "      <td>056d52aa-fae45a22.mp3</td>\n",
              "      <td>no-satire</td>\n",
              "      <td>Las reacciones a esta nueva tragedia no se han...</td>\n",
              "      <td>data/reference_data/dev_segments/056d52aa-fae4...</td>\n",
              "    </tr>\n",
              "    <tr>\n",
              "      <th>381</th>\n",
              "      <td>eeea6af3-83e94953.mp3</td>\n",
              "      <td>no-satire</td>\n",
              "      <td>Un equipo de científicos decodificó el ADN de ...</td>\n",
              "      <td>data/reference_data/dev_segments/eeea6af3-83e9...</td>\n",
              "    </tr>\n",
              "    <tr>\n",
              "      <th>382</th>\n",
              "      <td>512b1051-5ef2d5f1.mp3</td>\n",
              "      <td>no-satire</td>\n",
              "      <td>En el puesto número 2, una fiesta navideña en ...</td>\n",
              "      <td>data/reference_data/dev_segments/512b1051-5ef2...</td>\n",
              "    </tr>\n",
              "    <tr>\n",
              "      <th>383</th>\n",
              "      <td>e2fb359c-612cd3c8.mp3</td>\n",
              "      <td>no-satire</td>\n",
              "      <td>Jamás ha demostrado que sus misiles pueden gol...</td>\n",
              "      <td>data/reference_data/dev_segments/e2fb359c-612c...</td>\n",
              "    </tr>\n",
              "  </tbody>\n",
              "</table>\n",
              "<p>384 rows × 4 columns</p>\n",
              "</div>"
            ],
            "text/plain": [
              "                        id      label  \\\n",
              "0    3889a67c-6b948c2a.mp3     satire   \n",
              "1    aeb4e7f5-0b1d0ac6.mp3     satire   \n",
              "2    49e38957-8400221a.mp3  no-satire   \n",
              "3    cbadf2d7-b8874b6d.mp3  no-satire   \n",
              "4    5dfe1dd7-9c90b9e2.mp3  no-satire   \n",
              "..                     ...        ...   \n",
              "379  fa5e948b-3c26867e.mp3  no-satire   \n",
              "380  056d52aa-fae45a22.mp3  no-satire   \n",
              "381  eeea6af3-83e94953.mp3  no-satire   \n",
              "382  512b1051-5ef2d5f1.mp3  no-satire   \n",
              "383  e2fb359c-612cd3c8.mp3  no-satire   \n",
              "\n",
              "                                         transcription  \\\n",
              "0    A veces no nos fijamos, parece que con darles ...   \n",
              "1    Buenas noches, hoy en Documentos TV les ofrece...   \n",
              "2    El grupo de países sudamericanos UNASUR discut...   \n",
              "3    15 días le ha dado el juez Santiago Pedraz al ...   \n",
              "4    Hay un puñado de experimentos asignados a dife...   \n",
              "..                                                 ...   \n",
              "379  El gobierno de Ucrania dijo que continuará su ...   \n",
              "380  Las reacciones a esta nueva tragedia no se han...   \n",
              "381  Un equipo de científicos decodificó el ADN de ...   \n",
              "382  En el puesto número 2, una fiesta navideña en ...   \n",
              "383  Jamás ha demostrado que sus misiles pueden gol...   \n",
              "\n",
              "                                                  path  \n",
              "0    data/reference_data/dev_segments/3889a67c-6b94...  \n",
              "1    data/reference_data/dev_segments/aeb4e7f5-0b1d...  \n",
              "2    data/reference_data/dev_segments/49e38957-8400...  \n",
              "3    data/reference_data/dev_segments/cbadf2d7-b887...  \n",
              "4    data/reference_data/dev_segments/5dfe1dd7-9c90...  \n",
              "..                                                 ...  \n",
              "379  data/reference_data/dev_segments/fa5e948b-3c26...  \n",
              "380  data/reference_data/dev_segments/056d52aa-fae4...  \n",
              "381  data/reference_data/dev_segments/eeea6af3-83e9...  \n",
              "382  data/reference_data/dev_segments/512b1051-5ef2...  \n",
              "383  data/reference_data/dev_segments/e2fb359c-612c...  \n",
              "\n",
              "[384 rows x 4 columns]"
            ]
          },
          "execution_count": 4,
          "metadata": {},
          "output_type": "execute_result"
        }
      ],
      "source": [
        "# Adding the path column to search for audios\n",
        "train_df[\"path\"] = train_df[\"id\"].apply(lambda x: f\"{path}dev_segments/{x}\")\n",
        "test_df[\"path\"] = test_df[\"id\"].apply(lambda x: f\"{path}dev_segments/{x}\")\n",
        "train_df"
      ]
    },
    {
      "cell_type": "markdown",
      "metadata": {
        "id": "sws_bMDc5u90"
      },
      "source": [
        "## Task 1: Satire identification with only text features"
      ]
    },
    {
      "cell_type": "code",
      "execution_count": 8,
      "metadata": {
        "colab": {
          "base_uri": "https://localhost:8080/",
          "height": 80
        },
        "id": "DKRpdak_5z7F",
        "outputId": "4d815f10-9ce5-45d2-ca60-3a4cf1146175"
      },
      "outputs": [
        {
          "data": {
            "text/html": [
              "<style>#sk-container-id-1 {\n",
              "  /* Definition of color scheme common for light and dark mode */\n",
              "  --sklearn-color-text: #000;\n",
              "  --sklearn-color-text-muted: #666;\n",
              "  --sklearn-color-line: gray;\n",
              "  /* Definition of color scheme for unfitted estimators */\n",
              "  --sklearn-color-unfitted-level-0: #fff5e6;\n",
              "  --sklearn-color-unfitted-level-1: #f6e4d2;\n",
              "  --sklearn-color-unfitted-level-2: #ffe0b3;\n",
              "  --sklearn-color-unfitted-level-3: chocolate;\n",
              "  /* Definition of color scheme for fitted estimators */\n",
              "  --sklearn-color-fitted-level-0: #f0f8ff;\n",
              "  --sklearn-color-fitted-level-1: #d4ebff;\n",
              "  --sklearn-color-fitted-level-2: #b3dbfd;\n",
              "  --sklearn-color-fitted-level-3: cornflowerblue;\n",
              "\n",
              "  /* Specific color for light theme */\n",
              "  --sklearn-color-text-on-default-background: var(--sg-text-color, var(--theme-code-foreground, var(--jp-content-font-color1, black)));\n",
              "  --sklearn-color-background: var(--sg-background-color, var(--theme-background, var(--jp-layout-color0, white)));\n",
              "  --sklearn-color-border-box: var(--sg-text-color, var(--theme-code-foreground, var(--jp-content-font-color1, black)));\n",
              "  --sklearn-color-icon: #696969;\n",
              "\n",
              "  @media (prefers-color-scheme: dark) {\n",
              "    /* Redefinition of color scheme for dark theme */\n",
              "    --sklearn-color-text-on-default-background: var(--sg-text-color, var(--theme-code-foreground, var(--jp-content-font-color1, white)));\n",
              "    --sklearn-color-background: var(--sg-background-color, var(--theme-background, var(--jp-layout-color0, #111)));\n",
              "    --sklearn-color-border-box: var(--sg-text-color, var(--theme-code-foreground, var(--jp-content-font-color1, white)));\n",
              "    --sklearn-color-icon: #878787;\n",
              "  }\n",
              "}\n",
              "\n",
              "#sk-container-id-1 {\n",
              "  color: var(--sklearn-color-text);\n",
              "}\n",
              "\n",
              "#sk-container-id-1 pre {\n",
              "  padding: 0;\n",
              "}\n",
              "\n",
              "#sk-container-id-1 input.sk-hidden--visually {\n",
              "  border: 0;\n",
              "  clip: rect(1px 1px 1px 1px);\n",
              "  clip: rect(1px, 1px, 1px, 1px);\n",
              "  height: 1px;\n",
              "  margin: -1px;\n",
              "  overflow: hidden;\n",
              "  padding: 0;\n",
              "  position: absolute;\n",
              "  width: 1px;\n",
              "}\n",
              "\n",
              "#sk-container-id-1 div.sk-dashed-wrapped {\n",
              "  border: 1px dashed var(--sklearn-color-line);\n",
              "  margin: 0 0.4em 0.5em 0.4em;\n",
              "  box-sizing: border-box;\n",
              "  padding-bottom: 0.4em;\n",
              "  background-color: var(--sklearn-color-background);\n",
              "}\n",
              "\n",
              "#sk-container-id-1 div.sk-container {\n",
              "  /* jupyter's `normalize.less` sets `[hidden] { display: none; }`\n",
              "     but bootstrap.min.css set `[hidden] { display: none !important; }`\n",
              "     so we also need the `!important` here to be able to override the\n",
              "     default hidden behavior on the sphinx rendered scikit-learn.org.\n",
              "     See: https://github.com/scikit-learn/scikit-learn/issues/21755 */\n",
              "  display: inline-block !important;\n",
              "  position: relative;\n",
              "}\n",
              "\n",
              "#sk-container-id-1 div.sk-text-repr-fallback {\n",
              "  display: none;\n",
              "}\n",
              "\n",
              "div.sk-parallel-item,\n",
              "div.sk-serial,\n",
              "div.sk-item {\n",
              "  /* draw centered vertical line to link estimators */\n",
              "  background-image: linear-gradient(var(--sklearn-color-text-on-default-background), var(--sklearn-color-text-on-default-background));\n",
              "  background-size: 2px 100%;\n",
              "  background-repeat: no-repeat;\n",
              "  background-position: center center;\n",
              "}\n",
              "\n",
              "/* Parallel-specific style estimator block */\n",
              "\n",
              "#sk-container-id-1 div.sk-parallel-item::after {\n",
              "  content: \"\";\n",
              "  width: 100%;\n",
              "  border-bottom: 2px solid var(--sklearn-color-text-on-default-background);\n",
              "  flex-grow: 1;\n",
              "}\n",
              "\n",
              "#sk-container-id-1 div.sk-parallel {\n",
              "  display: flex;\n",
              "  align-items: stretch;\n",
              "  justify-content: center;\n",
              "  background-color: var(--sklearn-color-background);\n",
              "  position: relative;\n",
              "}\n",
              "\n",
              "#sk-container-id-1 div.sk-parallel-item {\n",
              "  display: flex;\n",
              "  flex-direction: column;\n",
              "}\n",
              "\n",
              "#sk-container-id-1 div.sk-parallel-item:first-child::after {\n",
              "  align-self: flex-end;\n",
              "  width: 50%;\n",
              "}\n",
              "\n",
              "#sk-container-id-1 div.sk-parallel-item:last-child::after {\n",
              "  align-self: flex-start;\n",
              "  width: 50%;\n",
              "}\n",
              "\n",
              "#sk-container-id-1 div.sk-parallel-item:only-child::after {\n",
              "  width: 0;\n",
              "}\n",
              "\n",
              "/* Serial-specific style estimator block */\n",
              "\n",
              "#sk-container-id-1 div.sk-serial {\n",
              "  display: flex;\n",
              "  flex-direction: column;\n",
              "  align-items: center;\n",
              "  background-color: var(--sklearn-color-background);\n",
              "  padding-right: 1em;\n",
              "  padding-left: 1em;\n",
              "}\n",
              "\n",
              "\n",
              "/* Toggleable style: style used for estimator/Pipeline/ColumnTransformer box that is\n",
              "clickable and can be expanded/collapsed.\n",
              "- Pipeline and ColumnTransformer use this feature and define the default style\n",
              "- Estimators will overwrite some part of the style using the `sk-estimator` class\n",
              "*/\n",
              "\n",
              "/* Pipeline and ColumnTransformer style (default) */\n",
              "\n",
              "#sk-container-id-1 div.sk-toggleable {\n",
              "  /* Default theme specific background. It is overwritten whether we have a\n",
              "  specific estimator or a Pipeline/ColumnTransformer */\n",
              "  background-color: var(--sklearn-color-background);\n",
              "}\n",
              "\n",
              "/* Toggleable label */\n",
              "#sk-container-id-1 label.sk-toggleable__label {\n",
              "  cursor: pointer;\n",
              "  display: flex;\n",
              "  width: 100%;\n",
              "  margin-bottom: 0;\n",
              "  padding: 0.5em;\n",
              "  box-sizing: border-box;\n",
              "  text-align: center;\n",
              "  align-items: start;\n",
              "  justify-content: space-between;\n",
              "  gap: 0.5em;\n",
              "}\n",
              "\n",
              "#sk-container-id-1 label.sk-toggleable__label .caption {\n",
              "  font-size: 0.6rem;\n",
              "  font-weight: lighter;\n",
              "  color: var(--sklearn-color-text-muted);\n",
              "}\n",
              "\n",
              "#sk-container-id-1 label.sk-toggleable__label-arrow:before {\n",
              "  /* Arrow on the left of the label */\n",
              "  content: \"▸\";\n",
              "  float: left;\n",
              "  margin-right: 0.25em;\n",
              "  color: var(--sklearn-color-icon);\n",
              "}\n",
              "\n",
              "#sk-container-id-1 label.sk-toggleable__label-arrow:hover:before {\n",
              "  color: var(--sklearn-color-text);\n",
              "}\n",
              "\n",
              "/* Toggleable content - dropdown */\n",
              "\n",
              "#sk-container-id-1 div.sk-toggleable__content {\n",
              "  max-height: 0;\n",
              "  max-width: 0;\n",
              "  overflow: hidden;\n",
              "  text-align: left;\n",
              "  /* unfitted */\n",
              "  background-color: var(--sklearn-color-unfitted-level-0);\n",
              "}\n",
              "\n",
              "#sk-container-id-1 div.sk-toggleable__content.fitted {\n",
              "  /* fitted */\n",
              "  background-color: var(--sklearn-color-fitted-level-0);\n",
              "}\n",
              "\n",
              "#sk-container-id-1 div.sk-toggleable__content pre {\n",
              "  margin: 0.2em;\n",
              "  border-radius: 0.25em;\n",
              "  color: var(--sklearn-color-text);\n",
              "  /* unfitted */\n",
              "  background-color: var(--sklearn-color-unfitted-level-0);\n",
              "}\n",
              "\n",
              "#sk-container-id-1 div.sk-toggleable__content.fitted pre {\n",
              "  /* unfitted */\n",
              "  background-color: var(--sklearn-color-fitted-level-0);\n",
              "}\n",
              "\n",
              "#sk-container-id-1 input.sk-toggleable__control:checked~div.sk-toggleable__content {\n",
              "  /* Expand drop-down */\n",
              "  max-height: 200px;\n",
              "  max-width: 100%;\n",
              "  overflow: auto;\n",
              "}\n",
              "\n",
              "#sk-container-id-1 input.sk-toggleable__control:checked~label.sk-toggleable__label-arrow:before {\n",
              "  content: \"▾\";\n",
              "}\n",
              "\n",
              "/* Pipeline/ColumnTransformer-specific style */\n",
              "\n",
              "#sk-container-id-1 div.sk-label input.sk-toggleable__control:checked~label.sk-toggleable__label {\n",
              "  color: var(--sklearn-color-text);\n",
              "  background-color: var(--sklearn-color-unfitted-level-2);\n",
              "}\n",
              "\n",
              "#sk-container-id-1 div.sk-label.fitted input.sk-toggleable__control:checked~label.sk-toggleable__label {\n",
              "  background-color: var(--sklearn-color-fitted-level-2);\n",
              "}\n",
              "\n",
              "/* Estimator-specific style */\n",
              "\n",
              "/* Colorize estimator box */\n",
              "#sk-container-id-1 div.sk-estimator input.sk-toggleable__control:checked~label.sk-toggleable__label {\n",
              "  /* unfitted */\n",
              "  background-color: var(--sklearn-color-unfitted-level-2);\n",
              "}\n",
              "\n",
              "#sk-container-id-1 div.sk-estimator.fitted input.sk-toggleable__control:checked~label.sk-toggleable__label {\n",
              "  /* fitted */\n",
              "  background-color: var(--sklearn-color-fitted-level-2);\n",
              "}\n",
              "\n",
              "#sk-container-id-1 div.sk-label label.sk-toggleable__label,\n",
              "#sk-container-id-1 div.sk-label label {\n",
              "  /* The background is the default theme color */\n",
              "  color: var(--sklearn-color-text-on-default-background);\n",
              "}\n",
              "\n",
              "/* On hover, darken the color of the background */\n",
              "#sk-container-id-1 div.sk-label:hover label.sk-toggleable__label {\n",
              "  color: var(--sklearn-color-text);\n",
              "  background-color: var(--sklearn-color-unfitted-level-2);\n",
              "}\n",
              "\n",
              "/* Label box, darken color on hover, fitted */\n",
              "#sk-container-id-1 div.sk-label.fitted:hover label.sk-toggleable__label.fitted {\n",
              "  color: var(--sklearn-color-text);\n",
              "  background-color: var(--sklearn-color-fitted-level-2);\n",
              "}\n",
              "\n",
              "/* Estimator label */\n",
              "\n",
              "#sk-container-id-1 div.sk-label label {\n",
              "  font-family: monospace;\n",
              "  font-weight: bold;\n",
              "  display: inline-block;\n",
              "  line-height: 1.2em;\n",
              "}\n",
              "\n",
              "#sk-container-id-1 div.sk-label-container {\n",
              "  text-align: center;\n",
              "}\n",
              "\n",
              "/* Estimator-specific */\n",
              "#sk-container-id-1 div.sk-estimator {\n",
              "  font-family: monospace;\n",
              "  border: 1px dotted var(--sklearn-color-border-box);\n",
              "  border-radius: 0.25em;\n",
              "  box-sizing: border-box;\n",
              "  margin-bottom: 0.5em;\n",
              "  /* unfitted */\n",
              "  background-color: var(--sklearn-color-unfitted-level-0);\n",
              "}\n",
              "\n",
              "#sk-container-id-1 div.sk-estimator.fitted {\n",
              "  /* fitted */\n",
              "  background-color: var(--sklearn-color-fitted-level-0);\n",
              "}\n",
              "\n",
              "/* on hover */\n",
              "#sk-container-id-1 div.sk-estimator:hover {\n",
              "  /* unfitted */\n",
              "  background-color: var(--sklearn-color-unfitted-level-2);\n",
              "}\n",
              "\n",
              "#sk-container-id-1 div.sk-estimator.fitted:hover {\n",
              "  /* fitted */\n",
              "  background-color: var(--sklearn-color-fitted-level-2);\n",
              "}\n",
              "\n",
              "/* Specification for estimator info (e.g. \"i\" and \"?\") */\n",
              "\n",
              "/* Common style for \"i\" and \"?\" */\n",
              "\n",
              ".sk-estimator-doc-link,\n",
              "a:link.sk-estimator-doc-link,\n",
              "a:visited.sk-estimator-doc-link {\n",
              "  float: right;\n",
              "  font-size: smaller;\n",
              "  line-height: 1em;\n",
              "  font-family: monospace;\n",
              "  background-color: var(--sklearn-color-background);\n",
              "  border-radius: 1em;\n",
              "  height: 1em;\n",
              "  width: 1em;\n",
              "  text-decoration: none !important;\n",
              "  margin-left: 0.5em;\n",
              "  text-align: center;\n",
              "  /* unfitted */\n",
              "  border: var(--sklearn-color-unfitted-level-1) 1pt solid;\n",
              "  color: var(--sklearn-color-unfitted-level-1);\n",
              "}\n",
              "\n",
              ".sk-estimator-doc-link.fitted,\n",
              "a:link.sk-estimator-doc-link.fitted,\n",
              "a:visited.sk-estimator-doc-link.fitted {\n",
              "  /* fitted */\n",
              "  border: var(--sklearn-color-fitted-level-1) 1pt solid;\n",
              "  color: var(--sklearn-color-fitted-level-1);\n",
              "}\n",
              "\n",
              "/* On hover */\n",
              "div.sk-estimator:hover .sk-estimator-doc-link:hover,\n",
              ".sk-estimator-doc-link:hover,\n",
              "div.sk-label-container:hover .sk-estimator-doc-link:hover,\n",
              ".sk-estimator-doc-link:hover {\n",
              "  /* unfitted */\n",
              "  background-color: var(--sklearn-color-unfitted-level-3);\n",
              "  color: var(--sklearn-color-background);\n",
              "  text-decoration: none;\n",
              "}\n",
              "\n",
              "div.sk-estimator.fitted:hover .sk-estimator-doc-link.fitted:hover,\n",
              ".sk-estimator-doc-link.fitted:hover,\n",
              "div.sk-label-container:hover .sk-estimator-doc-link.fitted:hover,\n",
              ".sk-estimator-doc-link.fitted:hover {\n",
              "  /* fitted */\n",
              "  background-color: var(--sklearn-color-fitted-level-3);\n",
              "  color: var(--sklearn-color-background);\n",
              "  text-decoration: none;\n",
              "}\n",
              "\n",
              "/* Span, style for the box shown on hovering the info icon */\n",
              ".sk-estimator-doc-link span {\n",
              "  display: none;\n",
              "  z-index: 9999;\n",
              "  position: relative;\n",
              "  font-weight: normal;\n",
              "  right: .2ex;\n",
              "  padding: .5ex;\n",
              "  margin: .5ex;\n",
              "  width: min-content;\n",
              "  min-width: 20ex;\n",
              "  max-width: 50ex;\n",
              "  color: var(--sklearn-color-text);\n",
              "  box-shadow: 2pt 2pt 4pt #999;\n",
              "  /* unfitted */\n",
              "  background: var(--sklearn-color-unfitted-level-0);\n",
              "  border: .5pt solid var(--sklearn-color-unfitted-level-3);\n",
              "}\n",
              "\n",
              ".sk-estimator-doc-link.fitted span {\n",
              "  /* fitted */\n",
              "  background: var(--sklearn-color-fitted-level-0);\n",
              "  border: var(--sklearn-color-fitted-level-3);\n",
              "}\n",
              "\n",
              ".sk-estimator-doc-link:hover span {\n",
              "  display: block;\n",
              "}\n",
              "\n",
              "/* \"?\"-specific style due to the `<a>` HTML tag */\n",
              "\n",
              "#sk-container-id-1 a.estimator_doc_link {\n",
              "  float: right;\n",
              "  font-size: 1rem;\n",
              "  line-height: 1em;\n",
              "  font-family: monospace;\n",
              "  background-color: var(--sklearn-color-background);\n",
              "  border-radius: 1rem;\n",
              "  height: 1rem;\n",
              "  width: 1rem;\n",
              "  text-decoration: none;\n",
              "  /* unfitted */\n",
              "  color: var(--sklearn-color-unfitted-level-1);\n",
              "  border: var(--sklearn-color-unfitted-level-1) 1pt solid;\n",
              "}\n",
              "\n",
              "#sk-container-id-1 a.estimator_doc_link.fitted {\n",
              "  /* fitted */\n",
              "  border: var(--sklearn-color-fitted-level-1) 1pt solid;\n",
              "  color: var(--sklearn-color-fitted-level-1);\n",
              "}\n",
              "\n",
              "/* On hover */\n",
              "#sk-container-id-1 a.estimator_doc_link:hover {\n",
              "  /* unfitted */\n",
              "  background-color: var(--sklearn-color-unfitted-level-3);\n",
              "  color: var(--sklearn-color-background);\n",
              "  text-decoration: none;\n",
              "}\n",
              "\n",
              "#sk-container-id-1 a.estimator_doc_link.fitted:hover {\n",
              "  /* fitted */\n",
              "  background-color: var(--sklearn-color-fitted-level-3);\n",
              "}\n",
              "</style><div id=\"sk-container-id-1\" class=\"sk-top-container\"><div class=\"sk-text-repr-fallback\"><pre>LinearSVC()</pre><b>In a Jupyter environment, please rerun this cell to show the HTML representation or trust the notebook. <br />On GitHub, the HTML representation is unable to render, please try loading this page with nbviewer.org.</b></div><div class=\"sk-container\" hidden><div class=\"sk-item\"><div class=\"sk-estimator fitted sk-toggleable\"><input class=\"sk-toggleable__control sk-hidden--visually\" id=\"sk-estimator-id-1\" type=\"checkbox\" checked><label for=\"sk-estimator-id-1\" class=\"sk-toggleable__label fitted sk-toggleable__label-arrow\"><div><div>LinearSVC</div></div><div><a class=\"sk-estimator-doc-link fitted\" rel=\"noreferrer\" target=\"_blank\" href=\"https://scikit-learn.org/1.6/modules/generated/sklearn.svm.LinearSVC.html\">?<span>Documentation for LinearSVC</span></a><span class=\"sk-estimator-doc-link fitted\">i<span>Fitted</span></span></div></label><div class=\"sk-toggleable__content fitted\"><pre>LinearSVC()</pre></div> </div></div></div></div>"
            ],
            "text/plain": [
              "LinearSVC()"
            ]
          },
          "execution_count": 8,
          "metadata": {},
          "output_type": "execute_result"
        }
      ],
      "source": [
        "# Stop words\n",
        "stop_words = []\n",
        "\n",
        "\n",
        "# Create a TFIDF Vectorizer using sci-kit. With this, we are going to represent all texts\n",
        "# as counts of the vocabulary.\n",
        "vectorizer = TfidfVectorizer(\n",
        "    analyzer=\"word\", max_features=50_000, lowercase=False, stop_words=stop_words\n",
        ")\n",
        "\n",
        "\n",
        "# Get the TF-IDF values from the training set\n",
        "text_x_train = vectorizer.fit_transform(train_df[\"transcription\"])\n",
        "\n",
        "# Get the TF-IDF values from the test set\n",
        "# Note that we apply the TF-IDF learned from the training split\n",
        "text_x_test = vectorizer.transform(test_df[\"transcription\"])\n",
        "\n",
        "\n",
        "# We are going to store a baseline per dimension\n",
        "baselines = {}\n",
        "\n",
        "\n",
        "# Get a baseline classifier\n",
        "baselines[\"label\"] = LinearSVC(dual=\"auto\")\n",
        "\n",
        "scaler = MinMaxScaler()\n",
        "text_x_train = scaler.fit_transform(text_x_train.toarray())\n",
        "text_x_test = scaler.fit_transform(text_x_test.toarray())\n",
        "\n",
        "# Train the baseline for this label\n",
        "baselines[\"label\"].fit(text_x_train, train_df[\"label\"])"
      ]
    },
    {
      "cell_type": "code",
      "execution_count": 9,
      "metadata": {
        "colab": {
          "base_uri": "https://localhost:8080/"
        },
        "id": "sur3JKTH54nM",
        "outputId": "08df3e97-7661-4df1-98bf-5a1c5daf98c2"
      },
      "outputs": [
        {
          "name": "stdout",
          "output_type": "stream",
          "text": [
            "              precision    recall  f1-score   support\n",
            "\n",
            "   no-satire   0.918367  0.937500  0.927835        48\n",
            "      satire   0.936170  0.916667  0.926316        48\n",
            "\n",
            "    accuracy                       0.927083        96\n",
            "   macro avg   0.927269  0.927083  0.927075        96\n",
            "weighted avg   0.927269  0.927083  0.927075        96\n",
            "\n"
          ]
        }
      ],
      "source": [
        "text_predictions = baselines[\"label\"].predict(text_x_test)\n",
        "print(\n",
        "    classification_report(test_df[\"label\"], text_predictions, digits=6, zero_division=0)\n",
        ")"
      ]
    },
    {
      "cell_type": "markdown",
      "metadata": {
        "id": "81uF9xD-5bgE"
      },
      "source": [
        "## Task 2: Satire identification with MFCC and text features of audios with the SVM model."
      ]
    },
    {
      "cell_type": "code",
      "execution_count": 10,
      "metadata": {
        "id": "wonewd6Tm9bf"
      },
      "outputs": [],
      "source": [
        "# Extract MFCC features from audios\n",
        "def extract_features(data, sample_rate):\n",
        "    result = np.array([])\n",
        "    # MFCC\n",
        "    mfcc = np.mean(librosa.feature.mfcc(y=data, sr=sample_rate).T, axis=0)\n",
        "    result = np.hstack((result, mfcc))\n",
        "\n",
        "    return result\n",
        "\n",
        "def get_features(path):\n",
        "    # load all audio\n",
        "    data, sample_rate = librosa.load(path)\n",
        "    res1 = extract_features(data, sample_rate)\n",
        "    result = np.array(res1)\n",
        "\n",
        "    return result\n",
        "\n",
        "# Get list of train with MFCC features and label list\n",
        "def get_features_labels(audio_df, label2id):\n",
        "    X, Y = [], []\n",
        "    for path, satire in zip(audio_df.path, audio_df.label):\n",
        "        feature = get_features(path)\n",
        "        X.append(feature)\n",
        "        Y.append(label2id[satire])\n",
        "    return X, Y"
      ]
    },
    {
      "cell_type": "code",
      "execution_count": 11,
      "metadata": {
        "colab": {
          "base_uri": "https://localhost:8080/"
        },
        "id": "V09iUcz6uL-b",
        "outputId": "abae6bd1-b138-4619-ec42-57d989307274"
      },
      "outputs": [
        {
          "name": "stdout",
          "output_type": "stream",
          "text": [
            "{0: 'no-satire', 1: 'satire'}\n"
          ]
        }
      ],
      "source": [
        "# Get list of labels, id2label and label2id\n",
        "labels = sorted(train_df.label.unique().tolist())\n",
        "id2label = {id:label for id, label in enumerate(labels)}\n",
        "label2id = {label:id for id, label in enumerate(labels)}\n",
        "print(id2label)"
      ]
    },
    {
      "cell_type": "code",
      "execution_count": 12,
      "metadata": {
        "colab": {
          "base_uri": "https://localhost:8080/"
        },
        "id": "02pMhlEunIYb",
        "outputId": "3eba6efd-7e7b-4e78-8bd9-07d8c04fa794"
      },
      "outputs": [
        {
          "name": "stdout",
          "output_type": "stream",
          "text": [
            "Examples:  [-2.65515594e+02  1.34025452e+02 -3.87320614e+00  4.18447304e+01\n",
            "  4.41900396e+00 -1.72719326e+01 -3.18521729e+01 -1.42884254e+00\n",
            " -1.95240421e+01 -1.31922884e+01  1.55874163e-01 -5.64502621e+00\n",
            "  5.19635201e+00 -7.69905376e+00  1.83405602e+00 -3.32394123e+00\n",
            " -9.71520042e+00 -2.04885483e+00 -2.16752648e+00 -7.08189821e+00] 1\n"
          ]
        }
      ],
      "source": [
        "# Get input for the training\n",
        "mfcc_x_train, y_train = get_features_labels(train_df, label2id)\n",
        "print(\"Examples: \", mfcc_x_train[0], y_train[0])"
      ]
    },
    {
      "cell_type": "code",
      "execution_count": 13,
      "metadata": {
        "colab": {
          "base_uri": "https://localhost:8080/"
        },
        "id": "fpOlj03FuQac",
        "outputId": "c0b044a7-a654-4ba6-9d38-e608d346d4e9"
      },
      "outputs": [
        {
          "name": "stdout",
          "output_type": "stream",
          "text": [
            "Examples:  [-246.69847107  150.15864563    7.9820857    29.79780197    4.72329998\n",
            "   -2.85525489    8.73539639   -7.05086517    1.86267591    9.49735737\n",
            "   -3.09962344    2.64821887   -7.53379488    5.79352856   -5.47804785\n",
            "   -1.27932727   -1.44734979   -2.68480325   -6.14129019    1.79987383] 0\n"
          ]
        }
      ],
      "source": [
        "# Get input for the test\n",
        "mfcc_x_test, y_test = get_features_labels(test_df, label2id)\n",
        "print(\"Examples: \", mfcc_x_test[0], y_test[0])"
      ]
    },
    {
      "cell_type": "code",
      "execution_count": 14,
      "metadata": {
        "id": "3kY-qOO0Tf2G"
      },
      "outputs": [],
      "source": [
        "multi_x_train = np.concatenate((text_x_train, mfcc_x_train),axis=1)\n",
        "multi_x_test = np.concatenate((text_x_test, mfcc_x_test),axis=1)"
      ]
    },
    {
      "cell_type": "code",
      "execution_count": 16,
      "metadata": {
        "id": "JzMmP2zbuvrx"
      },
      "outputs": [],
      "source": [
        "# Scaling our data with sklearn's Standard scaler\n",
        "scaler = MinMaxScaler()\n",
        "x_train = scaler.fit_transform(multi_x_train)\n",
        "x_test = scaler.transform(multi_x_test)"
      ]
    },
    {
      "cell_type": "code",
      "execution_count": 17,
      "metadata": {
        "id": "ytZwuDPyn3_Z"
      },
      "outputs": [],
      "source": [
        "# Defining parameter range for SVC\n",
        "param_grid = {'C': [1,10,100,1000],\n",
        "              'gamma': [1, 0.1, 0.01, 0.001, 0.0001],\n",
        "              'kernel': ['rbf', 'poly']}"
      ]
    },
    {
      "cell_type": "code",
      "execution_count": 18,
      "metadata": {
        "colab": {
          "base_uri": "https://localhost:8080/",
          "height": 164
        },
        "id": "2q-QIIWpt-iJ",
        "outputId": "316784ba-20de-4d2b-b5e8-e63559dc13eb"
      },
      "outputs": [
        {
          "data": {
            "text/html": [
              "<style>#sk-container-id-2 {\n",
              "  /* Definition of color scheme common for light and dark mode */\n",
              "  --sklearn-color-text: #000;\n",
              "  --sklearn-color-text-muted: #666;\n",
              "  --sklearn-color-line: gray;\n",
              "  /* Definition of color scheme for unfitted estimators */\n",
              "  --sklearn-color-unfitted-level-0: #fff5e6;\n",
              "  --sklearn-color-unfitted-level-1: #f6e4d2;\n",
              "  --sklearn-color-unfitted-level-2: #ffe0b3;\n",
              "  --sklearn-color-unfitted-level-3: chocolate;\n",
              "  /* Definition of color scheme for fitted estimators */\n",
              "  --sklearn-color-fitted-level-0: #f0f8ff;\n",
              "  --sklearn-color-fitted-level-1: #d4ebff;\n",
              "  --sklearn-color-fitted-level-2: #b3dbfd;\n",
              "  --sklearn-color-fitted-level-3: cornflowerblue;\n",
              "\n",
              "  /* Specific color for light theme */\n",
              "  --sklearn-color-text-on-default-background: var(--sg-text-color, var(--theme-code-foreground, var(--jp-content-font-color1, black)));\n",
              "  --sklearn-color-background: var(--sg-background-color, var(--theme-background, var(--jp-layout-color0, white)));\n",
              "  --sklearn-color-border-box: var(--sg-text-color, var(--theme-code-foreground, var(--jp-content-font-color1, black)));\n",
              "  --sklearn-color-icon: #696969;\n",
              "\n",
              "  @media (prefers-color-scheme: dark) {\n",
              "    /* Redefinition of color scheme for dark theme */\n",
              "    --sklearn-color-text-on-default-background: var(--sg-text-color, var(--theme-code-foreground, var(--jp-content-font-color1, white)));\n",
              "    --sklearn-color-background: var(--sg-background-color, var(--theme-background, var(--jp-layout-color0, #111)));\n",
              "    --sklearn-color-border-box: var(--sg-text-color, var(--theme-code-foreground, var(--jp-content-font-color1, white)));\n",
              "    --sklearn-color-icon: #878787;\n",
              "  }\n",
              "}\n",
              "\n",
              "#sk-container-id-2 {\n",
              "  color: var(--sklearn-color-text);\n",
              "}\n",
              "\n",
              "#sk-container-id-2 pre {\n",
              "  padding: 0;\n",
              "}\n",
              "\n",
              "#sk-container-id-2 input.sk-hidden--visually {\n",
              "  border: 0;\n",
              "  clip: rect(1px 1px 1px 1px);\n",
              "  clip: rect(1px, 1px, 1px, 1px);\n",
              "  height: 1px;\n",
              "  margin: -1px;\n",
              "  overflow: hidden;\n",
              "  padding: 0;\n",
              "  position: absolute;\n",
              "  width: 1px;\n",
              "}\n",
              "\n",
              "#sk-container-id-2 div.sk-dashed-wrapped {\n",
              "  border: 1px dashed var(--sklearn-color-line);\n",
              "  margin: 0 0.4em 0.5em 0.4em;\n",
              "  box-sizing: border-box;\n",
              "  padding-bottom: 0.4em;\n",
              "  background-color: var(--sklearn-color-background);\n",
              "}\n",
              "\n",
              "#sk-container-id-2 div.sk-container {\n",
              "  /* jupyter's `normalize.less` sets `[hidden] { display: none; }`\n",
              "     but bootstrap.min.css set `[hidden] { display: none !important; }`\n",
              "     so we also need the `!important` here to be able to override the\n",
              "     default hidden behavior on the sphinx rendered scikit-learn.org.\n",
              "     See: https://github.com/scikit-learn/scikit-learn/issues/21755 */\n",
              "  display: inline-block !important;\n",
              "  position: relative;\n",
              "}\n",
              "\n",
              "#sk-container-id-2 div.sk-text-repr-fallback {\n",
              "  display: none;\n",
              "}\n",
              "\n",
              "div.sk-parallel-item,\n",
              "div.sk-serial,\n",
              "div.sk-item {\n",
              "  /* draw centered vertical line to link estimators */\n",
              "  background-image: linear-gradient(var(--sklearn-color-text-on-default-background), var(--sklearn-color-text-on-default-background));\n",
              "  background-size: 2px 100%;\n",
              "  background-repeat: no-repeat;\n",
              "  background-position: center center;\n",
              "}\n",
              "\n",
              "/* Parallel-specific style estimator block */\n",
              "\n",
              "#sk-container-id-2 div.sk-parallel-item::after {\n",
              "  content: \"\";\n",
              "  width: 100%;\n",
              "  border-bottom: 2px solid var(--sklearn-color-text-on-default-background);\n",
              "  flex-grow: 1;\n",
              "}\n",
              "\n",
              "#sk-container-id-2 div.sk-parallel {\n",
              "  display: flex;\n",
              "  align-items: stretch;\n",
              "  justify-content: center;\n",
              "  background-color: var(--sklearn-color-background);\n",
              "  position: relative;\n",
              "}\n",
              "\n",
              "#sk-container-id-2 div.sk-parallel-item {\n",
              "  display: flex;\n",
              "  flex-direction: column;\n",
              "}\n",
              "\n",
              "#sk-container-id-2 div.sk-parallel-item:first-child::after {\n",
              "  align-self: flex-end;\n",
              "  width: 50%;\n",
              "}\n",
              "\n",
              "#sk-container-id-2 div.sk-parallel-item:last-child::after {\n",
              "  align-self: flex-start;\n",
              "  width: 50%;\n",
              "}\n",
              "\n",
              "#sk-container-id-2 div.sk-parallel-item:only-child::after {\n",
              "  width: 0;\n",
              "}\n",
              "\n",
              "/* Serial-specific style estimator block */\n",
              "\n",
              "#sk-container-id-2 div.sk-serial {\n",
              "  display: flex;\n",
              "  flex-direction: column;\n",
              "  align-items: center;\n",
              "  background-color: var(--sklearn-color-background);\n",
              "  padding-right: 1em;\n",
              "  padding-left: 1em;\n",
              "}\n",
              "\n",
              "\n",
              "/* Toggleable style: style used for estimator/Pipeline/ColumnTransformer box that is\n",
              "clickable and can be expanded/collapsed.\n",
              "- Pipeline and ColumnTransformer use this feature and define the default style\n",
              "- Estimators will overwrite some part of the style using the `sk-estimator` class\n",
              "*/\n",
              "\n",
              "/* Pipeline and ColumnTransformer style (default) */\n",
              "\n",
              "#sk-container-id-2 div.sk-toggleable {\n",
              "  /* Default theme specific background. It is overwritten whether we have a\n",
              "  specific estimator or a Pipeline/ColumnTransformer */\n",
              "  background-color: var(--sklearn-color-background);\n",
              "}\n",
              "\n",
              "/* Toggleable label */\n",
              "#sk-container-id-2 label.sk-toggleable__label {\n",
              "  cursor: pointer;\n",
              "  display: flex;\n",
              "  width: 100%;\n",
              "  margin-bottom: 0;\n",
              "  padding: 0.5em;\n",
              "  box-sizing: border-box;\n",
              "  text-align: center;\n",
              "  align-items: start;\n",
              "  justify-content: space-between;\n",
              "  gap: 0.5em;\n",
              "}\n",
              "\n",
              "#sk-container-id-2 label.sk-toggleable__label .caption {\n",
              "  font-size: 0.6rem;\n",
              "  font-weight: lighter;\n",
              "  color: var(--sklearn-color-text-muted);\n",
              "}\n",
              "\n",
              "#sk-container-id-2 label.sk-toggleable__label-arrow:before {\n",
              "  /* Arrow on the left of the label */\n",
              "  content: \"▸\";\n",
              "  float: left;\n",
              "  margin-right: 0.25em;\n",
              "  color: var(--sklearn-color-icon);\n",
              "}\n",
              "\n",
              "#sk-container-id-2 label.sk-toggleable__label-arrow:hover:before {\n",
              "  color: var(--sklearn-color-text);\n",
              "}\n",
              "\n",
              "/* Toggleable content - dropdown */\n",
              "\n",
              "#sk-container-id-2 div.sk-toggleable__content {\n",
              "  max-height: 0;\n",
              "  max-width: 0;\n",
              "  overflow: hidden;\n",
              "  text-align: left;\n",
              "  /* unfitted */\n",
              "  background-color: var(--sklearn-color-unfitted-level-0);\n",
              "}\n",
              "\n",
              "#sk-container-id-2 div.sk-toggleable__content.fitted {\n",
              "  /* fitted */\n",
              "  background-color: var(--sklearn-color-fitted-level-0);\n",
              "}\n",
              "\n",
              "#sk-container-id-2 div.sk-toggleable__content pre {\n",
              "  margin: 0.2em;\n",
              "  border-radius: 0.25em;\n",
              "  color: var(--sklearn-color-text);\n",
              "  /* unfitted */\n",
              "  background-color: var(--sklearn-color-unfitted-level-0);\n",
              "}\n",
              "\n",
              "#sk-container-id-2 div.sk-toggleable__content.fitted pre {\n",
              "  /* unfitted */\n",
              "  background-color: var(--sklearn-color-fitted-level-0);\n",
              "}\n",
              "\n",
              "#sk-container-id-2 input.sk-toggleable__control:checked~div.sk-toggleable__content {\n",
              "  /* Expand drop-down */\n",
              "  max-height: 200px;\n",
              "  max-width: 100%;\n",
              "  overflow: auto;\n",
              "}\n",
              "\n",
              "#sk-container-id-2 input.sk-toggleable__control:checked~label.sk-toggleable__label-arrow:before {\n",
              "  content: \"▾\";\n",
              "}\n",
              "\n",
              "/* Pipeline/ColumnTransformer-specific style */\n",
              "\n",
              "#sk-container-id-2 div.sk-label input.sk-toggleable__control:checked~label.sk-toggleable__label {\n",
              "  color: var(--sklearn-color-text);\n",
              "  background-color: var(--sklearn-color-unfitted-level-2);\n",
              "}\n",
              "\n",
              "#sk-container-id-2 div.sk-label.fitted input.sk-toggleable__control:checked~label.sk-toggleable__label {\n",
              "  background-color: var(--sklearn-color-fitted-level-2);\n",
              "}\n",
              "\n",
              "/* Estimator-specific style */\n",
              "\n",
              "/* Colorize estimator box */\n",
              "#sk-container-id-2 div.sk-estimator input.sk-toggleable__control:checked~label.sk-toggleable__label {\n",
              "  /* unfitted */\n",
              "  background-color: var(--sklearn-color-unfitted-level-2);\n",
              "}\n",
              "\n",
              "#sk-container-id-2 div.sk-estimator.fitted input.sk-toggleable__control:checked~label.sk-toggleable__label {\n",
              "  /* fitted */\n",
              "  background-color: var(--sklearn-color-fitted-level-2);\n",
              "}\n",
              "\n",
              "#sk-container-id-2 div.sk-label label.sk-toggleable__label,\n",
              "#sk-container-id-2 div.sk-label label {\n",
              "  /* The background is the default theme color */\n",
              "  color: var(--sklearn-color-text-on-default-background);\n",
              "}\n",
              "\n",
              "/* On hover, darken the color of the background */\n",
              "#sk-container-id-2 div.sk-label:hover label.sk-toggleable__label {\n",
              "  color: var(--sklearn-color-text);\n",
              "  background-color: var(--sklearn-color-unfitted-level-2);\n",
              "}\n",
              "\n",
              "/* Label box, darken color on hover, fitted */\n",
              "#sk-container-id-2 div.sk-label.fitted:hover label.sk-toggleable__label.fitted {\n",
              "  color: var(--sklearn-color-text);\n",
              "  background-color: var(--sklearn-color-fitted-level-2);\n",
              "}\n",
              "\n",
              "/* Estimator label */\n",
              "\n",
              "#sk-container-id-2 div.sk-label label {\n",
              "  font-family: monospace;\n",
              "  font-weight: bold;\n",
              "  display: inline-block;\n",
              "  line-height: 1.2em;\n",
              "}\n",
              "\n",
              "#sk-container-id-2 div.sk-label-container {\n",
              "  text-align: center;\n",
              "}\n",
              "\n",
              "/* Estimator-specific */\n",
              "#sk-container-id-2 div.sk-estimator {\n",
              "  font-family: monospace;\n",
              "  border: 1px dotted var(--sklearn-color-border-box);\n",
              "  border-radius: 0.25em;\n",
              "  box-sizing: border-box;\n",
              "  margin-bottom: 0.5em;\n",
              "  /* unfitted */\n",
              "  background-color: var(--sklearn-color-unfitted-level-0);\n",
              "}\n",
              "\n",
              "#sk-container-id-2 div.sk-estimator.fitted {\n",
              "  /* fitted */\n",
              "  background-color: var(--sklearn-color-fitted-level-0);\n",
              "}\n",
              "\n",
              "/* on hover */\n",
              "#sk-container-id-2 div.sk-estimator:hover {\n",
              "  /* unfitted */\n",
              "  background-color: var(--sklearn-color-unfitted-level-2);\n",
              "}\n",
              "\n",
              "#sk-container-id-2 div.sk-estimator.fitted:hover {\n",
              "  /* fitted */\n",
              "  background-color: var(--sklearn-color-fitted-level-2);\n",
              "}\n",
              "\n",
              "/* Specification for estimator info (e.g. \"i\" and \"?\") */\n",
              "\n",
              "/* Common style for \"i\" and \"?\" */\n",
              "\n",
              ".sk-estimator-doc-link,\n",
              "a:link.sk-estimator-doc-link,\n",
              "a:visited.sk-estimator-doc-link {\n",
              "  float: right;\n",
              "  font-size: smaller;\n",
              "  line-height: 1em;\n",
              "  font-family: monospace;\n",
              "  background-color: var(--sklearn-color-background);\n",
              "  border-radius: 1em;\n",
              "  height: 1em;\n",
              "  width: 1em;\n",
              "  text-decoration: none !important;\n",
              "  margin-left: 0.5em;\n",
              "  text-align: center;\n",
              "  /* unfitted */\n",
              "  border: var(--sklearn-color-unfitted-level-1) 1pt solid;\n",
              "  color: var(--sklearn-color-unfitted-level-1);\n",
              "}\n",
              "\n",
              ".sk-estimator-doc-link.fitted,\n",
              "a:link.sk-estimator-doc-link.fitted,\n",
              "a:visited.sk-estimator-doc-link.fitted {\n",
              "  /* fitted */\n",
              "  border: var(--sklearn-color-fitted-level-1) 1pt solid;\n",
              "  color: var(--sklearn-color-fitted-level-1);\n",
              "}\n",
              "\n",
              "/* On hover */\n",
              "div.sk-estimator:hover .sk-estimator-doc-link:hover,\n",
              ".sk-estimator-doc-link:hover,\n",
              "div.sk-label-container:hover .sk-estimator-doc-link:hover,\n",
              ".sk-estimator-doc-link:hover {\n",
              "  /* unfitted */\n",
              "  background-color: var(--sklearn-color-unfitted-level-3);\n",
              "  color: var(--sklearn-color-background);\n",
              "  text-decoration: none;\n",
              "}\n",
              "\n",
              "div.sk-estimator.fitted:hover .sk-estimator-doc-link.fitted:hover,\n",
              ".sk-estimator-doc-link.fitted:hover,\n",
              "div.sk-label-container:hover .sk-estimator-doc-link.fitted:hover,\n",
              ".sk-estimator-doc-link.fitted:hover {\n",
              "  /* fitted */\n",
              "  background-color: var(--sklearn-color-fitted-level-3);\n",
              "  color: var(--sklearn-color-background);\n",
              "  text-decoration: none;\n",
              "}\n",
              "\n",
              "/* Span, style for the box shown on hovering the info icon */\n",
              ".sk-estimator-doc-link span {\n",
              "  display: none;\n",
              "  z-index: 9999;\n",
              "  position: relative;\n",
              "  font-weight: normal;\n",
              "  right: .2ex;\n",
              "  padding: .5ex;\n",
              "  margin: .5ex;\n",
              "  width: min-content;\n",
              "  min-width: 20ex;\n",
              "  max-width: 50ex;\n",
              "  color: var(--sklearn-color-text);\n",
              "  box-shadow: 2pt 2pt 4pt #999;\n",
              "  /* unfitted */\n",
              "  background: var(--sklearn-color-unfitted-level-0);\n",
              "  border: .5pt solid var(--sklearn-color-unfitted-level-3);\n",
              "}\n",
              "\n",
              ".sk-estimator-doc-link.fitted span {\n",
              "  /* fitted */\n",
              "  background: var(--sklearn-color-fitted-level-0);\n",
              "  border: var(--sklearn-color-fitted-level-3);\n",
              "}\n",
              "\n",
              ".sk-estimator-doc-link:hover span {\n",
              "  display: block;\n",
              "}\n",
              "\n",
              "/* \"?\"-specific style due to the `<a>` HTML tag */\n",
              "\n",
              "#sk-container-id-2 a.estimator_doc_link {\n",
              "  float: right;\n",
              "  font-size: 1rem;\n",
              "  line-height: 1em;\n",
              "  font-family: monospace;\n",
              "  background-color: var(--sklearn-color-background);\n",
              "  border-radius: 1rem;\n",
              "  height: 1rem;\n",
              "  width: 1rem;\n",
              "  text-decoration: none;\n",
              "  /* unfitted */\n",
              "  color: var(--sklearn-color-unfitted-level-1);\n",
              "  border: var(--sklearn-color-unfitted-level-1) 1pt solid;\n",
              "}\n",
              "\n",
              "#sk-container-id-2 a.estimator_doc_link.fitted {\n",
              "  /* fitted */\n",
              "  border: var(--sklearn-color-fitted-level-1) 1pt solid;\n",
              "  color: var(--sklearn-color-fitted-level-1);\n",
              "}\n",
              "\n",
              "/* On hover */\n",
              "#sk-container-id-2 a.estimator_doc_link:hover {\n",
              "  /* unfitted */\n",
              "  background-color: var(--sklearn-color-unfitted-level-3);\n",
              "  color: var(--sklearn-color-background);\n",
              "  text-decoration: none;\n",
              "}\n",
              "\n",
              "#sk-container-id-2 a.estimator_doc_link.fitted:hover {\n",
              "  /* fitted */\n",
              "  background-color: var(--sklearn-color-fitted-level-3);\n",
              "}\n",
              "</style><div id=\"sk-container-id-2\" class=\"sk-top-container\"><div class=\"sk-text-repr-fallback\"><pre>GridSearchCV(estimator=SVC(),\n",
              "             param_grid={&#x27;C&#x27;: [1, 10, 100, 1000],\n",
              "                         &#x27;gamma&#x27;: [1, 0.1, 0.01, 0.001, 0.0001],\n",
              "                         &#x27;kernel&#x27;: [&#x27;rbf&#x27;, &#x27;poly&#x27;]})</pre><b>In a Jupyter environment, please rerun this cell to show the HTML representation or trust the notebook. <br />On GitHub, the HTML representation is unable to render, please try loading this page with nbviewer.org.</b></div><div class=\"sk-container\" hidden><div class=\"sk-item sk-dashed-wrapped\"><div class=\"sk-label-container\"><div class=\"sk-label fitted sk-toggleable\"><input class=\"sk-toggleable__control sk-hidden--visually\" id=\"sk-estimator-id-2\" type=\"checkbox\" ><label for=\"sk-estimator-id-2\" class=\"sk-toggleable__label fitted sk-toggleable__label-arrow\"><div><div>GridSearchCV</div></div><div><a class=\"sk-estimator-doc-link fitted\" rel=\"noreferrer\" target=\"_blank\" href=\"https://scikit-learn.org/1.6/modules/generated/sklearn.model_selection.GridSearchCV.html\">?<span>Documentation for GridSearchCV</span></a><span class=\"sk-estimator-doc-link fitted\">i<span>Fitted</span></span></div></label><div class=\"sk-toggleable__content fitted\"><pre>GridSearchCV(estimator=SVC(),\n",
              "             param_grid={&#x27;C&#x27;: [1, 10, 100, 1000],\n",
              "                         &#x27;gamma&#x27;: [1, 0.1, 0.01, 0.001, 0.0001],\n",
              "                         &#x27;kernel&#x27;: [&#x27;rbf&#x27;, &#x27;poly&#x27;]})</pre></div> </div></div><div class=\"sk-parallel\"><div class=\"sk-parallel-item\"><div class=\"sk-item\"><div class=\"sk-label-container\"><div class=\"sk-label fitted sk-toggleable\"><input class=\"sk-toggleable__control sk-hidden--visually\" id=\"sk-estimator-id-3\" type=\"checkbox\" ><label for=\"sk-estimator-id-3\" class=\"sk-toggleable__label fitted sk-toggleable__label-arrow\"><div><div>best_estimator_: SVC</div></div></label><div class=\"sk-toggleable__content fitted\"><pre>SVC(C=1000, gamma=0.0001)</pre></div> </div></div><div class=\"sk-serial\"><div class=\"sk-item\"><div class=\"sk-estimator fitted sk-toggleable\"><input class=\"sk-toggleable__control sk-hidden--visually\" id=\"sk-estimator-id-4\" type=\"checkbox\" ><label for=\"sk-estimator-id-4\" class=\"sk-toggleable__label fitted sk-toggleable__label-arrow\"><div><div>SVC</div></div><div><a class=\"sk-estimator-doc-link fitted\" rel=\"noreferrer\" target=\"_blank\" href=\"https://scikit-learn.org/1.6/modules/generated/sklearn.svm.SVC.html\">?<span>Documentation for SVC</span></a></div></label><div class=\"sk-toggleable__content fitted\"><pre>SVC(C=1000, gamma=0.0001)</pre></div> </div></div></div></div></div></div></div></div></div>"
            ],
            "text/plain": [
              "GridSearchCV(estimator=SVC(),\n",
              "             param_grid={'C': [1, 10, 100, 1000],\n",
              "                         'gamma': [1, 0.1, 0.01, 0.001, 0.0001],\n",
              "                         'kernel': ['rbf', 'poly']})"
            ]
          },
          "execution_count": 18,
          "metadata": {},
          "output_type": "execute_result"
        }
      ],
      "source": [
        "grid = GridSearchCV(SVC(), param_grid, refit = True, verbose = 0)\n",
        "grid.fit(x_train, y_train)"
      ]
    },
    {
      "cell_type": "code",
      "execution_count": 19,
      "metadata": {
        "colab": {
          "base_uri": "https://localhost:8080/"
        },
        "id": "TNKP0L9cvHuu",
        "outputId": "42635a1d-b389-46fa-eb78-2fe738747ee1"
      },
      "outputs": [
        {
          "name": "stdout",
          "output_type": "stream",
          "text": [
            "{'C': 1000, 'gamma': 0.0001, 'kernel': 'rbf'}\n",
            "SVC(C=1000, gamma=0.0001)\n"
          ]
        }
      ],
      "source": [
        "# Print best parameter after tuning\n",
        "print(grid.best_params_)\n",
        "\n",
        "# Print how our model looks after hyper-parameter tuning\n",
        "print(grid.best_estimator_)"
      ]
    },
    {
      "cell_type": "code",
      "execution_count": 20,
      "metadata": {
        "colab": {
          "base_uri": "https://localhost:8080/"
        },
        "id": "QeurOmFjvUss",
        "outputId": "9c6ea252-f411-46e5-90da-e4ae9b1a6365"
      },
      "outputs": [
        {
          "name": "stdout",
          "output_type": "stream",
          "text": [
            "              precision    recall  f1-score   support\n",
            "\n",
            "   no-satire   0.960000  1.000000  0.979592        48\n",
            "      satire   1.000000  0.958333  0.978723        48\n",
            "\n",
            "    accuracy                       0.979167        96\n",
            "   macro avg   0.980000  0.979167  0.979158        96\n",
            "weighted avg   0.980000  0.979167  0.979158        96\n",
            "\n"
          ]
        }
      ],
      "source": [
        "grid_predictions = grid.predict(x_test)\n",
        "mfcc_predictions = [id2label[label] for label in grid_predictions]\n",
        "print(classification_report(test_df[\"label\"], mfcc_predictions, digits = 6, zero_division = 0))"
      ]
    },
    {
      "cell_type": "markdown",
      "metadata": {
        "id": "SJQK4wUY7ZlF"
      },
      "source": [
        "# Generation of the submission file\n",
        "Finally, an output file is generated with the predictions in the format required for submission to CodaLab."
      ]
    },
    {
      "cell_type": "code",
      "execution_count": 22,
      "metadata": {
        "colab": {
          "base_uri": "https://localhost:8080/"
        },
        "id": "bsbACeHyxB70",
        "outputId": "d0cf86eb-cf73-4b4e-aafd-ed407938ecdc"
      },
      "outputs": [
        {
          "name": "stdout",
          "output_type": "stream",
          "text": [
            "                   id     task_1     task_2\n",
            "0   2abcfbec-b59cdc92     satire  no-satire\n",
            "1   9c3f7d29-727fa523     satire     satire\n",
            "2   0e415924-8b600d71  no-satire  no-satire\n",
            "3   1f09022d-81190f9b  no-satire  no-satire\n",
            "4   aa352c05-532b33cc     satire     satire\n",
            "..                ...        ...        ...\n",
            "91  3826f75b-ba14c8e5     satire     satire\n",
            "92  86ae0b91-e42d0ad0     satire     satire\n",
            "93  4bfde41f-989b722b     satire     satire\n",
            "94  53b63159-64f00c13  no-satire  no-satire\n",
            "95  5b97747c-a4aca1b4     satire     satire\n",
            "\n",
            "[96 rows x 3 columns]\n"
          ]
        }
      ],
      "source": [
        "output_df = pd.DataFrame(columns=[\"id\", \"task_1\", \"task_2\"])\n",
        "output_df[\"id\"] = test_df[\"id\"].str.replace ('.mp3', '', regex = False)\n",
        "output_df[\"task_1\"] = text_predictions\n",
        "output_df[\"task_2\"] = mfcc_predictions\n",
        "print (output_df)\n",
        "output_df.to_csv ('results_baseline.csv', index = False)"
      ]
    },
    {
      "cell_type": "code",
      "execution_count": null,
      "metadata": {
        "id": "Plkv7mlk76o6"
      },
      "outputs": [],
      "source": []
    }
  ],
  "metadata": {
    "colab": {
      "provenance": []
    },
    "kernelspec": {
      "display_name": ".venv",
      "language": "python",
      "name": "python3"
    },
    "language_info": {
      "codemirror_mode": {
        "name": "ipython",
        "version": 3
      },
      "file_extension": ".py",
      "mimetype": "text/x-python",
      "name": "python",
      "nbconvert_exporter": "python",
      "pygments_lexer": "ipython3",
      "version": "3.12.6"
    }
  },
  "nbformat": 4,
  "nbformat_minor": 0
}
